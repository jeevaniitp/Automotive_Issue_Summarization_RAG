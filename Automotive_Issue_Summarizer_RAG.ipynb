{
  "nbformat": 4,
  "nbformat_minor": 0,
  "metadata": {
    "colab": {
      "provenance": [],
      "gpuType": "T4",
      "authorship_tag": "ABX9TyMR03FmG5ZrAEzRHl93vZ1a",
      "include_colab_link": true
    },
    "kernelspec": {
      "name": "python3",
      "display_name": "Python 3"
    },
    "language_info": {
      "name": "python"
    },
    "accelerator": "GPU",
    "widgets": {
      "application/vnd.jupyter.widget-state+json": {
        "6036fc5eb4d74c2bb8742890a80f41fd": {
          "model_module": "@jupyter-widgets/controls",
          "model_name": "HBoxModel",
          "model_module_version": "1.5.0",
          "state": {
            "_dom_classes": [],
            "_model_module": "@jupyter-widgets/controls",
            "_model_module_version": "1.5.0",
            "_model_name": "HBoxModel",
            "_view_count": null,
            "_view_module": "@jupyter-widgets/controls",
            "_view_module_version": "1.5.0",
            "_view_name": "HBoxView",
            "box_style": "",
            "children": [
              "IPY_MODEL_339b8502447c4d8cb11a7857a09c8260",
              "IPY_MODEL_825d8a4ef837497481c74eb558aae587",
              "IPY_MODEL_cbef03b0cb8244839e86b0693b656f41"
            ],
            "layout": "IPY_MODEL_3d453dd9ca13414db6226ef0d3d5af71"
          }
        },
        "339b8502447c4d8cb11a7857a09c8260": {
          "model_module": "@jupyter-widgets/controls",
          "model_name": "HTMLModel",
          "model_module_version": "1.5.0",
          "state": {
            "_dom_classes": [],
            "_model_module": "@jupyter-widgets/controls",
            "_model_module_version": "1.5.0",
            "_model_name": "HTMLModel",
            "_view_count": null,
            "_view_module": "@jupyter-widgets/controls",
            "_view_module_version": "1.5.0",
            "_view_name": "HTMLView",
            "description": "",
            "description_tooltip": null,
            "layout": "IPY_MODEL_24ca23d441084fe09ccb34af4d33224d",
            "placeholder": "​",
            "style": "IPY_MODEL_8fdb190b8c98492c86340a9c180c55c3",
            "value": "model.safetensors: 100%"
          }
        },
        "825d8a4ef837497481c74eb558aae587": {
          "model_module": "@jupyter-widgets/controls",
          "model_name": "FloatProgressModel",
          "model_module_version": "1.5.0",
          "state": {
            "_dom_classes": [],
            "_model_module": "@jupyter-widgets/controls",
            "_model_module_version": "1.5.0",
            "_model_name": "FloatProgressModel",
            "_view_count": null,
            "_view_module": "@jupyter-widgets/controls",
            "_view_module_version": "1.5.0",
            "_view_name": "ProgressView",
            "bar_style": "success",
            "description": "",
            "description_tooltip": null,
            "layout": "IPY_MODEL_6ca663ebca3d4ad8b8dadd011fead7db",
            "max": 5702746383,
            "min": 0,
            "orientation": "horizontal",
            "style": "IPY_MODEL_6657c54961064f7da6fc2a955e69e4c5",
            "value": 5702746383
          }
        },
        "cbef03b0cb8244839e86b0693b656f41": {
          "model_module": "@jupyter-widgets/controls",
          "model_name": "HTMLModel",
          "model_module_version": "1.5.0",
          "state": {
            "_dom_classes": [],
            "_model_module": "@jupyter-widgets/controls",
            "_model_module_version": "1.5.0",
            "_model_name": "HTMLModel",
            "_view_count": null,
            "_view_module": "@jupyter-widgets/controls",
            "_view_module_version": "1.5.0",
            "_view_name": "HTMLView",
            "description": "",
            "description_tooltip": null,
            "layout": "IPY_MODEL_fb5a3a0894144342be9d370da1eb0b26",
            "placeholder": "​",
            "style": "IPY_MODEL_4eaa1d0290904815b94196f1fd329ff2",
            "value": " 5.70G/5.70G [02:15&lt;00:00, 42.4MB/s]"
          }
        },
        "3d453dd9ca13414db6226ef0d3d5af71": {
          "model_module": "@jupyter-widgets/base",
          "model_name": "LayoutModel",
          "model_module_version": "1.2.0",
          "state": {
            "_model_module": "@jupyter-widgets/base",
            "_model_module_version": "1.2.0",
            "_model_name": "LayoutModel",
            "_view_count": null,
            "_view_module": "@jupyter-widgets/base",
            "_view_module_version": "1.2.0",
            "_view_name": "LayoutView",
            "align_content": null,
            "align_items": null,
            "align_self": null,
            "border": null,
            "bottom": null,
            "display": null,
            "flex": null,
            "flex_flow": null,
            "grid_area": null,
            "grid_auto_columns": null,
            "grid_auto_flow": null,
            "grid_auto_rows": null,
            "grid_column": null,
            "grid_gap": null,
            "grid_row": null,
            "grid_template_areas": null,
            "grid_template_columns": null,
            "grid_template_rows": null,
            "height": null,
            "justify_content": null,
            "justify_items": null,
            "left": null,
            "margin": null,
            "max_height": null,
            "max_width": null,
            "min_height": null,
            "min_width": null,
            "object_fit": null,
            "object_position": null,
            "order": null,
            "overflow": null,
            "overflow_x": null,
            "overflow_y": null,
            "padding": null,
            "right": null,
            "top": null,
            "visibility": null,
            "width": null
          }
        },
        "24ca23d441084fe09ccb34af4d33224d": {
          "model_module": "@jupyter-widgets/base",
          "model_name": "LayoutModel",
          "model_module_version": "1.2.0",
          "state": {
            "_model_module": "@jupyter-widgets/base",
            "_model_module_version": "1.2.0",
            "_model_name": "LayoutModel",
            "_view_count": null,
            "_view_module": "@jupyter-widgets/base",
            "_view_module_version": "1.2.0",
            "_view_name": "LayoutView",
            "align_content": null,
            "align_items": null,
            "align_self": null,
            "border": null,
            "bottom": null,
            "display": null,
            "flex": null,
            "flex_flow": null,
            "grid_area": null,
            "grid_auto_columns": null,
            "grid_auto_flow": null,
            "grid_auto_rows": null,
            "grid_column": null,
            "grid_gap": null,
            "grid_row": null,
            "grid_template_areas": null,
            "grid_template_columns": null,
            "grid_template_rows": null,
            "height": null,
            "justify_content": null,
            "justify_items": null,
            "left": null,
            "margin": null,
            "max_height": null,
            "max_width": null,
            "min_height": null,
            "min_width": null,
            "object_fit": null,
            "object_position": null,
            "order": null,
            "overflow": null,
            "overflow_x": null,
            "overflow_y": null,
            "padding": null,
            "right": null,
            "top": null,
            "visibility": null,
            "width": null
          }
        },
        "8fdb190b8c98492c86340a9c180c55c3": {
          "model_module": "@jupyter-widgets/controls",
          "model_name": "DescriptionStyleModel",
          "model_module_version": "1.5.0",
          "state": {
            "_model_module": "@jupyter-widgets/controls",
            "_model_module_version": "1.5.0",
            "_model_name": "DescriptionStyleModel",
            "_view_count": null,
            "_view_module": "@jupyter-widgets/base",
            "_view_module_version": "1.2.0",
            "_view_name": "StyleView",
            "description_width": ""
          }
        },
        "6ca663ebca3d4ad8b8dadd011fead7db": {
          "model_module": "@jupyter-widgets/base",
          "model_name": "LayoutModel",
          "model_module_version": "1.2.0",
          "state": {
            "_model_module": "@jupyter-widgets/base",
            "_model_module_version": "1.2.0",
            "_model_name": "LayoutModel",
            "_view_count": null,
            "_view_module": "@jupyter-widgets/base",
            "_view_module_version": "1.2.0",
            "_view_name": "LayoutView",
            "align_content": null,
            "align_items": null,
            "align_self": null,
            "border": null,
            "bottom": null,
            "display": null,
            "flex": null,
            "flex_flow": null,
            "grid_area": null,
            "grid_auto_columns": null,
            "grid_auto_flow": null,
            "grid_auto_rows": null,
            "grid_column": null,
            "grid_gap": null,
            "grid_row": null,
            "grid_template_areas": null,
            "grid_template_columns": null,
            "grid_template_rows": null,
            "height": null,
            "justify_content": null,
            "justify_items": null,
            "left": null,
            "margin": null,
            "max_height": null,
            "max_width": null,
            "min_height": null,
            "min_width": null,
            "object_fit": null,
            "object_position": null,
            "order": null,
            "overflow": null,
            "overflow_x": null,
            "overflow_y": null,
            "padding": null,
            "right": null,
            "top": null,
            "visibility": null,
            "width": null
          }
        },
        "6657c54961064f7da6fc2a955e69e4c5": {
          "model_module": "@jupyter-widgets/controls",
          "model_name": "ProgressStyleModel",
          "model_module_version": "1.5.0",
          "state": {
            "_model_module": "@jupyter-widgets/controls",
            "_model_module_version": "1.5.0",
            "_model_name": "ProgressStyleModel",
            "_view_count": null,
            "_view_module": "@jupyter-widgets/base",
            "_view_module_version": "1.2.0",
            "_view_name": "StyleView",
            "bar_color": null,
            "description_width": ""
          }
        },
        "fb5a3a0894144342be9d370da1eb0b26": {
          "model_module": "@jupyter-widgets/base",
          "model_name": "LayoutModel",
          "model_module_version": "1.2.0",
          "state": {
            "_model_module": "@jupyter-widgets/base",
            "_model_module_version": "1.2.0",
            "_model_name": "LayoutModel",
            "_view_count": null,
            "_view_module": "@jupyter-widgets/base",
            "_view_module_version": "1.2.0",
            "_view_name": "LayoutView",
            "align_content": null,
            "align_items": null,
            "align_self": null,
            "border": null,
            "bottom": null,
            "display": null,
            "flex": null,
            "flex_flow": null,
            "grid_area": null,
            "grid_auto_columns": null,
            "grid_auto_flow": null,
            "grid_auto_rows": null,
            "grid_column": null,
            "grid_gap": null,
            "grid_row": null,
            "grid_template_areas": null,
            "grid_template_columns": null,
            "grid_template_rows": null,
            "height": null,
            "justify_content": null,
            "justify_items": null,
            "left": null,
            "margin": null,
            "max_height": null,
            "max_width": null,
            "min_height": null,
            "min_width": null,
            "object_fit": null,
            "object_position": null,
            "order": null,
            "overflow": null,
            "overflow_x": null,
            "overflow_y": null,
            "padding": null,
            "right": null,
            "top": null,
            "visibility": null,
            "width": null
          }
        },
        "4eaa1d0290904815b94196f1fd329ff2": {
          "model_module": "@jupyter-widgets/controls",
          "model_name": "DescriptionStyleModel",
          "model_module_version": "1.5.0",
          "state": {
            "_model_module": "@jupyter-widgets/controls",
            "_model_module_version": "1.5.0",
            "_model_name": "DescriptionStyleModel",
            "_view_count": null,
            "_view_module": "@jupyter-widgets/base",
            "_view_module_version": "1.2.0",
            "_view_name": "StyleView",
            "description_width": ""
          }
        },
        "212e053c2fc44a2eb2b93405fa0d6ee9": {
          "model_module": "@jupyter-widgets/controls",
          "model_name": "HBoxModel",
          "model_module_version": "1.5.0",
          "state": {
            "_dom_classes": [],
            "_model_module": "@jupyter-widgets/controls",
            "_model_module_version": "1.5.0",
            "_model_name": "HBoxModel",
            "_view_count": null,
            "_view_module": "@jupyter-widgets/controls",
            "_view_module_version": "1.5.0",
            "_view_name": "HBoxView",
            "box_style": "",
            "children": [
              "IPY_MODEL_82a3522932fa43dfac3b3b07176da6ab",
              "IPY_MODEL_63087a76b5af4b8daee0e3d65534ab71",
              "IPY_MODEL_bacee2bb4e18478c80810ebe5088abbe"
            ],
            "layout": "IPY_MODEL_4e5f27ae3f1c4d449ad786d9f3c7f6a7"
          }
        },
        "82a3522932fa43dfac3b3b07176da6ab": {
          "model_module": "@jupyter-widgets/controls",
          "model_name": "HTMLModel",
          "model_module_version": "1.5.0",
          "state": {
            "_dom_classes": [],
            "_model_module": "@jupyter-widgets/controls",
            "_model_module_version": "1.5.0",
            "_model_name": "HTMLModel",
            "_view_count": null,
            "_view_module": "@jupyter-widgets/controls",
            "_view_module_version": "1.5.0",
            "_view_name": "HTMLView",
            "description": "",
            "description_tooltip": null,
            "layout": "IPY_MODEL_41575bcc14234daca178bd352942ab9e",
            "placeholder": "​",
            "style": "IPY_MODEL_4a267ad7f6f44a19a4f70d2d4a11a3d5",
            "value": "generation_config.json: 100%"
          }
        },
        "63087a76b5af4b8daee0e3d65534ab71": {
          "model_module": "@jupyter-widgets/controls",
          "model_name": "FloatProgressModel",
          "model_module_version": "1.5.0",
          "state": {
            "_dom_classes": [],
            "_model_module": "@jupyter-widgets/controls",
            "_model_module_version": "1.5.0",
            "_model_name": "FloatProgressModel",
            "_view_count": null,
            "_view_module": "@jupyter-widgets/controls",
            "_view_module_version": "1.5.0",
            "_view_name": "ProgressView",
            "bar_style": "success",
            "description": "",
            "description_tooltip": null,
            "layout": "IPY_MODEL_0fe7f07650de4a0e874a7a7031e441f2",
            "max": 234,
            "min": 0,
            "orientation": "horizontal",
            "style": "IPY_MODEL_8af8b18d32114fcbbec81cc83e4427fb",
            "value": 234
          }
        },
        "bacee2bb4e18478c80810ebe5088abbe": {
          "model_module": "@jupyter-widgets/controls",
          "model_name": "HTMLModel",
          "model_module_version": "1.5.0",
          "state": {
            "_dom_classes": [],
            "_model_module": "@jupyter-widgets/controls",
            "_model_module_version": "1.5.0",
            "_model_name": "HTMLModel",
            "_view_count": null,
            "_view_module": "@jupyter-widgets/controls",
            "_view_module_version": "1.5.0",
            "_view_name": "HTMLView",
            "description": "",
            "description_tooltip": null,
            "layout": "IPY_MODEL_a4b908a99b0f499d977f15f4d4539210",
            "placeholder": "​",
            "style": "IPY_MODEL_4e2280dbdb464fef9e57ec43b20cb40c",
            "value": " 234/234 [00:00&lt;00:00, 12.4kB/s]"
          }
        },
        "4e5f27ae3f1c4d449ad786d9f3c7f6a7": {
          "model_module": "@jupyter-widgets/base",
          "model_name": "LayoutModel",
          "model_module_version": "1.2.0",
          "state": {
            "_model_module": "@jupyter-widgets/base",
            "_model_module_version": "1.2.0",
            "_model_name": "LayoutModel",
            "_view_count": null,
            "_view_module": "@jupyter-widgets/base",
            "_view_module_version": "1.2.0",
            "_view_name": "LayoutView",
            "align_content": null,
            "align_items": null,
            "align_self": null,
            "border": null,
            "bottom": null,
            "display": null,
            "flex": null,
            "flex_flow": null,
            "grid_area": null,
            "grid_auto_columns": null,
            "grid_auto_flow": null,
            "grid_auto_rows": null,
            "grid_column": null,
            "grid_gap": null,
            "grid_row": null,
            "grid_template_areas": null,
            "grid_template_columns": null,
            "grid_template_rows": null,
            "height": null,
            "justify_content": null,
            "justify_items": null,
            "left": null,
            "margin": null,
            "max_height": null,
            "max_width": null,
            "min_height": null,
            "min_width": null,
            "object_fit": null,
            "object_position": null,
            "order": null,
            "overflow": null,
            "overflow_x": null,
            "overflow_y": null,
            "padding": null,
            "right": null,
            "top": null,
            "visibility": null,
            "width": null
          }
        },
        "41575bcc14234daca178bd352942ab9e": {
          "model_module": "@jupyter-widgets/base",
          "model_name": "LayoutModel",
          "model_module_version": "1.2.0",
          "state": {
            "_model_module": "@jupyter-widgets/base",
            "_model_module_version": "1.2.0",
            "_model_name": "LayoutModel",
            "_view_count": null,
            "_view_module": "@jupyter-widgets/base",
            "_view_module_version": "1.2.0",
            "_view_name": "LayoutView",
            "align_content": null,
            "align_items": null,
            "align_self": null,
            "border": null,
            "bottom": null,
            "display": null,
            "flex": null,
            "flex_flow": null,
            "grid_area": null,
            "grid_auto_columns": null,
            "grid_auto_flow": null,
            "grid_auto_rows": null,
            "grid_column": null,
            "grid_gap": null,
            "grid_row": null,
            "grid_template_areas": null,
            "grid_template_columns": null,
            "grid_template_rows": null,
            "height": null,
            "justify_content": null,
            "justify_items": null,
            "left": null,
            "margin": null,
            "max_height": null,
            "max_width": null,
            "min_height": null,
            "min_width": null,
            "object_fit": null,
            "object_position": null,
            "order": null,
            "overflow": null,
            "overflow_x": null,
            "overflow_y": null,
            "padding": null,
            "right": null,
            "top": null,
            "visibility": null,
            "width": null
          }
        },
        "4a267ad7f6f44a19a4f70d2d4a11a3d5": {
          "model_module": "@jupyter-widgets/controls",
          "model_name": "DescriptionStyleModel",
          "model_module_version": "1.5.0",
          "state": {
            "_model_module": "@jupyter-widgets/controls",
            "_model_module_version": "1.5.0",
            "_model_name": "DescriptionStyleModel",
            "_view_count": null,
            "_view_module": "@jupyter-widgets/base",
            "_view_module_version": "1.2.0",
            "_view_name": "StyleView",
            "description_width": ""
          }
        },
        "0fe7f07650de4a0e874a7a7031e441f2": {
          "model_module": "@jupyter-widgets/base",
          "model_name": "LayoutModel",
          "model_module_version": "1.2.0",
          "state": {
            "_model_module": "@jupyter-widgets/base",
            "_model_module_version": "1.2.0",
            "_model_name": "LayoutModel",
            "_view_count": null,
            "_view_module": "@jupyter-widgets/base",
            "_view_module_version": "1.2.0",
            "_view_name": "LayoutView",
            "align_content": null,
            "align_items": null,
            "align_self": null,
            "border": null,
            "bottom": null,
            "display": null,
            "flex": null,
            "flex_flow": null,
            "grid_area": null,
            "grid_auto_columns": null,
            "grid_auto_flow": null,
            "grid_auto_rows": null,
            "grid_column": null,
            "grid_gap": null,
            "grid_row": null,
            "grid_template_areas": null,
            "grid_template_columns": null,
            "grid_template_rows": null,
            "height": null,
            "justify_content": null,
            "justify_items": null,
            "left": null,
            "margin": null,
            "max_height": null,
            "max_width": null,
            "min_height": null,
            "min_width": null,
            "object_fit": null,
            "object_position": null,
            "order": null,
            "overflow": null,
            "overflow_x": null,
            "overflow_y": null,
            "padding": null,
            "right": null,
            "top": null,
            "visibility": null,
            "width": null
          }
        },
        "8af8b18d32114fcbbec81cc83e4427fb": {
          "model_module": "@jupyter-widgets/controls",
          "model_name": "ProgressStyleModel",
          "model_module_version": "1.5.0",
          "state": {
            "_model_module": "@jupyter-widgets/controls",
            "_model_module_version": "1.5.0",
            "_model_name": "ProgressStyleModel",
            "_view_count": null,
            "_view_module": "@jupyter-widgets/base",
            "_view_module_version": "1.2.0",
            "_view_name": "StyleView",
            "bar_color": null,
            "description_width": ""
          }
        },
        "a4b908a99b0f499d977f15f4d4539210": {
          "model_module": "@jupyter-widgets/base",
          "model_name": "LayoutModel",
          "model_module_version": "1.2.0",
          "state": {
            "_model_module": "@jupyter-widgets/base",
            "_model_module_version": "1.2.0",
            "_model_name": "LayoutModel",
            "_view_count": null,
            "_view_module": "@jupyter-widgets/base",
            "_view_module_version": "1.2.0",
            "_view_name": "LayoutView",
            "align_content": null,
            "align_items": null,
            "align_self": null,
            "border": null,
            "bottom": null,
            "display": null,
            "flex": null,
            "flex_flow": null,
            "grid_area": null,
            "grid_auto_columns": null,
            "grid_auto_flow": null,
            "grid_auto_rows": null,
            "grid_column": null,
            "grid_gap": null,
            "grid_row": null,
            "grid_template_areas": null,
            "grid_template_columns": null,
            "grid_template_rows": null,
            "height": null,
            "justify_content": null,
            "justify_items": null,
            "left": null,
            "margin": null,
            "max_height": null,
            "max_width": null,
            "min_height": null,
            "min_width": null,
            "object_fit": null,
            "object_position": null,
            "order": null,
            "overflow": null,
            "overflow_x": null,
            "overflow_y": null,
            "padding": null,
            "right": null,
            "top": null,
            "visibility": null,
            "width": null
          }
        },
        "4e2280dbdb464fef9e57ec43b20cb40c": {
          "model_module": "@jupyter-widgets/controls",
          "model_name": "DescriptionStyleModel",
          "model_module_version": "1.5.0",
          "state": {
            "_model_module": "@jupyter-widgets/controls",
            "_model_module_version": "1.5.0",
            "_model_name": "DescriptionStyleModel",
            "_view_count": null,
            "_view_module": "@jupyter-widgets/base",
            "_view_module_version": "1.2.0",
            "_view_name": "StyleView",
            "description_width": ""
          }
        },
        "d75e8210414943a6a23ca082fde19cfb": {
          "model_module": "@jupyter-widgets/controls",
          "model_name": "HBoxModel",
          "model_module_version": "1.5.0",
          "state": {
            "_dom_classes": [],
            "_model_module": "@jupyter-widgets/controls",
            "_model_module_version": "1.5.0",
            "_model_name": "HBoxModel",
            "_view_count": null,
            "_view_module": "@jupyter-widgets/controls",
            "_view_module_version": "1.5.0",
            "_view_name": "HBoxView",
            "box_style": "",
            "children": [
              "IPY_MODEL_8712529da5be4401814b9f33cb6a5fc4",
              "IPY_MODEL_325217afa73845ba948d1db38874fa04",
              "IPY_MODEL_69011a478cc1455b9204eacb1122dbd4"
            ],
            "layout": "IPY_MODEL_612bacb83e6c40bdac69899e8bdea100"
          }
        },
        "8712529da5be4401814b9f33cb6a5fc4": {
          "model_module": "@jupyter-widgets/controls",
          "model_name": "HTMLModel",
          "model_module_version": "1.5.0",
          "state": {
            "_dom_classes": [],
            "_model_module": "@jupyter-widgets/controls",
            "_model_module_version": "1.5.0",
            "_model_name": "HTMLModel",
            "_view_count": null,
            "_view_module": "@jupyter-widgets/controls",
            "_view_module_version": "1.5.0",
            "_view_name": "HTMLView",
            "description": "",
            "description_tooltip": null,
            "layout": "IPY_MODEL_03978846f6ed429483530a017f9cb7cd",
            "placeholder": "​",
            "style": "IPY_MODEL_289796fdf51b475a8debe3909d58c7ee",
            "value": "tokenizer_config.json: 100%"
          }
        },
        "325217afa73845ba948d1db38874fa04": {
          "model_module": "@jupyter-widgets/controls",
          "model_name": "FloatProgressModel",
          "model_module_version": "1.5.0",
          "state": {
            "_dom_classes": [],
            "_model_module": "@jupyter-widgets/controls",
            "_model_module_version": "1.5.0",
            "_model_name": "FloatProgressModel",
            "_view_count": null,
            "_view_module": "@jupyter-widgets/controls",
            "_view_module_version": "1.5.0",
            "_view_name": "ProgressView",
            "bar_style": "success",
            "description": "",
            "description_tooltip": null,
            "layout": "IPY_MODEL_1a7dc6ec582a40b68fef42e7710726e2",
            "max": 55421,
            "min": 0,
            "orientation": "horizontal",
            "style": "IPY_MODEL_b9d8a5e87e9448738bf3fa3d1623f40b",
            "value": 55421
          }
        },
        "69011a478cc1455b9204eacb1122dbd4": {
          "model_module": "@jupyter-widgets/controls",
          "model_name": "HTMLModel",
          "model_module_version": "1.5.0",
          "state": {
            "_dom_classes": [],
            "_model_module": "@jupyter-widgets/controls",
            "_model_module_version": "1.5.0",
            "_model_name": "HTMLModel",
            "_view_count": null,
            "_view_module": "@jupyter-widgets/controls",
            "_view_module_version": "1.5.0",
            "_view_name": "HTMLView",
            "description": "",
            "description_tooltip": null,
            "layout": "IPY_MODEL_de9a1c3e39e343f6b7f299a6dcf52f71",
            "placeholder": "​",
            "style": "IPY_MODEL_1e0513c74a9f4cb09da0cba96b104d84",
            "value": " 55.4k/55.4k [00:00&lt;00:00, 1.96MB/s]"
          }
        },
        "612bacb83e6c40bdac69899e8bdea100": {
          "model_module": "@jupyter-widgets/base",
          "model_name": "LayoutModel",
          "model_module_version": "1.2.0",
          "state": {
            "_model_module": "@jupyter-widgets/base",
            "_model_module_version": "1.2.0",
            "_model_name": "LayoutModel",
            "_view_count": null,
            "_view_module": "@jupyter-widgets/base",
            "_view_module_version": "1.2.0",
            "_view_name": "LayoutView",
            "align_content": null,
            "align_items": null,
            "align_self": null,
            "border": null,
            "bottom": null,
            "display": null,
            "flex": null,
            "flex_flow": null,
            "grid_area": null,
            "grid_auto_columns": null,
            "grid_auto_flow": null,
            "grid_auto_rows": null,
            "grid_column": null,
            "grid_gap": null,
            "grid_row": null,
            "grid_template_areas": null,
            "grid_template_columns": null,
            "grid_template_rows": null,
            "height": null,
            "justify_content": null,
            "justify_items": null,
            "left": null,
            "margin": null,
            "max_height": null,
            "max_width": null,
            "min_height": null,
            "min_width": null,
            "object_fit": null,
            "object_position": null,
            "order": null,
            "overflow": null,
            "overflow_x": null,
            "overflow_y": null,
            "padding": null,
            "right": null,
            "top": null,
            "visibility": null,
            "width": null
          }
        },
        "03978846f6ed429483530a017f9cb7cd": {
          "model_module": "@jupyter-widgets/base",
          "model_name": "LayoutModel",
          "model_module_version": "1.2.0",
          "state": {
            "_model_module": "@jupyter-widgets/base",
            "_model_module_version": "1.2.0",
            "_model_name": "LayoutModel",
            "_view_count": null,
            "_view_module": "@jupyter-widgets/base",
            "_view_module_version": "1.2.0",
            "_view_name": "LayoutView",
            "align_content": null,
            "align_items": null,
            "align_self": null,
            "border": null,
            "bottom": null,
            "display": null,
            "flex": null,
            "flex_flow": null,
            "grid_area": null,
            "grid_auto_columns": null,
            "grid_auto_flow": null,
            "grid_auto_rows": null,
            "grid_column": null,
            "grid_gap": null,
            "grid_row": null,
            "grid_template_areas": null,
            "grid_template_columns": null,
            "grid_template_rows": null,
            "height": null,
            "justify_content": null,
            "justify_items": null,
            "left": null,
            "margin": null,
            "max_height": null,
            "max_width": null,
            "min_height": null,
            "min_width": null,
            "object_fit": null,
            "object_position": null,
            "order": null,
            "overflow": null,
            "overflow_x": null,
            "overflow_y": null,
            "padding": null,
            "right": null,
            "top": null,
            "visibility": null,
            "width": null
          }
        },
        "289796fdf51b475a8debe3909d58c7ee": {
          "model_module": "@jupyter-widgets/controls",
          "model_name": "DescriptionStyleModel",
          "model_module_version": "1.5.0",
          "state": {
            "_model_module": "@jupyter-widgets/controls",
            "_model_module_version": "1.5.0",
            "_model_name": "DescriptionStyleModel",
            "_view_count": null,
            "_view_module": "@jupyter-widgets/base",
            "_view_module_version": "1.2.0",
            "_view_name": "StyleView",
            "description_width": ""
          }
        },
        "1a7dc6ec582a40b68fef42e7710726e2": {
          "model_module": "@jupyter-widgets/base",
          "model_name": "LayoutModel",
          "model_module_version": "1.2.0",
          "state": {
            "_model_module": "@jupyter-widgets/base",
            "_model_module_version": "1.2.0",
            "_model_name": "LayoutModel",
            "_view_count": null,
            "_view_module": "@jupyter-widgets/base",
            "_view_module_version": "1.2.0",
            "_view_name": "LayoutView",
            "align_content": null,
            "align_items": null,
            "align_self": null,
            "border": null,
            "bottom": null,
            "display": null,
            "flex": null,
            "flex_flow": null,
            "grid_area": null,
            "grid_auto_columns": null,
            "grid_auto_flow": null,
            "grid_auto_rows": null,
            "grid_column": null,
            "grid_gap": null,
            "grid_row": null,
            "grid_template_areas": null,
            "grid_template_columns": null,
            "grid_template_rows": null,
            "height": null,
            "justify_content": null,
            "justify_items": null,
            "left": null,
            "margin": null,
            "max_height": null,
            "max_width": null,
            "min_height": null,
            "min_width": null,
            "object_fit": null,
            "object_position": null,
            "order": null,
            "overflow": null,
            "overflow_x": null,
            "overflow_y": null,
            "padding": null,
            "right": null,
            "top": null,
            "visibility": null,
            "width": null
          }
        },
        "b9d8a5e87e9448738bf3fa3d1623f40b": {
          "model_module": "@jupyter-widgets/controls",
          "model_name": "ProgressStyleModel",
          "model_module_version": "1.5.0",
          "state": {
            "_model_module": "@jupyter-widgets/controls",
            "_model_module_version": "1.5.0",
            "_model_name": "ProgressStyleModel",
            "_view_count": null,
            "_view_module": "@jupyter-widgets/base",
            "_view_module_version": "1.2.0",
            "_view_name": "StyleView",
            "bar_color": null,
            "description_width": ""
          }
        },
        "de9a1c3e39e343f6b7f299a6dcf52f71": {
          "model_module": "@jupyter-widgets/base",
          "model_name": "LayoutModel",
          "model_module_version": "1.2.0",
          "state": {
            "_model_module": "@jupyter-widgets/base",
            "_model_module_version": "1.2.0",
            "_model_name": "LayoutModel",
            "_view_count": null,
            "_view_module": "@jupyter-widgets/base",
            "_view_module_version": "1.2.0",
            "_view_name": "LayoutView",
            "align_content": null,
            "align_items": null,
            "align_self": null,
            "border": null,
            "bottom": null,
            "display": null,
            "flex": null,
            "flex_flow": null,
            "grid_area": null,
            "grid_auto_columns": null,
            "grid_auto_flow": null,
            "grid_auto_rows": null,
            "grid_column": null,
            "grid_gap": null,
            "grid_row": null,
            "grid_template_areas": null,
            "grid_template_columns": null,
            "grid_template_rows": null,
            "height": null,
            "justify_content": null,
            "justify_items": null,
            "left": null,
            "margin": null,
            "max_height": null,
            "max_width": null,
            "min_height": null,
            "min_width": null,
            "object_fit": null,
            "object_position": null,
            "order": null,
            "overflow": null,
            "overflow_x": null,
            "overflow_y": null,
            "padding": null,
            "right": null,
            "top": null,
            "visibility": null,
            "width": null
          }
        },
        "1e0513c74a9f4cb09da0cba96b104d84": {
          "model_module": "@jupyter-widgets/controls",
          "model_name": "DescriptionStyleModel",
          "model_module_version": "1.5.0",
          "state": {
            "_model_module": "@jupyter-widgets/controls",
            "_model_module_version": "1.5.0",
            "_model_name": "DescriptionStyleModel",
            "_view_count": null,
            "_view_module": "@jupyter-widgets/base",
            "_view_module_version": "1.2.0",
            "_view_name": "StyleView",
            "description_width": ""
          }
        },
        "d9b2c7a78e6a49f9945c28b024dcd1f9": {
          "model_module": "@jupyter-widgets/controls",
          "model_name": "HBoxModel",
          "model_module_version": "1.5.0",
          "state": {
            "_dom_classes": [],
            "_model_module": "@jupyter-widgets/controls",
            "_model_module_version": "1.5.0",
            "_model_name": "HBoxModel",
            "_view_count": null,
            "_view_module": "@jupyter-widgets/controls",
            "_view_module_version": "1.5.0",
            "_view_name": "HBoxView",
            "box_style": "",
            "children": [
              "IPY_MODEL_ac62a67f9f934e9d85567f73e6de12de",
              "IPY_MODEL_0624ae423ef24dc2b10438c6a2bbb84a",
              "IPY_MODEL_18cc29fdd8cd4889accd3d419f38c3e1"
            ],
            "layout": "IPY_MODEL_985786999ed04b48bedc0b25ed614c0a"
          }
        },
        "ac62a67f9f934e9d85567f73e6de12de": {
          "model_module": "@jupyter-widgets/controls",
          "model_name": "HTMLModel",
          "model_module_version": "1.5.0",
          "state": {
            "_dom_classes": [],
            "_model_module": "@jupyter-widgets/controls",
            "_model_module_version": "1.5.0",
            "_model_name": "HTMLModel",
            "_view_count": null,
            "_view_module": "@jupyter-widgets/controls",
            "_view_module_version": "1.5.0",
            "_view_name": "HTMLView",
            "description": "",
            "description_tooltip": null,
            "layout": "IPY_MODEL_a14f5006b23747f382663904da4b84c4",
            "placeholder": "​",
            "style": "IPY_MODEL_d977bbe0cd634faa95303cdf78cb4652",
            "value": "tokenizer.json: 100%"
          }
        },
        "0624ae423ef24dc2b10438c6a2bbb84a": {
          "model_module": "@jupyter-widgets/controls",
          "model_name": "FloatProgressModel",
          "model_module_version": "1.5.0",
          "state": {
            "_dom_classes": [],
            "_model_module": "@jupyter-widgets/controls",
            "_model_module_version": "1.5.0",
            "_model_name": "FloatProgressModel",
            "_view_count": null,
            "_view_module": "@jupyter-widgets/controls",
            "_view_module_version": "1.5.0",
            "_view_name": "ProgressView",
            "bar_style": "success",
            "description": "",
            "description_tooltip": null,
            "layout": "IPY_MODEL_1a7775a5472b43e0b897227bffc50dee",
            "max": 9085657,
            "min": 0,
            "orientation": "horizontal",
            "style": "IPY_MODEL_68c4c626096e4cf784aceace4abbcd24",
            "value": 9085657
          }
        },
        "18cc29fdd8cd4889accd3d419f38c3e1": {
          "model_module": "@jupyter-widgets/controls",
          "model_name": "HTMLModel",
          "model_module_version": "1.5.0",
          "state": {
            "_dom_classes": [],
            "_model_module": "@jupyter-widgets/controls",
            "_model_module_version": "1.5.0",
            "_model_name": "HTMLModel",
            "_view_count": null,
            "_view_module": "@jupyter-widgets/controls",
            "_view_module_version": "1.5.0",
            "_view_name": "HTMLView",
            "description": "",
            "description_tooltip": null,
            "layout": "IPY_MODEL_428862db1cec4fc9819f19392f63ec6b",
            "placeholder": "​",
            "style": "IPY_MODEL_91817d81af7e48019e2b78d08420f5d9",
            "value": " 9.09M/9.09M [00:00&lt;00:00, 36.1MB/s]"
          }
        },
        "985786999ed04b48bedc0b25ed614c0a": {
          "model_module": "@jupyter-widgets/base",
          "model_name": "LayoutModel",
          "model_module_version": "1.2.0",
          "state": {
            "_model_module": "@jupyter-widgets/base",
            "_model_module_version": "1.2.0",
            "_model_name": "LayoutModel",
            "_view_count": null,
            "_view_module": "@jupyter-widgets/base",
            "_view_module_version": "1.2.0",
            "_view_name": "LayoutView",
            "align_content": null,
            "align_items": null,
            "align_self": null,
            "border": null,
            "bottom": null,
            "display": null,
            "flex": null,
            "flex_flow": null,
            "grid_area": null,
            "grid_auto_columns": null,
            "grid_auto_flow": null,
            "grid_auto_rows": null,
            "grid_column": null,
            "grid_gap": null,
            "grid_row": null,
            "grid_template_areas": null,
            "grid_template_columns": null,
            "grid_template_rows": null,
            "height": null,
            "justify_content": null,
            "justify_items": null,
            "left": null,
            "margin": null,
            "max_height": null,
            "max_width": null,
            "min_height": null,
            "min_width": null,
            "object_fit": null,
            "object_position": null,
            "order": null,
            "overflow": null,
            "overflow_x": null,
            "overflow_y": null,
            "padding": null,
            "right": null,
            "top": null,
            "visibility": null,
            "width": null
          }
        },
        "a14f5006b23747f382663904da4b84c4": {
          "model_module": "@jupyter-widgets/base",
          "model_name": "LayoutModel",
          "model_module_version": "1.2.0",
          "state": {
            "_model_module": "@jupyter-widgets/base",
            "_model_module_version": "1.2.0",
            "_model_name": "LayoutModel",
            "_view_count": null,
            "_view_module": "@jupyter-widgets/base",
            "_view_module_version": "1.2.0",
            "_view_name": "LayoutView",
            "align_content": null,
            "align_items": null,
            "align_self": null,
            "border": null,
            "bottom": null,
            "display": null,
            "flex": null,
            "flex_flow": null,
            "grid_area": null,
            "grid_auto_columns": null,
            "grid_auto_flow": null,
            "grid_auto_rows": null,
            "grid_column": null,
            "grid_gap": null,
            "grid_row": null,
            "grid_template_areas": null,
            "grid_template_columns": null,
            "grid_template_rows": null,
            "height": null,
            "justify_content": null,
            "justify_items": null,
            "left": null,
            "margin": null,
            "max_height": null,
            "max_width": null,
            "min_height": null,
            "min_width": null,
            "object_fit": null,
            "object_position": null,
            "order": null,
            "overflow": null,
            "overflow_x": null,
            "overflow_y": null,
            "padding": null,
            "right": null,
            "top": null,
            "visibility": null,
            "width": null
          }
        },
        "d977bbe0cd634faa95303cdf78cb4652": {
          "model_module": "@jupyter-widgets/controls",
          "model_name": "DescriptionStyleModel",
          "model_module_version": "1.5.0",
          "state": {
            "_model_module": "@jupyter-widgets/controls",
            "_model_module_version": "1.5.0",
            "_model_name": "DescriptionStyleModel",
            "_view_count": null,
            "_view_module": "@jupyter-widgets/base",
            "_view_module_version": "1.2.0",
            "_view_name": "StyleView",
            "description_width": ""
          }
        },
        "1a7775a5472b43e0b897227bffc50dee": {
          "model_module": "@jupyter-widgets/base",
          "model_name": "LayoutModel",
          "model_module_version": "1.2.0",
          "state": {
            "_model_module": "@jupyter-widgets/base",
            "_model_module_version": "1.2.0",
            "_model_name": "LayoutModel",
            "_view_count": null,
            "_view_module": "@jupyter-widgets/base",
            "_view_module_version": "1.2.0",
            "_view_name": "LayoutView",
            "align_content": null,
            "align_items": null,
            "align_self": null,
            "border": null,
            "bottom": null,
            "display": null,
            "flex": null,
            "flex_flow": null,
            "grid_area": null,
            "grid_auto_columns": null,
            "grid_auto_flow": null,
            "grid_auto_rows": null,
            "grid_column": null,
            "grid_gap": null,
            "grid_row": null,
            "grid_template_areas": null,
            "grid_template_columns": null,
            "grid_template_rows": null,
            "height": null,
            "justify_content": null,
            "justify_items": null,
            "left": null,
            "margin": null,
            "max_height": null,
            "max_width": null,
            "min_height": null,
            "min_width": null,
            "object_fit": null,
            "object_position": null,
            "order": null,
            "overflow": null,
            "overflow_x": null,
            "overflow_y": null,
            "padding": null,
            "right": null,
            "top": null,
            "visibility": null,
            "width": null
          }
        },
        "68c4c626096e4cf784aceace4abbcd24": {
          "model_module": "@jupyter-widgets/controls",
          "model_name": "ProgressStyleModel",
          "model_module_version": "1.5.0",
          "state": {
            "_model_module": "@jupyter-widgets/controls",
            "_model_module_version": "1.5.0",
            "_model_name": "ProgressStyleModel",
            "_view_count": null,
            "_view_module": "@jupyter-widgets/base",
            "_view_module_version": "1.2.0",
            "_view_name": "StyleView",
            "bar_color": null,
            "description_width": ""
          }
        },
        "428862db1cec4fc9819f19392f63ec6b": {
          "model_module": "@jupyter-widgets/base",
          "model_name": "LayoutModel",
          "model_module_version": "1.2.0",
          "state": {
            "_model_module": "@jupyter-widgets/base",
            "_model_module_version": "1.2.0",
            "_model_name": "LayoutModel",
            "_view_count": null,
            "_view_module": "@jupyter-widgets/base",
            "_view_module_version": "1.2.0",
            "_view_name": "LayoutView",
            "align_content": null,
            "align_items": null,
            "align_self": null,
            "border": null,
            "bottom": null,
            "display": null,
            "flex": null,
            "flex_flow": null,
            "grid_area": null,
            "grid_auto_columns": null,
            "grid_auto_flow": null,
            "grid_auto_rows": null,
            "grid_column": null,
            "grid_gap": null,
            "grid_row": null,
            "grid_template_areas": null,
            "grid_template_columns": null,
            "grid_template_rows": null,
            "height": null,
            "justify_content": null,
            "justify_items": null,
            "left": null,
            "margin": null,
            "max_height": null,
            "max_width": null,
            "min_height": null,
            "min_width": null,
            "object_fit": null,
            "object_position": null,
            "order": null,
            "overflow": null,
            "overflow_x": null,
            "overflow_y": null,
            "padding": null,
            "right": null,
            "top": null,
            "visibility": null,
            "width": null
          }
        },
        "91817d81af7e48019e2b78d08420f5d9": {
          "model_module": "@jupyter-widgets/controls",
          "model_name": "DescriptionStyleModel",
          "model_module_version": "1.5.0",
          "state": {
            "_model_module": "@jupyter-widgets/controls",
            "_model_module_version": "1.5.0",
            "_model_name": "DescriptionStyleModel",
            "_view_count": null,
            "_view_module": "@jupyter-widgets/base",
            "_view_module_version": "1.2.0",
            "_view_name": "StyleView",
            "description_width": ""
          }
        },
        "aeb1f2a18b6f4817836290637ca5393a": {
          "model_module": "@jupyter-widgets/controls",
          "model_name": "HBoxModel",
          "model_module_version": "1.5.0",
          "state": {
            "_dom_classes": [],
            "_model_module": "@jupyter-widgets/controls",
            "_model_module_version": "1.5.0",
            "_model_name": "HBoxModel",
            "_view_count": null,
            "_view_module": "@jupyter-widgets/controls",
            "_view_module_version": "1.5.0",
            "_view_name": "HBoxView",
            "box_style": "",
            "children": [
              "IPY_MODEL_bff688520f22451a9a9f3f89a60ffd1b",
              "IPY_MODEL_18821490b59c4da18a7b5b1dd3a1eccd",
              "IPY_MODEL_7a0c1b5cd3ed4cb3b8ef69703be71e97"
            ],
            "layout": "IPY_MODEL_b41c0b0dcfd04b5b97289b995acbbbab"
          }
        },
        "bff688520f22451a9a9f3f89a60ffd1b": {
          "model_module": "@jupyter-widgets/controls",
          "model_name": "HTMLModel",
          "model_module_version": "1.5.0",
          "state": {
            "_dom_classes": [],
            "_model_module": "@jupyter-widgets/controls",
            "_model_module_version": "1.5.0",
            "_model_name": "HTMLModel",
            "_view_count": null,
            "_view_module": "@jupyter-widgets/controls",
            "_view_module_version": "1.5.0",
            "_view_name": "HTMLView",
            "description": "",
            "description_tooltip": null,
            "layout": "IPY_MODEL_b9c15cefb73241439a91173efd0c221a",
            "placeholder": "​",
            "style": "IPY_MODEL_321ac7bf6948416594e90abe0075c007",
            "value": "special_tokens_map.json: 100%"
          }
        },
        "18821490b59c4da18a7b5b1dd3a1eccd": {
          "model_module": "@jupyter-widgets/controls",
          "model_name": "FloatProgressModel",
          "model_module_version": "1.5.0",
          "state": {
            "_dom_classes": [],
            "_model_module": "@jupyter-widgets/controls",
            "_model_module_version": "1.5.0",
            "_model_name": "FloatProgressModel",
            "_view_count": null,
            "_view_module": "@jupyter-widgets/controls",
            "_view_module_version": "1.5.0",
            "_view_name": "ProgressView",
            "bar_style": "success",
            "description": "",
            "description_tooltip": null,
            "layout": "IPY_MODEL_ba1ce43f5fb9478bac3c789084a44bde",
            "max": 340,
            "min": 0,
            "orientation": "horizontal",
            "style": "IPY_MODEL_d85239ff1f9d4ad48e8462bb5a2f763f",
            "value": 340
          }
        },
        "7a0c1b5cd3ed4cb3b8ef69703be71e97": {
          "model_module": "@jupyter-widgets/controls",
          "model_name": "HTMLModel",
          "model_module_version": "1.5.0",
          "state": {
            "_dom_classes": [],
            "_model_module": "@jupyter-widgets/controls",
            "_model_module_version": "1.5.0",
            "_model_name": "HTMLModel",
            "_view_count": null,
            "_view_module": "@jupyter-widgets/controls",
            "_view_module_version": "1.5.0",
            "_view_name": "HTMLView",
            "description": "",
            "description_tooltip": null,
            "layout": "IPY_MODEL_cc01b723258e4f6f8a3ea9a625981ee5",
            "placeholder": "​",
            "style": "IPY_MODEL_7cfba74253bb452e8c5c241c9df77cc8",
            "value": " 340/340 [00:00&lt;00:00, 8.80kB/s]"
          }
        },
        "b41c0b0dcfd04b5b97289b995acbbbab": {
          "model_module": "@jupyter-widgets/base",
          "model_name": "LayoutModel",
          "model_module_version": "1.2.0",
          "state": {
            "_model_module": "@jupyter-widgets/base",
            "_model_module_version": "1.2.0",
            "_model_name": "LayoutModel",
            "_view_count": null,
            "_view_module": "@jupyter-widgets/base",
            "_view_module_version": "1.2.0",
            "_view_name": "LayoutView",
            "align_content": null,
            "align_items": null,
            "align_self": null,
            "border": null,
            "bottom": null,
            "display": null,
            "flex": null,
            "flex_flow": null,
            "grid_area": null,
            "grid_auto_columns": null,
            "grid_auto_flow": null,
            "grid_auto_rows": null,
            "grid_column": null,
            "grid_gap": null,
            "grid_row": null,
            "grid_template_areas": null,
            "grid_template_columns": null,
            "grid_template_rows": null,
            "height": null,
            "justify_content": null,
            "justify_items": null,
            "left": null,
            "margin": null,
            "max_height": null,
            "max_width": null,
            "min_height": null,
            "min_width": null,
            "object_fit": null,
            "object_position": null,
            "order": null,
            "overflow": null,
            "overflow_x": null,
            "overflow_y": null,
            "padding": null,
            "right": null,
            "top": null,
            "visibility": null,
            "width": null
          }
        },
        "b9c15cefb73241439a91173efd0c221a": {
          "model_module": "@jupyter-widgets/base",
          "model_name": "LayoutModel",
          "model_module_version": "1.2.0",
          "state": {
            "_model_module": "@jupyter-widgets/base",
            "_model_module_version": "1.2.0",
            "_model_name": "LayoutModel",
            "_view_count": null,
            "_view_module": "@jupyter-widgets/base",
            "_view_module_version": "1.2.0",
            "_view_name": "LayoutView",
            "align_content": null,
            "align_items": null,
            "align_self": null,
            "border": null,
            "bottom": null,
            "display": null,
            "flex": null,
            "flex_flow": null,
            "grid_area": null,
            "grid_auto_columns": null,
            "grid_auto_flow": null,
            "grid_auto_rows": null,
            "grid_column": null,
            "grid_gap": null,
            "grid_row": null,
            "grid_template_areas": null,
            "grid_template_columns": null,
            "grid_template_rows": null,
            "height": null,
            "justify_content": null,
            "justify_items": null,
            "left": null,
            "margin": null,
            "max_height": null,
            "max_width": null,
            "min_height": null,
            "min_width": null,
            "object_fit": null,
            "object_position": null,
            "order": null,
            "overflow": null,
            "overflow_x": null,
            "overflow_y": null,
            "padding": null,
            "right": null,
            "top": null,
            "visibility": null,
            "width": null
          }
        },
        "321ac7bf6948416594e90abe0075c007": {
          "model_module": "@jupyter-widgets/controls",
          "model_name": "DescriptionStyleModel",
          "model_module_version": "1.5.0",
          "state": {
            "_model_module": "@jupyter-widgets/controls",
            "_model_module_version": "1.5.0",
            "_model_name": "DescriptionStyleModel",
            "_view_count": null,
            "_view_module": "@jupyter-widgets/base",
            "_view_module_version": "1.2.0",
            "_view_name": "StyleView",
            "description_width": ""
          }
        },
        "ba1ce43f5fb9478bac3c789084a44bde": {
          "model_module": "@jupyter-widgets/base",
          "model_name": "LayoutModel",
          "model_module_version": "1.2.0",
          "state": {
            "_model_module": "@jupyter-widgets/base",
            "_model_module_version": "1.2.0",
            "_model_name": "LayoutModel",
            "_view_count": null,
            "_view_module": "@jupyter-widgets/base",
            "_view_module_version": "1.2.0",
            "_view_name": "LayoutView",
            "align_content": null,
            "align_items": null,
            "align_self": null,
            "border": null,
            "bottom": null,
            "display": null,
            "flex": null,
            "flex_flow": null,
            "grid_area": null,
            "grid_auto_columns": null,
            "grid_auto_flow": null,
            "grid_auto_rows": null,
            "grid_column": null,
            "grid_gap": null,
            "grid_row": null,
            "grid_template_areas": null,
            "grid_template_columns": null,
            "grid_template_rows": null,
            "height": null,
            "justify_content": null,
            "justify_items": null,
            "left": null,
            "margin": null,
            "max_height": null,
            "max_width": null,
            "min_height": null,
            "min_width": null,
            "object_fit": null,
            "object_position": null,
            "order": null,
            "overflow": null,
            "overflow_x": null,
            "overflow_y": null,
            "padding": null,
            "right": null,
            "top": null,
            "visibility": null,
            "width": null
          }
        },
        "d85239ff1f9d4ad48e8462bb5a2f763f": {
          "model_module": "@jupyter-widgets/controls",
          "model_name": "ProgressStyleModel",
          "model_module_version": "1.5.0",
          "state": {
            "_model_module": "@jupyter-widgets/controls",
            "_model_module_version": "1.5.0",
            "_model_name": "ProgressStyleModel",
            "_view_count": null,
            "_view_module": "@jupyter-widgets/base",
            "_view_module_version": "1.2.0",
            "_view_name": "StyleView",
            "bar_color": null,
            "description_width": ""
          }
        },
        "cc01b723258e4f6f8a3ea9a625981ee5": {
          "model_module": "@jupyter-widgets/base",
          "model_name": "LayoutModel",
          "model_module_version": "1.2.0",
          "state": {
            "_model_module": "@jupyter-widgets/base",
            "_model_module_version": "1.2.0",
            "_model_name": "LayoutModel",
            "_view_count": null,
            "_view_module": "@jupyter-widgets/base",
            "_view_module_version": "1.2.0",
            "_view_name": "LayoutView",
            "align_content": null,
            "align_items": null,
            "align_self": null,
            "border": null,
            "bottom": null,
            "display": null,
            "flex": null,
            "flex_flow": null,
            "grid_area": null,
            "grid_auto_columns": null,
            "grid_auto_flow": null,
            "grid_auto_rows": null,
            "grid_column": null,
            "grid_gap": null,
            "grid_row": null,
            "grid_template_areas": null,
            "grid_template_columns": null,
            "grid_template_rows": null,
            "height": null,
            "justify_content": null,
            "justify_items": null,
            "left": null,
            "margin": null,
            "max_height": null,
            "max_width": null,
            "min_height": null,
            "min_width": null,
            "object_fit": null,
            "object_position": null,
            "order": null,
            "overflow": null,
            "overflow_x": null,
            "overflow_y": null,
            "padding": null,
            "right": null,
            "top": null,
            "visibility": null,
            "width": null
          }
        },
        "7cfba74253bb452e8c5c241c9df77cc8": {
          "model_module": "@jupyter-widgets/controls",
          "model_name": "DescriptionStyleModel",
          "model_module_version": "1.5.0",
          "state": {
            "_model_module": "@jupyter-widgets/controls",
            "_model_module_version": "1.5.0",
            "_model_name": "DescriptionStyleModel",
            "_view_count": null,
            "_view_module": "@jupyter-widgets/base",
            "_view_module_version": "1.2.0",
            "_view_name": "StyleView",
            "description_width": ""
          }
        }
      }
    }
  },
  "cells": [
    {
      "cell_type": "markdown",
      "metadata": {
        "id": "view-in-github",
        "colab_type": "text"
      },
      "source": [
        "<a href=\"https://colab.research.google.com/github/jeevaniitp/Automotive_Issue_Summarization_RAG/blob/main/Automotive_Issue_Summarizer_RAG.ipynb\" target=\"_parent\"><img src=\"https://colab.research.google.com/assets/colab-badge.svg\" alt=\"Open In Colab\"/></a>"
      ]
    },
    {
      "cell_type": "markdown",
      "source": [
        "##Introduction"
      ],
      "metadata": {
        "id": "xug9UKKWkMFz"
      }
    },
    {
      "cell_type": "markdown",
      "source": [
        "This notebook is an implementation of RAG (Retrieval Augmented Generation) for Automotive Issue Summarization task.\n",
        "\n",
        "\n",
        "*   Dataset: NHTSA Recalls (https://www.nhtsa.gov/nhtsa-datasets-and-apis)\n",
        "*   Embeddings: (https://huggingface.co/sentence-transformers/all-MiniLM-L12-v2)\n",
        "*   LLM Model: (unsloth/Meta-Llama-3.1-8B-Instruct-bnb-4bit)\n",
        "\n",
        "Justification for choice:\n",
        "*   all-MiniLM-L12-v2 is a small model (good efficiency) and has good performance in semantic search tasks\n",
        "*   I have used Llama 3.1 8B Instrut and quantized model, which is fine tuned to follow instructions given in prompt, and is a quantized model which consumes less resources and has fast inference (considering the compute resource on Colab environment)."
      ],
      "metadata": {
        "id": "hDkb3ihRkvIV"
      }
    },
    {
      "cell_type": "markdown",
      "source": [
        "RAG Agent Data Flow diagram"
      ],
      "metadata": {
        "id": "FZ-pU-0nqhSf"
      }
    },
    {
      "cell_type": "markdown",
      "source": [
        "![image.png](data:image/png;base64,iVBORw0KGgoAAAANSUhEUgAABNwAAAKhCAYAAACLoLM1AAAAAXNSR0IArs4c6QAAAARnQU1BAACxjwv8YQUAAAAJcEhZcwAADsMAAA7DAcdvqGQAAMRlSURBVHhe7N17WNRl/v/xF2dEQAQlxSMmaYlGFmWimZKuYWb2TXY9lZkd1N21trLftplt1u6lbVvu5mHL7KDmpm1mhrmamiZlkUZ5Djc8oqIgiCJnfn8M4szNQdABZobn47q4mnnf94wz85nm8Jr74FZaWloqAAAMNXt7cCs/VapL97/Y2z5qdhsBAJfLzc2+r9w1edV2s3m3uPQl7H0bAQCwBzcCNwBAVWr+FlH5l52ahHCXUvk1AwAa2pW/wpvhmrWaXTthGwDAURG4AQBqrOZvGZV/AbJHAAcAcE5Vh2siYAMAuBwCNwBArVzZ20btvygR0gGAY6o+QKvMlb2eE7YBAJwJgRsAoNbs+9bBFygAcD32fJ8gbAMAOB8CNwDAZeHtAwBQHwjbAADOiMANAFCneJsBAFSGIA0A4MrczQIAAPbEFyoAgDU3NzfeGwAALo/ADQBQ5/hiBQAAAKAxYUopAAAAAAAAYEeMcAMAAAAAAADsiMANAAAAAAAAsCMCNwAAAAAAAMCOCNwAAAAAAAAAOyJwAwAAAAAAAOyIwA0AAAAAAACwIwI3AAAAAAAAwI7cSktLS80iAAAA4MwKsop17mChzh0sVO6hQp07VKji8yVmNzQwz6bu8mvvpaYdvNS0vZf8w73l6c+YAACA8yNwAwAAgEsoLZZOJ5/XiS/P6dyBQrMZTqJpRy9ddXtTNb+hidzI3gAATorADQAAAE6tOLdEJ7/O1YlNuSrMKjab4aS8gjx0VT8/tezTVB6+bmYzAAAOjcANAAAATqm0REr/8pzSPs9RcR4faV2Vp5+72gwNUMsYP4ncDQDgJAjcAAAA4HRy9hfo4L+zlXeiyGyCi/Jr46UOv2mmph29zCYAABwOgRsAAACcSkbSeR1cmq2SQj7GNjYePm7qOCZIzaN8zSYAABwKgRsAAACcQmmJdGTlGZ3YcM5sQmPiJrUZEqDWg/yZYgoAcFgEbgAAAHB4RedK9L+Fp5Xzc4HZhEYqqIevwscGsaECAMAhsdE2AAAAHFppiXRo2RnCNtjI+ilPR1aeMcsAADgERrih0crSfmXrF+UrSwU6oyLlKl9Zyle22RVOwkv+8laAvBUob/nLW4EKUHs1Vxd5yMfsDgBwEof/c0YnvmQaKSrX9u4AtRrob5YBAGhQBG5oNAp1Tqe0Q5naoyz9rGLxK3ljEqTOClE3hShSvgo2mwEADionpUD7/pFhloFybh5u6vpEiJp2YPdSAIDjIHCDy8vXaR3Qf5WubSpVidmMRqi5rlG47pK/2phNAAAHUlpUqh0zTqogs9hsAmw0ae2p6/5fS7mxYA4AwEEQuMFlFeqsDmqt0pRoNgGSpBBFqpPuUhO1NJsAAA7g+LqzOvJpjlkGKtXh183Uso+fWQYAoEEQuMElHdFGHdBalTBtFDUQpj7qrOFmGQDQgIrOlmjHn9NVnMdHVdSMZ4C7uj8fyq6lAACHwKBruJRiFWin3tYv+oywDTWWpi36Qa+rQOx0BgCOIn3zOcI21EpRTokyvz9vlgEAaBAEbnAZ+cpWsmYrU7vNJuCScnRY2/V3ndURswkAUM9KCkt14stcs1w/Uicr+o0wRS+drzSzDQ7vxMZzKmXJXgCAAyBwg0s4r3T9oNd0TsfNJqDGCpSjZP2T0BYAGtiZPfkqPk9qgtrLSy/S2f8xywEA0PAI3OD08pShZL2hArGoMq5ciYq0UwuVoV1mEwCgnpz61nWnBRbkpSv1yGrtO2u2wF5OfdtAoyMBALBC4AanVqiz+lFzVahzZhNwBUq1W+8pW6lmAwCgjpUWlyonJd8su4j1mrEgSvGfTNDik2Yb7OVsCiPcAAANj8ANTqxUO/W28pVlNgBXrFTF2qW32UgBAOpZ7uFCFZ9nswRcvvzMYuWdLDLLAADUKwI3OK2DWqscHTLLgN0U6bz2aLEkvvgBQH05f4KgBFeu4FSxWQIAoF65lZaW8k0STuesjmi7XjPLQJ3orOEKUx+zDACoA2kJOUpbU3cLnBVkr9ey72Zq8f6dyijLZAJCh2v8Lc8ovkN7eadOVnTCCinkea0c+ZjCzCuQpLydWvn9i1ryc5JSc8umv3qEKrz1vZrY/xn1b+Zj0z1tez8N+zrFplbRcL3+2zmKsanlK+3gO5r37XwlnkpXTtk+EgH+kYrp+VdNjbxRAVfw83lB9mq9veV1rTx08bGQT4SiO4/TxFsfVHdf4wKSVHxIG7//k97etUX7Ltx390CFtIjVQ33/qhGtA606p2v5R1GadVzy7rFKibfdaNVWiYyZGrZ0ttIUq+ceXqRhtg9jrXQY2Uwte/uZZQAA6s0VvEUDDaVU+7TULAJ1JlWrWScQAOpJfmbdjUxK3RWvwYvGavY+q4BJUk76Cs1e1Ut3r19/yS2YUneN1eAFg/RS8paLYZskFacr9ch8TV10vaal2mE5gvwtmr0kXMNWvag16RfDNknKObtTazYP1YCP5iv1sjZzPaOkLf0Us2iCFqbaPhbKT1HSrj9p/IIovWTej/z1mrawl6Ymrb8YtklSyRllpK/QrP901bDNW6wew1AN6xEnSSrY9bGSLnFb9/28VGmS1Ole3XkFYZskFWbV3fMIAICaIHCD0zmmb3VOx80yUGeKla9UfWaWAQB1oKSgjiZfHPuTHtpoCYMC2j2vueNSlfTbNCX9Nk2JD2/S61E3KmPPWI3Zss28ZLmcfWMVv3G9MiSFd1ugZQ9fvI6kRzfpuU6Bks5ozVfzbLbdCeu5qazfIg0uqw0eUna58j/r0W07NXtJvBafluQXqyn3JCtx0oV+qVpzzxR1kaT0FzVvf+03mEjdfp8mJadIClR09CIte/Ti7Ugct0xTOoRKStfKhPu0OPvCpfK1Zv1YrcmXFPqgXh9tfd+TNbd3rEIkpe1foZ8KL/5b3uFD1F+Sij/QxrSL9Yq2aWVyuiRp8LXD5W0211JJYR09jwAAqCECNziZUh3WerMI1LkT+l4Flxz3AAC4UsV5dRGUpGt54juWV/HwOVo57DFF+18cQuXtE6GYPqu0YfBwncquen3YgE7jNMwnUIOH7NWy/nEK97EahuUVoWED/2oJzc6sV+IVDXKL1IiekVLo81o2bpHGtA2Vd/mndh+FtH1G024MlSRtPLzF+oKXlj1fz3y9U5KPBsd9p7m3xCrc62Kzt38fjRm6Wa93CZT8rlJA+ai0nfrpoCSFavztLyumufV9D1V0z0X6dOxaLRv9qmKsrk9ewzUi0kdSvpbvqeYz3LGPtbJYkseDuruD2Vh7JWxUCgBoYARucCqntEN5yjTLQJ0rVYmOapNZBgA4g+yPtfy4JLXX+F7DFWC2lwnoPF2PtzKrVrxi9dzDezUj3HqdssrkX/F+O2FRa5UU/5jCL/Vp/RLTNE07fpxpGX3X6nk93qmq+xGomAE/KnHcIg1rfqHmowAfScpWThVhlnezSIVXMhU0ussoy4i1fR8rsYrbm7TvAxVICokaqehL3WcAAJwAb2dwKmlKNEtAvTmmrSqt7TcbAECtePi6maUrVnAi0RIy+Q3XgBCz1VqobgqPMIs1kK+cjNV6adnkuv+kUpiupO1jNWWbZfpl7aQo6bBlCmr0tUNU7UPh4WM1qk6SItWnc6BlpNrGJ7UxuxZTWVuP05hASVqhlZVNgS3Zoo178iW117BrIs3Wy+J+pXNSAQC4QgRucBoFOqMs/c8sA/WmSOd1WvvMMgDAjty97R+4nTpbNk20SbMqR7ddEB5cg8CnJF+pR1Zo8ZbJmrQkSjFvhGvA0glaedrseOUKcncqcedMvZQwSIPfClP0v6I06WvLOnK1d0ipZbcxxM8yJbU2ut/6kcaHSspeqqmLwhX9Vj9NWjtTy/dvUWp+JUFauQgN7tJekrRx/2pVGCB3cKmWF0sKGadh1aaANefuZf/nEQAAtUHgBqeRrh90xfMzgCtkeR4CAOqKT7CHWbKfFhEKM2u1kq/UnyZo8PxwxX8yWbOTVyjpdLYC/CMVE/W8Xh+7oHxThCuWt16z/x2umIWD9PiXs7UydacyFKrwtsM1PnatFt56OSPxLohQl2CzVgNekZp4314tjp2imNBAy46mP8/WrDXxin8rXNFLqh75Ft7tUXWXpF8+1garTRWkfK3Zs0KS1L3bvVd4fC7yCqrD5xEAADVA4AancVp7zRJQ77L0s1kCANiRd4s6DEpOpajajTIvIWPXWMVvXq2MklDF9F6mlQ+nWnYNHbdWr/d5TDHNKlnA7HKUbNOsRWO1+FS+1HykZo3ca9ml9OFkLbtnjiZeG6mQKxrAlaJ9l7skrnugulz7jF6P36ukSanaMHKZZvQeqe5+kk4v1dRFY7XyrHkhSf5DNKytJK3Xpz9bTYctXK0Nv0hSHw3rXPtRd1XxaV6HzyMAAGqAwA1OolTZ+sUsAvWuQDnKu8yJPACAS2tyladZumIt/C3TGZV1+JKv4KmZO81SmZ1a9q1lR9CY2M16vWcfhVnvUmpHBftf1/J8SX6PaeHIV9U/JNBYT+1ytVd42SYIGbmXswacwd1HASF9NLjnq1o4bpOmhErSFs3bUdljGKo7r4uTJCXtSSg/DgWpCdooSZ1G6k4/6/5Xpk6DWwAAasAub91AXctXtkpUZJaBBnFOJ8wSAMBOmrT1svv6W95XxShckorXa0u1iVu6vk9NMYtlTigtV5IidFNYFbt7Znyvn8zaZShfc65djLpX+mk9Xz8dr+p2VidC0e0sIaF16FWpjNmaunG10orNhiq4R2hAZ8s014yzlb9PeocPUX9JOv6xNpyVpHxtSFktSerfOc6yk6kdeAd5yLeF/YNbAABqo9K3cMDRFOiMWXIuRUU6+Pk2zRrwroY3+bv6uZX9NfmX7h+wWgveSddZ8kSnka8sswQAsBN3Tzf5d7ZX9FKmWaz6B0rSIS3cukI5ZnuZnP1/1uvHzaqpqumYZ7Rx2/xLTFm9SmEXRnHVZFnaqqbAnp6vhZc58L/79c9Ywsfjf9KMPVV8vio5pOVfzdTGXRP03K6ykXAlKVr8UbjGbEupuOlBmYy8bLNky2u4RkT6SNqm5T8fknI/1qepkjwe1IjO9hstGNDFW7JvZgsAQK0RuMEpFKiyxUCcQ8HOZD3T7h+6P26TEjZmKjPPqjHvnA5u3KtF4xdrSJN3NffzyhcahmMp0CW+UAAArkhoHzvOLZQkReihfiMtO5SmTtawlfOVdNbqPbcwRYnfxmvYmhVq0axs+mkF3XVTO8upNV9M0MrTFy9fkLtFi1fdpqk/q2zq5yEdyKrsPT1C4a0sp9Z8P1M7LnwmKEzRxu0rysO1sLBYy23NeFFTv9mijAujzErylbr/ScUvnalUj7KAKjtFaSVl7WVyUp/U4Llhip47VIvNnVObPaaZvS07sSauv1mTvl2vVKtNDApOr9e8VYM064gkn5F66FrLumoFh+dr3vF87fumn+5eZTx+xenat3OCpmy3hHP9O/S52GaI7jJK3pJSdy5V4v4PlCTJ+9o7FW3HbyUtbrH38wcAgNpzKy0trcnva0CDStcP2qvFZtnhnV21VmPv3qlMSWoVrrEL++k3fYPl71/WIS9fB7/Zow8nbVDCXkny0W0fjNOMkU1trgeOpZV66RqNMMsAADspLZZ+nHZCRTlGknSFUpOHKn7LNrNcrnv0Ks0OXagBCSukkOe1cuRjtrtmnp6vMUte1D7rWrlARceu1dNn4hWfVDYlVBGaMnaTxjSz6pY+U8OWza5k5JqPRtyTqqltJemMEtfdrMf3VTECrdljWji8uxa9O9my/pkkdVmkpIGxkqTEdWF6vOxGhkWv1cpbLAHbRWeUtGWoJiVXMy3Vp4+eu2+ZhpWt+SblK3X7fYr/uurHT5JCrl2k5bFlgWGlUjTv/X5aWH7XQjU+PlkT7bRfgk+Ih7pPD2WEGwCgwdnxtySgLtn3A3e9yNqrGWVhm//YoUo4PFwT7rQK2yTJ10cd+kdp6p7JmvvHUEn52jxqhT5kQ1aHVizrYYoAAHtz85Ba9bf/j0/hUau04TevakzbCAVc+BTsHqjwto/pud/s1cJbbqwmKJLU/DEtHrdM4ztZXV4+Cgkdrqn/953mXtte4dGL9FynsvTIPV8F5kC30Ge0+L6XNTg09OKaZR7tFR01R2NaXygEKmbgd1oWO1Jd/KymWvpEKDpqgVaOel7d/Ydr2j2PqUvZ3gDexWfKp8r26DxSIZLkfqNGXGOGbbKEg302KXHsAo0Pj1SI1f4C3n6RioleoJXjrcM2SfJReM9VShy7SFO69VG49e1yD1RI6HBNGbpVn1YbtklShAZ3sRpFGDhSg+0UtklSqzv8CdsAAA6BEW5wCsf1nX7Wh2bZoW2f9A89Ma9I6niLFqTEKOKSa/eeU8KAf2nWRkn9B2nFhkgFm13gEILVVZF62CwDAOyoOLdEPz6XrpJCPqqiZrwC3dX9hVC7b7oBAMDlYIQbUBfO7tWKeZZdEHr95ZYahG2S1FRDpkVZfu3e+L3W7Tfbs/Vhd8tmCzNWmW1W9m/T/W5/Vz+31dpqtlkp2J+qD+9fbLOJw8DW7+qJP+xUyimzt8WxV9619L0/VVKRji1fqwnNrS4fkahdklKefdtSuzXZMp22OjsT9Ru3v6uf2yp94SRL9ZXWaKVrAMCV8PBzV9id1sPCgeqF3RlA2AYAcBgEbkBd2PiLNkuS2uu2/jVK2yz6h2ugJClT61bV1cL8+dr1/FINjFihuYvSbTZxKDieqe2vrdWE1ku1YKs5B8ZakQ6+8m/9Jn6nUqw27Cy4NkQRkiLGR6mDJG3dpo93Wl2sEgeX7dUxSd4Tr9cdfK8CAFgJvb2pfIKt5jsCVWjSylMterNZAgDAcRC4AXXg4E7LLl1q1VrXlO1GVjOh6tbfcirlh0uODbssx15brkkzjklqqtvmjtGKnD9oU6nlb93h+zRpoI9UdEyL+q/X1qpGnH21Wc9MzVbPWfdpxfmyy+eM04JZnS0j9Dp31fBekpStL5ZVdz+OacUr2ZI8NWRUVbvCAQAaK3cvN3UY1Yw1uVAtNw+p45ggufHNBgDgQHhbAurAsT1lIVMLX9Vu0FZThbQtO7knU8eM1iuWtVev/yFdko/u+HScZkwMVbDVDfRu216/Xj1SEyIl5e3V+++cs770RQeypT+O0GtPt1ewb1nNP1gRXS+M5muqIb+PkCQdeyVZ2y2zayvauEcJeZI63qjhfcxGAACkwC4+loXwgSq0HRaoph28zDIAAA2KwA2oSzcEq3zDsdqqg40wM5fvtKzr1itGk4da7S5mzTNYQ35vGW22a91hFZjtkqTW+vWk6rcU8x5xvYb7SspLVsLnZqvF1neSVSCp2x/KpqACAFCJNncFqFlkFe9baNRa9vbTVbfbf0dbAACuFIEbUJey8qsIrBrGzo2HJEkd7m5f7Q6owa3K1kBJPacMs1GSWrVX5IWReFXxbK/bHrSMePvinb0VH4eze5WwSJLaa8gIPigDAKrm5i5dPb45oRtsBPdsog6/YcoxAMAxEbgBdamqwKomWvrIvl8rsnVsh+XUwWfLdhut6u/uveaFbdVwqmzPSTdaRvit+EEJR2zbMpfutGwsMTxSA2u1zh0AoDFy93JT54eaK6jHhbUM0JiF3NRE4Q8EEbYBABwWgRtQBzp0Lxs/tjNDB83GamUqJansZMem1Y5CqxdX+p0mMkq/7iVJx7RuhfV6cOe0aeEhSZ4a/ruulo0WAAC4BDdPN3V+uLlaxrAbZWPWaqC/wh9gkwQAgGPjbQqoA61vbV8WIqVq5/dmazXOpmtn2eCyXgPbma1202HWQ+U7k1b7l1Q2Qu2yNVW/8WXrwf09+WL4uH+vVmyV5Bup2/pa9wcA4NI6/KaZOo4JkrsXw5saEw8/d3V+uLna3h1gNgEA4HAI3OAU3JxtvkCvzhriK0nn9MXH6WZrlTLf+cGyqYHa67b+F3b8rKU9J6oYVddUIeGWU8cO55qNdSZ4ZKRuk6QD27Rii6V28H1L+Nb66Sj1vMy72ZCc7vkIAC6oxS1N1O3Zlmp2nX0XYIBjah7lq25/bMGUYgCA0yBwg1Nwk4dZcmye7fXrFy0TQo/9da0+vMSSaJKkrBTNmXpMkuT/uxgNqWZds7Nni8xSue2f7zdLZTzVra/lNhUs/0UpZrONIhWcNWuXyb+rhk/0lFSkhA8OSUrXureyJQVr+P0NPmn2srgzCRYAHIJPCw9FTAzWNb8NJnhzUUE9fNX18RBd/VBzeQc52edBAECjRuAGp+Au5xsG1fqJX2l4kCSla+6tH+nDLflml3IF+3dq2rWr9EWepKCumvZiZRM5m6lDtOXU1uX7K+76KUl7t2nuvKrDuNYjo9RNko5/q5mvZJrN5c6uWKshAf/SM//MrPzfqaWe429UsKSCeT/qixU79eFxSb2iNLCz2dM5uMvLLAEAGlBgFx9FTAxWt2dbqtVAf/m0dL7PDbjIt5WnWv/KX5HPt1Tnh5vL/2p+6AIAOB8CNzgFDzvv11kvPFvr8R1xui1IUtYhze07RwNvWKG5r+zV5uUplr95iXomeo4GRqzV5uOSWkVqRkqcegWZV2bRc2CE5cSK9XrmlUPKzCtrKCrSwc83aVL3TTo7tqslVKtM2yg9MytUkpQy9V3d/0iKDmZZBXRnz2n7Kys09t69KlCRWt8QbJ+xXDddqyEdJSlFM+5NVoGk234f2fCbQlwmL7FYNwA4oiatPdX27gB1f76lIp9rqTZDAxQQ4S2fFh6s9+ag3L3c5NPCQ4FdfNT2nkBFPtdSkX9qqTZ3BciX4BQA4MTcSktLS80i4GjOKU3b9KpZdg5Zx/ThqE8193PrXToNnk1121/u1jNPtJZ/tZ8tz+mLe9/VjBVVjJa7qZ/e/yZY73ut0Bfqqpmlcepl9lG+tv9+sZ74Z7bZYMVHPd8cqdceto3Ejr3yrn4zNVOK7Kd/76jdhgqZ/1yq4b+3TJmVumpmYZx6VXtfHdfVukdtxG4PAOBsSksklUilJXz8bXDukpu7GzuNAgBcFm9xcAreCjRLziOotX69+lGtOzZGM+feoiF3NitraKY75g7VzKRHte78o5rx9KXCNklqqjuWTdDcf3RVRCurzkHBum3afVrxzY3qcMnr8FHPfzykhB8GaezQUAVbj6bzbaqIsf00M+XRCmHblQp+8AbL5gmSvCdGOm3YJklNFGKWAABOwM1dcvOU3L3d+GvoP0/CNgCAa2OEG5zGN3pehapmlJizKDqk1wM+0oo8qdfCyZr5oBNOl70c5fe7mcbueEgTIs0OzuMWPScfNTfLAADUqQ8++MDmvJeXl0aMGGFTAwAAjoHfleA0AtXRLDknz/aasDBckrR1/Bzd/8hOpRzIL9+coKCaHUid2uc7tSJPUseuGujEYZun/AjbAAAN4uzZsxo9enT5HwAAcFwEbnAaQXLSLS0r4T9yqN6fZVkB7eBbazUhfI4Guv1d/dz+roHR23TQvIDTO6eE1/ZKkrr9IUodzGYn0lzXmCUAAAAAAGwQuMFptFAPSa6yw5inOjw9UutShmvSWGMdteN5yrA664zOHj+nggsD9fLOaevv/61ZGyUFRWnyxKZGb+fSUlFmCQAAAAAAG6zhBqfyk+YqS/8zy3Ao2fqw+9uau9Osh2rSnjH6dVez7jw81US36s9yk4fZBABAnXvzzTf16KOPlp9ftmwZa7gBAOCgGOEGp9Jat5olOJx8Ffg2lfeFs54+6tD/Rs1I+Y1Th22S1Eq3ELYBAAAAAC6JwA1OpaWi5KNmZhkOJVRjkx7VutI/aFPpH7SpcLLe39BPt3X2NDs6FTe5q636mWUAAAAAACogcIOTcVM7DTCLQJ27StHyVqBZBgAAAACgAgI3OJ3W6i0/hZploM54qonCNcQsAwAAAABQKQI3OB03uesaxZtloM6E6y55ybl3VwUAAAAA1B8CNzilQIWrowabZcDuQhSp1upllgEAAAAAqBKBG5xWew1UiCLNMmA3TdVa12qMWQYAAAAAoFoEbnBqXTVKfrrKLANXzFO+itRDcpeX2QQAAAAAQLUI3ODUPOSj7npEXvI3m4Ar4KZr9YB81NxsAAAAAADgkgjc4PR8FKQoTZYv4QjswE0eitR4Ndc1ZhMAAAAAADVC4AaX0EShukGPy19tzSagxrzUVFH6nYJ1ndkEAAAAAECNEbjBZXjJX1H6nVrqerMJuKSmClNPPakAtTObAAAAAACoFQI3uBR3eepa3a+rNUwe8jGbgUqFKUY36kn5qJnZBAAAAABArRG4wSW10W26WX9SmGLMJqBciLopWs+os+41mwAAAAAAuGwEbnBZXmqqzrpXt+h5tdLNcuPpjjLN1UU99Qd103g1UajZDAAAAADAFSGBgMvzUTNdo1+rl15QF41SiCLlIW+zG1xcc12jqzVMN+tZddcj8lcbswsAAAAAAHbhVlpaWmoWgcYgW78oS//TOaXpnI6pUOfMLi6jsv/N3dzczJLL8JSvmqqVmqqNAtVBQeosd3mZ3QAAcCpvvvmmHn300fLzy5Yt04gRI2z6AAAAx0DgBjQCW7ZsUd++fcvPv/DCC5o+fbpNHwAA4NgI3AAAcB5MKQUAAAAAAADsiMANAAAAAAAAsCMCNwAAAAAAAMCOCNwAAAAAAAAAOyJwAwAAAAAAAOyIwA0AAAAAAACwIwI3AAAAAAAAwI4I3AAAAAAAAAA7InADAAAAAAAA7IjADQAAAAAAALAjAjcAAAAAAADAjgjcAAAAAAAAADsicAMAAAAAAADsiMANAAAAAAAAsCMCNwAAAAAAAMCOCNwAAAAAAAAAOyJwAwAAAAAAAOyIwA0AAAAAAACwIwI3AAAAAAAAwI4I3AAAAAAAAAA7InADAAAAAAAA7IjADQAAAAAAALAjAjcAAADAwWzdulVRUVHq27evTp8+bTbbOH78uHr06KFevXpp586dZjMAAGgABG4AAACAAykqKtKIESP0448/asuWLRoxYoRKSkrMbpKkgoIC3X333dqxY4e+/fZbjRo1yuwCAAAaAIEbAAAA4EA8PT0VGBhYfn79+vWaNm2aTZ8LpkyZoqSkpPLzoaGhNu0AAKBhELgBAAAADuaf//ynzfm//OUv2rFjh03tq6++0vz588vPe3p6atasWTZ9AABAwyBwAwAAABzMgAED9Pzzz9vUFi5caHPeOmyTpFdffVU9e/a0qQEAgIZB4AYAAAA4oOnTpysmJqb8fG5urk17YWFh+elhw4bp97//vU07AABoOARuAAAAgANyd3fXRx99pODgYLPJRocOHfT++++bZQAA0IAI3AAAAAAH1apVK3300Udyc3Mzm6SydduWL19us8kCAABoeARuAAAAgAPr37+//vjHP5plSdIrr7yi6OhoswwAABoYgRsAAADg4GbMmKGIiAib2k033aTHH3/cpgYAABwDgRsAAADg4Nzd3bVx40Y1b95cktSpUyetW7fO7AYAAByEW2lpaalZBOBatmzZor59+5aff+GFFzR9+nSbPgCAypXklyrvZJGKcktUfL60/L8leaUSn6JQz05lndRnW1boV72GqHWLNmYzULfcJHdfydPPQx5N3OTRxE2efu7yDfWUu3fl6wwCQGNF4AY0AgRuAFA7uYcLlb0rX1k783TuYKHZDAAwBHT2VrPrfNSsu6+atPI0mwGg0WFKKQAAQNlItrTPz+rH59K1e9YpHU3IIWwDgBrK2V+gI5/maNfLJ7Xjz+lK33TO7AIAjQqBGwAAaPSOrz+nH59PV9rqHBVmF5vNAIBayD9VrEMfndGPz6Xr5Ne5ZjMANAoEbgAAoNHKSDqvn55P15FPzqg4t8RsBgBcgcLsYh1cmq1dfzmpM/vyzWYAcGkEbgAAoNEpLS5V6qIspb6fpYLTjGgDgLp0/liRfp6TqWP/PWs2AYDLInADAACNStHZEu19LUMZ3503mwAAdaVUOvpZjva/dVolhezbB8D1EbgBAIBGI/9UsXa/corNEACggWT9lKe9r2WoMIdp/ABcG4EbAABoFPJPFmnPq6dUkMkUUgBoSLmHC7X3b6eY0g/ApRG4AQAAl1eUU6J9/8xU0VlGVACAI8jPLNbPb2Sq+DyvywBcE4EbAABweT/Py2QkBQA4mLz0Iu1/87RZBgCXQOAGAABc2uEVZ5R7mDXbAMAR5ewv0PF17F4KwPUQuAEAAJeVk1KgExvOmWUAgAM58mmOzh/lhxEAroXADQAAuKTSEunAkiyzDABwQAeWZpslAHBqBG4AAMAlHf/irPIzWLcNAJzBuYOFOrU11ywDgNMicAMAAC6npLBUx9eyJhAAOJNj/z0rlZpVAHBOBG4AAMDlnPwqV8X5fGsDAGeSf6pYp3/MM8sA4JQI3AAAgMs58SUbJQCAM0rfzOs3ANdA4AYAAFxKzv4CFZxm7TYAcEa8hgNwFQRuAADApWQknTdLAABnUSplbmdaKQDnR+AGAABcStYOvqgBgDPL3sXrOADnR+AGAABcRn5GsYpySswyAMCJnDtQqNJiNr4B4NwI3AAAgMvIPVxolgAATqaksFR56azjBsC5EbgBAACXkX+qyCwBAJwQGycAcHYEbgAAwGXkZ/IFDQBcQWE2r+cAnBuBGwAAcBnF51i/DQBcQdFZXs8BODcCNwAA4DJKCllkGwBcQXEer+cAnJtbaWkpr2SAi9uyZYv69u1bfv6FF17Q9OnTbfoAgCtImZep7N35ZtkxlZzRvn3zNG/HUv10Kl3lm6t6hCq8dazuvuExxbeLkHdj+Hm05Ix2JE/W01+vV4aG6/XfzlGM2achFR9S4o+ztWTPev14Ol0FF+o+oeoSNlIjoh/UnaGh8ra9lGvJ26mV37+oJT8nKTW37P8x90CFtIjVmFueUXyH9g5x/3NOLdXib9/RyrSdyih/KfBRSPNo9bn2UY3uHqtwL9vLuJqC7PVa9t1MLT5g9Rj4hKpLx8c08eYHFdPMx7iEYwrt11Tt7ws0ywDgNAjcgEaAwA1AY5Ey/7Syd+WZZcdzdoWmLpusjblmg8EvTjPiF2iwv9ngGgryU5S063XN3rpCqeWzxxwrcMs5PlNTPp6tHZea3dZqihYOfUbdnSPLqIV8pf40QRM3r1eG2WQloN2renvoSIU3VEBckq41awdp2v50s8UQqv6D1mrWNaFmgws4ox3fjtb4pG1mg43ufTZpYVSEWXY4LWP81OE3zcwyADiNhnpLBAAAaJxKdmrex2Vhm1+sptyTrMRJaUr6reUv8eGtWhxbFlzkrta0lbOVal6Hszs1W2PeClPMW/30+NdlYZsjfirNX6FpH5WFbc1HatbIvUosO05Jv01T4oRNej06ViGSdHy2xm9ef3H0m4tI3T5U8WVhW0iH5zV3XGr5/U+auFfLBo9UmKScw0/qoS3VBz11ad+3d5eFbaGK6b1Max69eJySJu7VyvhXNay5JKVr49oRWnjavAbnl7r9vrKwLVDR0Yu07OGLxypx/DJNaWcZLbZjy1jNu1QuCQC4Yo740QYAAMBlFex/XQvPSFKsZoxepDFtQ22mjXr7tFeXa1/VsoeWaUTzGzUlborCrS7vEnJ+1r6yqW4BoSP1XHyyEu8cbvZqcKnJM5UoSYFTtHjkq+ofEmgzbdLbN0IxtyzSmtGvKrr5cL1+W6xDTKu0m+ItWrJtpyXA6b9Ja4Y+pmh/qyF8HoEK7/yqFg+KlSTl/DRPawovNtebwhV6e9shSVLMoM16vWcfhVhPG/UIVFjoSD03eq/m9ohQ994LNL65VbtLCdTgId9p7i2xCve5eKy8/fpozNCPND5Qkg5p8d6GC0cBoLEgcAMAAKhHqRnfW05cM1KDq5t+6NNHU0ev0hhXDAaCR2rGPZu04dE0bYh/VcMccv2zfO07ZQlxwrvdqy7VfWpuPlJzR89RTHXH0xl59NFz972qwVFzNLNb1VMQA8LvLZsCvF4/nTJb68Hpn/WTJGm4hnWubs2vQEXftkkLe1Z9X5xZeM+PNHfwAk0Nr+IxcI/U4LLjWHA0SWlmOwDArqr76AAAAIC6Uph/+dMPUycr+o0wRS+dX+2X5sR1YYp+I0zx2y3BkbW07f0s17FuvaVwdrVmf9JLMW9YLhM9r5cmbVmtDKu1ywqyzT5RGrNxtdKKL/apkWZ9NLhthAKcZPH6MwWXvxFHdcfgovWa9kaYot/op8XZZlvF68g5/o6mLetqOQZvhCn6rUGa9tM25VhdJueY2aefpm7fdnFzjppqPlIz+sQqwKxb8wosa89XToMuoXhG+bV9Ll6QPV/xb4Qp+o3JllGNVajw/4018zpK0rVxS7yGzSs7Bm+Ea9gnL2rjWavLFB+q0Gfwsie1MftynnOBiu7cp9pj5eNmVgAAdYXADQAAoB61CLzGciL1Y224nO/UdeH0fI15d4IWHzl0MQQsPqSk5AkasdGyLllO6pO6e5HZJ137dk3QsPdevPSmAk7HR20CLEPWMlIStM9B7l9O6mQN++hPWpN+5mIxf6fWbB6qicmWQC41eagG/Mfsk6KNXw/VgFVLq9384LIUnikL+3wU4Gs21gP/9uokSVqvNalW97khlaRo8UdRmpq8xSqQzlfakfmauvRJJRZKyl+vl97rVaFPRvpSTV10i2YfK782u8k4a3mOeLeJVpjZCACwKwI3AACAehRyzUj1lyyjmpaM1eIj6Zc/0s0e8j7WtI9eVM61Cy4usj4pVcti4xQgKWfPn/T2kRWalrBU6vyyFo+/sBB7qtYMedDypT13vubtcb1V2Lt3e8xy/87M1pilT2rj6YZNSM+cmqlnEtarq/WmABOTNffGSEnSvi0vas2RmXp8yzZ1j1qkZRf6TErV4tvKRj4dflZv2znIydizsGxUWKx6tDBb64Hfvbrbkrgpce1tenz7FmVc7kg3uzijNeuHana+7UYbiaNfVX8fSflLNWv7Fq35YqxWKk5T45Mv9hm/SCOaSVK6Fn9r53A0f4Xe/ilfUh9N7Xmj2QoAsDMCNwAAgPrkNVzThoy07GyZu16zP4lSzLwojUl4UYv3bVFqXj2HOgdXKLHjIi2Ojbu4yLq7j8KvXaCZkT6SDmnhJ5OVdM0CLR/8oLr4XViozEch4S/ruUjL+aSjZWvTuZKQZ/R6n7Jg4vRSTV0Srui3+mnS2plafnCn0vLr91hl/LxCZ3qv0lzrTQE8QhV962JNbSVJqzXtk9nyuXWTFvaJVfiFPu4+6tLjDU1sJUn5+j4tpfw6r1jeUs3YbFmAP+zGxzW4QaYJ+2hw7CIN85OkdCV+Ha/B88I1eNlYzd6+QkkZZ1RQryMU12vNgVi9Hm+70YZ385GadeeD8paUlhSvaYeGa9boBRphtYaht1+spva39NGRLfrJHre7+IxSD87UpPcnK9H9Ro2/b4GG+ZudAAD2RuAGAABQzwLCX9WnYxdoWIuy8Ko4XftS52v2unjFLwhX9Lxemvrt+tqvjXZZbtTEWytfo6tTy+iyU+015kbLiDfT9WF9LCcyDlW7npyzCo9apQ3/97z6Xwgo8lOU9PNszVo1SMPeClf0W4P00p6dtV8b7XJ4PKgpUZUt+B+qrqEXgtA4je9ReZ8ebUIlSamZ1a0nVwtnV2jqoicto9tCn9frt1hG2jUIn1g998BWzeoWWRZe5Ssjfb0Wfz1Zk5Z2VczccA1bPVOJl7U2Wu11v2V65ZtoBEfq+rKTYT0ft4x4M111kyz/5+3UUeuF+WrjwjqPb4Qpel5Xxa+arSS3OM24f5UmtqpiUwUAgF0RuAEAADQA72Zxeu43qUp8eJPmDnxeY8IjFeJR1lh8SBuTxmrYwnitPG1c0N6a36GbqhjtEuLX0nLCI1Z9QsxWC28v1//yHtD6Mc0al6bEcWv1+u1TLBs+XPgUnb9TK9cP0oAlf1JSXWc5V8couopP7yH+7S0n2sYquopRZgE+zczSZcs5NlPj35+sjfmSmj2oucMeU3gVt63eeLRX//5rlThxr5bdM0dTomKtRmTmK+2X2Xp80fWatMuOI/wqFaE+7SzhZgV+oZbRrfJRTPvKglHrTSjsLG+1pr0brjEbbTdDAQDUjYZ+WwQAAGjUvH0iFN3lMU0ZslZrJlpCneeibrR8Kc/fopc+Kltgva64+6iyQTY2gtqVhQSNm7d/pGIin9GMezZpw6RUbRi5SFO6lIUm2e9o0srqd429Ym6XPFJS0wuBTh0pOaPELf004D+ztaNECmj3spaNelnRNbhp9cYjUOFth2tMn0WWNQcfTdbi2MfU3U+Szihp41C9dLBu01HvS37Laq8wP7NmR+FzytZaLPt7NFmLY0cq3D1f+3ZN0OC62DwDAGDjkm8FAAAAqD/e/pEa1meVPh35jMJlWWD9bRfckMD5+SggJFZjBm7ShsHDLdMY02dq8RGznwvJW6/ZS7vq8WTLCLHu0au0ctiDCr8wMtNReYWqy7XPa+EDmzQxRJLOaGXSB40rcPIKVZdrX9Wy+6ZYNgI5/KzeduXnKgA4AAI3AAAAB+Qd8pjGh1tO7zjughsSuJCAzhM1xk+WDQlO1PV0xYaRc3ymxi8cq8WnJfn00ZT79mrhLTfWzdTHuuIRoTE3xlpOH//ePhsSOJvQBzW+rSTla+Uvls0uAAB1g8ANAADAIfko4MLWhVmXsyHBIaWeMmuoG4EKaGI5lZp1GRsSZKdon1lzIDmpkzXsowtTSJ/XwvuXaYyTLrx/cc3BFB09azTWQGqGAweqhSlKveR9ClWLppZTBflZZiMAwI4I3AAAAOpRTupkDV5Ws7W+CkrLToREWKaBmc5nq8pNDM+u14ZGNWfO/lK3D9Lg9etVYDZUkK+CstFSXUIqXwj/TP4Zs1Qu42CCUs2io8ier4kJK5QjKaDLAq0c+pi6O9J6bZKUv17TFg7S4myzoRIX/p9Sd4VXmhmeUU5VayaWbFHifrPoGNJ2xivmX/0Uv3nFJZ6v6Tp1znLK2yfIbAQA2BGBGwAAQH0pXq0ZCSuUkf6ixqxbrZzqprSdnq+3f7ac7N+uj21bSHd1kaTcFVWEameU+M1M7TDLqLmM2Xr8653K2DNW47elVBti5KS+bplqqfaKaVe2W2iZ8JaRkqSMlCpCtfz1ev1bx53al/TDTMvou5Bn9HZs3MXdWR1GvjZuHKs1uTs1e9lkbcwz262UpGjx9ysspzv1UbR1W7MI9ZAkrdeG1Mo3VEhNflHLi82qYwhrEWnZ/OSXP2pGatXhrtLf0cKytdtiWlmemwCAuuFwb5kAAACXrbR8+Ipj8ojTxN6WL7k5+yZowLtjNe9giu2ImuIzSj04U5M+etESdIQ+r4mdjSFFgbGKCZSkQ1q4+kltPH0xICjI3anla27T4/t6aPA1odaXQm2EPKipXSxDoPZ9008xS57UyvRDyrEOXArTtW/PkxpTPgLsZY0xtggNaxdrGZ14ZrYeX79aqeXHOl8Z6e9o6pKxWtNyuAbX5Y6Vly1FO45anlvhXYYr3CG/Ofio/y3PWwLo/BWauiBKj3+7Xql51qFZvnIy1mveqqGanS5JkZpya9lGF+X66KZOllMbN43V4iPpF0PWwhQlbhmq+K/PaHCXG60u40BaPa4ZXQIlndGahNs0dedOZZivK/ufVPxHsy2jawOn6CHzdcXROOTzDQBqzq201NE/mQK4Ulu2bFHfvn3Lz7/wwguaPn26TR8AcAX7F5xW1o/VDXFxDBm/PKmJa5YqtboRbpLU7EHNjX9Z0ZV9L06fqWHLyr48VxCowUO+08TTQzXs6xSF996qZT1tR16lbe+nYV+nSCHPa+XIxyqfspo6WdEJK668jyFxXZger82iZbW4bvs6ox3bJ+vpr9dfckfLgHav6u2hIysNpfZ920tjkqpY281nuF6//xmlftxLszMiNGXsJo1pZtul/PHqskhJA8sW/TeUH88r7GNrvaa9MVZrzHI1Bg9J04yyzT7q1dnVemnlBK08bTaY2mvEPWs1tW0l80nPrtDUpZO1sfIBburSe5MWN3/d8nyv7DHMnq/4RS8qVZUfR4sLj+mV9qlESYpWrhqqlw5XM8JNkvziNCN+gQb7mw2O5arbm6rd/1VynADASVTykQAAAMA5uXu5mSWHFNLpVS17NFmLY6coJjRUIR5WjR6hCgkdrilDNylxdBVhmySFPqPlYxdoTNsIq2l+PgoJHannRn6nGZUvUIVaCVT3nou05tFNer33SEU3D7WdUukTqvC2j+m5+GStGVZ52CZJXW7ZpJWDH1N0c6tj4hGqLt1e1bL75yimqmOMmvOP03OjU7Um/lWND49UiJ/1g+qjEP9IDe69SMse3Vp52CZJ/sM1a+wqTe0SafP/ZEDzOI0flqzFPStfn89huEdo2LAfteaelzWsbYTt64p7oEJCYzU+dq02jHP8sE2S3L2d4/UcAKrCCDegEWCEG4DG4uCH2Tq5JdcsAwCcTNuhAWo1yAmSQQCoQhW/wwEAADgf7+bWQzoAAM7KK4jXcwDOjcANAAC4DN8WnmYJAOCEfGzmxAKA8yFwAwAALsO3FYEbALgC39a8ngNwbgRuAADAZfi28nSajRMAAJXzbu4hTz++qgJwbryKAQAAl+HmLjUN9zLLAAAnEhDhbZYAwOkQuAEAAJfS/PomZgkA4ESaX+9rlgDA6RC4AQAAlxJyk6/c+IQDAE7Jo4m7mnUjcAPg/Pg4CgAAXIqHn7uCevBlDQCcUYteTeTGBqUAXACBGwAAcDmt7vA3SwAAR+cmtYptalYBwCkRuAEAAJfTtIOX/K9m0W0AcCYhNzaRVzOGtwFwDQRuAADAJbUbHii5mVUAgCNy93JTm2EBZhkAnBaBGwAAcElNO3ipZW8/swwAcEBhd/rLO4jRbQBcB4EbAABwWe2GB8qnBV/gAMCR+V/tratiWXsTgGshcAMAAC7L3cdNEY8Fy92HuaUA4Ii8m3uo8yPN5cY3UwAuhpc1AADg0nyv8lTnh5qznhsAOBg3T8uPIp5+fC0F4Hp4ZQMAAC4v8FoftR0WaJYBAA0ofHQzNQnzNMsA4BII3AAAQKPQKrapWg1kjSAAcARthwUo+KYmZhkAXAaBGwAAaDTa3h2gDvHNmF4KAA3EzUPqNC5Ire7gBxAAro3ADQAANCot+/rpmsnB8vAldQOA+uTp766uj7dQ8I2MbAPg+gjcAABAoxPYxUfXTW3B2kEAUE/8w73V7f+1UNOOXmYTALgkAjcAANAo+bT0VLf/11IdRzWTVzMPsxkAYAc+LTzU6cEgdX0ihNdaAI0KgRsAAGi83KQWt/qp+/SWajssQJ5N+WgEAPbgFeShDr9upsjnQhXcswlrZwJodPhUCQAAGj13Lze1usNfPf4cqo4jmyko0lfuXnw7BIDa8GjipuCevgp/IEjXzwhVyz5+cmNQG4BGisANAACgjLuPm1r09lPnR5ur599b6ZpJwQq9rSlrvQFAFZp29FKrO/zVZUqIbpjVSp0ebK6Qm9gUAQDcSktLS80iANeyZcsW9e3bt/z8Cy+8oOnTp9v0AQBcWnF+qVTCRyc0jAXvLNCiJYvKz/924m814v9G2PQB6oubh5vcvRkJDABVIXADGgECNwAAnN9bb72lRx55pPz8hx9+qPj4eJs+AADAMTClFAAAAAAAALAjAjcAAAAAAADAjgjcAAAAAAAAADsicAMAAAAAAADsiMANAAAAAAAAsCMCNwAAAAAAAMCOCNwAAAAAAAAAOyJwAwAAAAAAAOyIwA0AAAAAAACwIwI3AAAAAAAAwI4I3AAAAAAAAAA7InADAAAAAAAA7IjADQAAAAAAALAjAjcAAAAAAADAjgjcAAAAAAAAADsicAMAAAAAAADsiMANAAAAAAAAsCMCNwAAAAAAAMCOCNwAAAAAAAAAOyJwAwAAAAAAAOyIwA0AAAAAAACwIwI3AAAAAAAAwI4I3AAAAAAAAAA7InADAAAAAAAA7IjADQAAAAAAALAjAjcAAAAAAADAjgjcAAAAAAAAADsicAMAAAAAAADsiMANAAAAAAAAsCMCNwAAAAAAAMCOCNwAAAAAAAAAOyJwAwAAAAAAAOyIwA0AAAAAAACwIwI3AAAAAAAAwI4I3AAAAAAAAAA7InADXNC5c+d08OBBs1ypM2fO6MiRI2YZAAA0sPT0dGVmZprlSqWlpSkrK8ssAwCABkLgBriYjRs3qlWrVgoPD9ff//53s9nGpk2b1K5dO3Xo0EGzZs0ymwEAQANZuHCh2rZtq7CwMH388cdms4333ntP7du3V6tWrfSf//zHbAYAAA3ArbS0tNQsAnBeN910k7Zt21Z+ft26dfL19VXfvn3Lay+88IIeeeQRRUZGlv9y7uHhoaysLPn7+5f3AwAA9a+0tFT+/v7Kzc2VJDVp0kQ//PCDNm/erEceeaS834cffqjOnTvrlltuUVFRkSSpdevWSktLK+8DAAAaBiPcABczYMAAm/MjR46sMB2ltLRUo0aNsqlHR0cTtgEA4ADc3NwUGxtbfv78+fO69957VVhYaNPv/Pnz+r//+7/ysE2S7rjjDps+AACgYTDCDXAxubm5uv7667V///7yWvfu3bVjx47y8/369dOmTZvKz3t5eSk5OVnXXXddeQ0AADSco0ePKjIy0mZdtr59++qrr74qP3/TTTfp+++/Lz9/1VVXadeuXQoJCSmvAQCAhkHgBrig3bt3KyoqqsIv4Re4ubnJ+n/9efPm6bHHHrPpAwAAGtaaNWt05513muVKubm56auvvlJMTIzZBAAAGgBTSgEXdN111+mf//ynWS5nHbYNGzaMsA0AAAc0ePBgTZkyxSxX6vnnnydsAwDAgTDCDXBhI0aM0EcffWSWy3Xq1EnJyckKCAgwmwAAgAMoLCxUdHS0fvzxR7OpXExMjDZv3ix3d35LBwDAURC4AS4sJydHPXr00IEDB8wmeXl5KSkpSddff73ZBAAAHMiBAwfUo0cP5eTkmE0KCQnRrl27dNVVV5lNAACgAfEzGODCAgIC9Mknn8jT09Ns0quvvkrYBgCAE+jYsaMWLVpkluXm5qbly5cTtgEA4IAI3AAXd/3112vq1Kk2tdjYWP3ud7+zqQEAAMc1bNgwjRw50qb22GOPqX///jY1AADgGJhSCjQSDzzwgN5//31169ZNX3/9tQIDA80uAADAgeXn5ys2NlaJiYm688479dlnn7FuGwAADorADXUuNzdXaWlpysnJUV5ens1fYWGh2R116MSJEwoODpaXl5fZBAAAnMSRI0cUFhZG2AY4qSZNmsjHx0dNmjSRr6+vmjRpopYtWzI9HHAxBG6oEydPnlRaWpqOHj2q7OxssxkAAAAAYMXT01OtWrVSWFiY2rZtKx8fH7MLACdC4Aa7KS0tVWpqqnbu3Klz586ZzQAAAACAGnBzc1N4eLh69OihJk2amM0AnACBG+zi0KFD+umnnyrdrh4AAAAAcHmuueYaRUZGMuINcDIEbrgiZ86c0TfffKPMzEyzCQAAAABgB56enurRo4e6dOliNgFwUARuuGxHjx7V119/raKiIrMJAAAAAGBn7du3V69eveTh4WE2AXAwBG64LLt379aPP/5olgEAAAAAdSg4OFj9+vWTr6+v2QTAgRC4oda+//57paSkmGUAAAAAQD1o0qSJ+vfvr2bNmplNABwEgRtqJSkpSfv37zfLAAAAAIB65O3trYEDByowMNBsAuAA3M0CUJWdO3cStgEAAACAAygoKNCGDRt0/vx5swmAAyBwQ42kpaVpx44dZhkAAAAA0EDOnz+vTZs2iYlrgOMhcMMl5eXl6ZtvvjHLAAAAAIAGdvr0af30009mGUADI3DDJW3dulUFBQVmGQAAAADgAHbv3q2MjAyzDKABEbihWocPH9axY8fMMgAAAADAgXz33XdmCUADInBDtbZv326WAAAAAAAOJisri03uAAdC4IYq7d+/X7m5uWYZAAAAAOCA9uzZwwYKgIMgcEOVdu/ebZYAAAAAAA7q7NmzOnLkiFkG0AAI3FCp48eP69y5c2YZAAAAAODAUlJSzBKABkDghkqlpqaaJQAAAACAgztx4oTy8vLMMoB6RuCGSjEMGQAAAACc08GDB80SgHpG4IYKTpw4oaKiIrMMAAAAAHACx48fN0sA6hmBGyrgxRkAAAAAnFd6ejq7lQINjMANFWRmZpolAAAAAICTKCoqUm5urlkGUI8I3FBBTk6OWQIAAAAAOJHz58+bJQD1iMANFZw7d84sAQAAAACcCCPcgIZF4AYbzPMHAAAAAOdXUFBglgDUIwI3AAAAAABcTGFhoVkCUI8I3GCDEW4AXFey5owapVGjRmnOdrPNAZ1I0NOjRmnUqDlKNttqIXme5T4//dlJs0lKS9D0saM0aux0JaSZjag3djrWlarL6wYAOLTi4mKzBKAeEbgBAOzgYphVsz++/DuCk9u/VEqxpOIUfbm9kkDOgV0IEkeNGqVRU5bpqNmhOtvnWD0Xn1bCCbMDAADOr6SkxCwBqEcEbgAANFIte96uCA9JHhG6vWdLs9l5nExU4mGzWJVCJW5KNIsAAACAXRG4AQDsKuapD/TBB5f6m6wo84Kof2FD9OdFH+iDRX/WkDCz0Zmc1JdfHzCLlcv7Tt8lmUUAAADAvgjcAABAA8pS4r9e1pzlX+pAjtlWA15ekqSsTd+pJpFb4fbvlCRJHmYLAAAAYD8EbgAAoOHk7VLipl1KXPGdjlqys1qJ+e0TipGkrAR9uc9sNRXqu68tw9uiJ062XA4AAACoAwRuAAAHcGHThQsL2Ocq5b9z9OyEiwvjT3hujtbuz714keJK+jz1mhL2WfW5hNx9azXnuUl64MIC+mMn6OmXlijpRKHZtVK5B7/Ukpee1oSxVrfht89qzmfJOnmpq8g5oC8Xv6ynrW7/A0+8rCWbDii3xpuKFepkckKF+/DsvAQl1+Q+lO9gWdnGAeYxKdTJb5fo5acmXNxw4IFJenbeWqVcamTahWM16YGLl51geZySP/9EyZL8fjVcMb7mBWvAI0q33+ElqVAbE3eZrbbyvlPidkmK1s09m5qtlSvO1YFNS/TyU1aP8agHNOm5WVpW02Nll2MtFZ5IVsK8ZzXpAavrmfS0Xl58maMDAQAAUGcI3AAADiZXyfN+r+nvJeqAVXaW+0ui3n3+JUv4U3xUCX+eULFPWpKW/HmCXt6UdbFYqVylfPisJvz5XSX+kqXyaKo4V0d3J+i1Jx7Q9NXV7HtZnKXE2ZM04Y9vKmH3UZvQJDfzgBI/mKUpU15TYqb1hS7K3f2upjz6rN5cvUtHrW5/4YldSvjXs5rw5wQdvVQQU3xUX/51oqbMWlLhPhz4aolmPTFFb26vefhYvVwl/2uKpsxO0K406xucpQNfvavpT8xRclX/VG6y3vxd2bHKsgoBcy2P06zlR9Umbqr+MSbC+lK10q1Xf3lJKtyUpF3VPG5ZX39p2R23b/+ahXuZiXrtdxP07L8StCvN6jFWobJ+SdYn/3pWE373ppKqCbvscqyVq5Tl0/XAE7O05KsDsn4YC7OOatfqN/XspOlaZh1IAwAAoEERuAEAHMg5Hfj4Nc3aFq7Rz83Ve4ssmyy8N/dPuqeTJB3Qkg8SteujWVqSGqEhU18p7/PBwr9oXHc/SdKuhZ8oxbxqK+mrX9P0lVmKGvUnzV14cTOH9/42VUM6W/qkLJ6udyudolio5AVPac63WZKH5TYseO/CdbynBTOf0O1XScpK0pyZCTppXjzzS7320lpL/arb9cTMBXrvwmYSC+fqL+OjFbR/iaa/slbp5mWtpCyerjd35EryUzeb+/GeFsycqiGds/Tl3/6od/aal6y9rPVvaNYmGY/Xe5r73Gh185OUm6jX/l3Z6LJCJf5rlr7MKruvf3vv4mM9908a3d1Pkp86XneN/K5kTbXrYtTfS1LhRiVVeswkKUvffblLkpcG9avBlh25yZozdY6SsiQFRWvcSxefjx8sstz3qCBJWV/qtSfeVUploZmdjvXJ1S9p+ooUSUGKHv8X2+fsG2WPY3GKPpnxjpLzzEsDAACgIRC4AQAcSJYSvzqn0S/+SUOuC5JXWQjjFdRN8X8YpwhJSpqjl1d6K37mnzU6qk15H/l21KBH4y19CndpV9rFazWl7E5VzFN/09S7uinIaqSTV1iURk9/RaM7SVKu1i5Zqwpj5X5ZoXc25UrqqNFlt8GvfO0xL/m1i9YjLz+hGC9Jh5cpYbftxXd98o52SVLLe/SXvz2i6HZ+Kr+4b5A63vGEZs+MV/MTJ61GVBky12rxfy2jmaJ++w/9yeZ+eMmvXZRGT1+gJ3pn6WSFxK+2jirhs58reby8FHTdEE0dHy2VjS6rEHJmJerLJEmK0Lhpjyg67OIibV5B3TRk6hMa5JWrxL+9ZgnlLluEbo8LklSotZuSzUaLzO+UuF+SV39FdzEbKzqw6h0l5kryi9HUvz2hQZ0uPh/lUXbf/zZVMX6Sctfqzc8rPtB2Oda5iXpn8QFJfop56m964o6Ots/Z4G4aMvXPim8nqTBRKy45uhMAAAD1gcANAGBXiX+7uL5UpX/PVDLqy4rXHaM1JMysSgoOV/iFtCL6nir6XKNuQZJ0VEePm41WOsdrdE/LaLgKPNpoyKhBlmBkf5KSjfwi5SvL7a/ydkqSX7QGDbCsK/bdDqu9M4uT9eUXlmgl+tfD1bGKUV1e7e7RuDuq3kHg5NfrLOFWy3s0undV98NP0aNGWwLIKxX9oB6p4vHyuu4GdZOkwqM6amY9B362BE5hN6hbsNEmSR7d1C1aknZpV4W0rnY69r5dLSXpq0QlVzLaLCspUSmSvAbEqFsVj/tFKfpyteVZGj3+EUVVftclvyiNHmF5hI+u3mi7S6qdjnXW1rJpsJd4zt7+q26SpJQdu6oO7wAAAFBvCNwAAA7l5u6W4KCiILVsZTnV7fpuF0cK2WiqpgFmraJut9+sILNo7bqosh0sd2nXL9YNR7VrhyXOqPp2WgSFhEqSsjKtUqiDZQGUonRzz8rvwQXdut9slsoU6ue9lvXlgnrfrDZms7XgbrqhqlCwFqp+vCUFBZU9llk6l2+0NfGu+nKGrBwzrauldjGKaSlJidr4rRk5nVTiBsuUzCF9axBBpu3SrkJJ6qYbrqv+HgR1v8FyDLKStcs6SbbLsZZSdluupc2N3ap9zgYFlbWezKo4KhMAAAD1jsANAGBXMU9dXF+q0r+ZQywjkapSxUgga+XhwmW69OXbqE07y6kDadYpykkdLZuqmvhaJaP3rP6mfFDJpgtZJ8vCkKZqeqlF+9t3rCJMy1JW2U1q2vRSO222UcerzVrtXfrxqkKHCMvot7QftKuyDSSKd2lXkiR5qU2by/w3yrVR/4GWRyzp2+9sR3md+E5fHpbU8nbFdLJuqMLxoyqLNHXJux7WUR0lSQd01PqQ2+VYn1T6Ycupox8+XeE5ZvP3t0TzwgAAAGhABG4AANSlyt5p21UVsNROx7Bqo8uG5xuj4b/yk5Sid2e8qaTDueVBWGFaspb8+WWtLZTULl5DarCu2qW07D2wbJ2/RH1ntXnA0c1rdVRSyz4xtXvca3mcCkvMSu2v44pVP5gOAAAA9aSyrwEAAKCMVxXvlJccyXfh79FKdsQ8fKBsBNWVsR1955gixvxDU+PaSCe+1GvPTNADZSOyHnhqlhL2W9a7m/zMJUY91lTwzYrpLEnJStx+Ido7qsQtJyW10aDbahl91fI4VfpcqeV1VKXNqNkVn1uV/b1kp8cSAAAAV6Syj4YAALi0rKxLrXJ1VEfLpvK1aWUdXwSpZdkUw0tfRyWCWpavd3bJix+qKqgJUlDZTUrPuNSVHNWB/5m1+te0ZViFEMgvuKNiRk3V7HlPKKayDRUuS5Buvt2ytl7yhkTLlM7DiUo8KanzQMVcZfavQqs2ZaPSanCc0g6UbZbQUW2s87x6P9YAAABwJARusOHm5maWAMDl7Pryu+oXlt+dLMuKWN3UzWbNr466prvl1K7tl9gNsrhQhWaHDtdY1jTTLv2w22y0tWvHd2apjJeu6WpJdgq3/1BFUFMmc5d+KFtzrmHkKvG1CZr+XpJCx8+1GYm14I2/aPJdUWpp5ymQQb1vV5Qk7U5UcpZ04OsvdVJSRMwlNsqwFtZN3bxUo+OUtaPsGARFqZt1qmjvY/3tD7a7oFZQqEKrabQAALi783UfaEj8HwgAaHz2L9OS7blm1aL4qBI+WGsJ066LUZSR0kT1G2RZJmv7O3qzquuQdPSzZ/XA+Kf1brJVH49uioq2nEz6cIUOFF9sslZ4+BO9+0XVIU3L66MtI8ZOfqIlX1dxG4pzlfTBEqWY9Xr1s5K3S1IbRXWvcdx1ZXxvVky0JO3Sxm+T9N2mLEnd1P+W2vz7Ebo9zpKeJS18U9aH0EZuspYstzzCLfvHlG2eUMZex/rCunRZn+jNz6qOV3OT3tSE8ZM0679Hqw+CAQCNhodHDXaiAlBnCNxggxFuABoFj1wl/u33evmzXcqyGhVUmJasZbOma8kvktRG8eNvrzgq6rp4PdHXzzJ6629PaZZ5HblHlbTgaT394VGpOEgd2/tZXdhLMaNGW4KZk5/o2adsNxJQYZYObHpTTz2zTKevaln1+vfthuvBfpbrTX6jqvvxe732dZBamnM561XLsn//qJKTT9ZTEOSlm2+xJF0p772mT7Ik9bxdMRUOZPU6Dn1QMX6SchM166nXtPaXLBVeCM2KC5W1O0GznpqlxFxJfoP023vN9eHsdKyDB+mRUWX7oH7wtJ5ekKSjuVaPZF6Wdn02S0+9lqhCFSi0Yxvb62oWVDad9zslJlWVHAIAXJGnp6dZAlCP3EpLS0vNIhq35cuXq6ioyCwDQDWSNWfUrLJpmDXRRqNfe0VDytfUunj5mKc+0OSetr0tTirhmSlacvhy+1j9G0+8om5fTNebO6oKIIIU/du/6IneVaQ0xUf15azqLi9JLTXoub9q3HXWgZtF7vY39dTfvqxyWmvQLZP1lxFZevmpJTqqGE39YLJlmqS14qNK+PPTWrLfbCjjEaF7pj+ja9ZN0KyvLIvuv3KXkb6dSNDTTyzR0QrHQzU8JrLqV9l1SLm739UfX1qrKrd38ApSm4goDRwxRoO6VHysqpI8b5RmfVXFbStO1pyxF5+P0b99T0/0NiOt6m+3JCkzUa89N0dJVR0oSQq6XU/MfETRAWaDhV2OtXK1670/6uX/VvkoSvJTtwl/1p8GmMFfoRJfe0BzkqxKfafqg4kV/xUAgGuJiYlR+/btzTKAesIIN1TQrFkzswQArsWjjW7/4zzNnjJE3cKsQh6vIHXsO1pTX5tdddgmq8tPHa3br2ujIOssx6+NusU9or/8a3alYZsk+fV8RLNfm6rRfTtaXdZLQZ1iNHrqbM2eEqOgS80C8WijIdMX6C+PGvfhwr8/98+K71z5v19vcg7ou13p8q7uvhRm6ejuL/Xun3+vOdVM0a0VjyjdfseFBzZaN/c0w7YaCo7RE/+88BgHWY0c81JQpyjd8+hftOCfVYdtstexlp+6PTBbC/76iO7p2VFBNoMmLzxn51UStsky0u63r+iRvh0v3v709KoDUACAy2jatKlZAlCPGOGGCr799lv98ssvZhkAgJo7sVbTn3pXKcUtdfuUqRrTs438Ksm9CnOPKnHus3pze6HUabRmvzSkwo6mAACg9u699175+PiYZQD1hBFuqKBFixZmCQCAWjnw5SdKKZbUe4weuaXysE2SvPza6PYBN1vO/HKg+l1XAQBAjfj6+hK2AQ2MwA0VtGzYFbYBAK4k95wuNVH06OEDlhOdOqqySZEAAKB2WrVqZZYA1DMCN1QQGBgoP78GXvcHAODUOkbdLD9JSn5Tf5ydoGTrHTolSYXKPXlAX17Y0VVStwExTCcFAMAOWrdubZYA1DPWcEOlkpOTtWfPHrMMAECNHV09XU8vTjHLlYoY/mc9MyLCEtIBAIDL5uHhoXvvvVeenp5mE4B6ROCGSmVlZenzzz83ywAA1ErhiWStXbdWiVsP6GhmltUoNy8FBbdRx36DFD8wRh1ttnoFAACXq0OHDurdu7dZBlDPCNxQpfXr1ys9Pd0sAwAAAAAc1K9+9SsFBwebZQD1jDXcUKVrr73WLAEAAAAAHFRoaChhG+AgCNxQpbCwMF6sAQAAAMBJXH/99WYJQAMhcEO1oqOjzRIAAAAAwMF07NhRLVq0MMsAGgiBG6oVHBysa665xiwDAAAAAByEt7e3brjhBrMMoAERuOGSbrjhBn4pAQAAAAAH5Obmpttuu02+vr5mE4AGROCGS3J3d1efPn3UpEkTswkAAAAA0IBuuukmtWzZ0iwDaGAEbqiRJk2aKDY2Vj4+PmYTAAAAAKABXHfddercubNZBuAACNxQYwEBARowYAChGwAAAAA0sE6dOrErKeDA3EpLS0vNIlCdc+fOacOGDTp79qzZBAAAAACoY5GRkerevbtZBuBACNxwWQoKCvTVV18pPT3dbAIAAAAA1JHevXurQ4cOZhmAgyFww2UrLS3VDz/8oH379plNAAAAAAA78vPzU79+/RQUFGQ2AXBABG64Yunp6dq+fbtOnz5tNgEAAAAAroCHh4e6dOmi6667Tl5eXmYzAAdF4Aa7OXjwoH766SfWdgMAAAAAO4iIiFC3bt3UpEkTswmAgyNwg93973//08GDB3XixAmzCQAAAABQDT8/P7Vr105du3aVn5+f2QzASRC4oc4UFRXp2LFjSktL09GjR5Wfn292AQAAAIBGLzQ0VGFhYWrdujVrtAEugsAN9SYvL0/nz5/X+fPnxdOubp09e1afffaZTe03v/mNzXkAAFB//v3vf9ucb9WqlW6//XabGoDGxcvLS35+fvL39zebALgAAjfABeXk5CgwMLD8/L333qv//Oc/Nn0AAED9efXVV/XUU0+Vn//88881ePBgmz4AAMB1uJsFAAAAAAAAAJePwA0AAAAAAACwIwI3AAAAAAAAwI4I3AAAAAAAAAA7InADAAAAAAAA7IjADQAAAAAAALAjAjcAAAAAAADAjgjcAAAAAAAAADsicAMAAAAAAADsiMANAAAAAAAAsCMCNwAAAAAAAMCOCNwAAAAAAAAAOyJwAwAAAAAAAOyIwA0AAAAAAACwIwI3AAAAAAAAwI4I3AAAAAAAAAA7InADAAAAAAAA7IjADQAAAAAAALAjAjcAAAAAAADAjgjcAAAAAAAAADsicAMAAAAAAADsiMANAAAAAAAAsCMCNwAAAAAAAMCOCNwAAAAAAAAAOyJwAwAAAAAAAOyIwA0AAAAAAACwIwI3AAAAAAAAwI4I3AAAAAAAAAA7InADAAAAAAAA7IjADQAAAAAAALAjAjcAAAAAAADAjgjcAAAAAAAAADsicAMAAAAAAADsiMANAAAAAAAAsCMCNwAAAAAAAMCOCNwAAAAAAAAAOyJwAwAAAAAAAOyIwA0AAAAAAACwIwI3AAAAAAAAwI4I3AAAAAAAAAA7InADAAAAAAAA7IjADQAAAAAAALAjAjfABRQVFWnv3r1muVIFBQVKSUkxywAAwI7S0tJ0+vRps1ypw4cPKycnxywDAAAnRuAGOLnDhw+rQ4cOuvbaazVz5kyz2ca5c+d0yy236JprrtH9999vNgMAADv45z//qfbt26tz586X/JFr3bp16tixo1q1aqX//ve/ZjMAAHBSBG6Ak5s+fbrS0tIkSf/v//0/rV+/3uxSbsKECUpOTpYkLVq0SImJiWYXAABwBfLy8vTkk0+quLhYmZmZuueee5SXl2d2k8p+NBsxYoRKSkqUm5urP/zhD2YXAADgpAjcACd3/fXX25z/9a9/rfT0dJuaJC1YsED//ve/y897eHioe/fuNn0AAMCV8fX1VURERPn53bt3a/LkyTZ9JKm4uFj/93//p+zs7PJajx49bPoAAADnReAGOLkJEybYfLDPyMjQuHHjbPqcOXNGv//9721qzzzzjAIDA21qAADgys2aNcvm/MKFC/XDDz/Y1N577z0lJSWVn/fx8dG0adNs+gAAAOflVlpaWmoWATiXH3/8UdHR0SosLDSbJEn+/v46e/Zs+fno6Ght3bpV7u5k7gAA1IU//OEPeu2118rPe3l5Vfk+rbJQ7sEHHzTLAADASRG4AS5i/vz5mjhxolmuICgoSDt37lSbNm3MJgAAYCdFRUW66aab9OOPP5pNFcTHx+vDDz80ywAAwIkRuAEuZMSIEfroo4/Mso3Vq1frzjvvNMsAAMDODhw4oO7du9uMMjd16dJF27dvl5+fn9kEAACcGPPJABeycOFCdezY0SyXe/rppwnbAACoJx07dtTixYvNcjlfX199/PHHhG0AALggAjfAhQQEBOg///mPvL29zSb17t1bf/nLX8wyAACoQ8OGDdOUKVPMsiRpzpw5uu6668wyAABwAUwpBVzQ3/72Nz399NPl55s2bardu3erffv2Nv0AAEDdKygoULdu3bR///7yWmxsrL744gubfgAAwHUwwg1wQU899ZQefvhheXh4yM3NTcuWLSNsAwCggXh7e+u///2vunTpIkm67rrr9Omnn5rdAACAC2GEG+DCjh07pvT0dF1//fVmEwCgBorzS3X2fwU6n1akwjPFKjpbosKcYhWdLVXRuRKzO3BJu9KS1bpZWwU3bWE2AU7B099dnv7u8vJ3l1eAhzwD3OXXzkv+nbzk7uVmdgeARovADQAAwEr+ySKd/ilf2bvylJNSYDYDAKoQ2NVHQd19FNTDV95BHmYzADQqBG4AAACSzh0o1JFPzxCyAYAdNL/eV23uDpBvqKfZBACNAoEbGr0SFahYBSpRUdl/C1Qq/rdwNm5yk5s85SFvechLbvKSh7zlxlKVAC4h73iRDq88o+yd+WYTAOAKhdzcRG3vDpBXM0a8AWhcCNzQ6JzVUZ3WPmVqj7L1i9kMF9NUYQpWFwXrOjVTJ7MZQCNWUliqQ8vP6NQ3uWYTAMDOWv/KX23uCjDLAOCyCNzQKOQpU0e1WSf1owp0xmxGI+GpJgpRN7VWbwWqg9kMoBEpyCxWyvxMnT9WZDYBAOpIYBcfXT0+SB5+zEAA4PoI3ODS8pWlA1qjE0oym9DIBaurOipO/mpjNgFwcbmHC7XvjUwV57LLKADUN9+Wnrrm98FsqgDA5RG4wSUVK08H9YXS9JVKxOgFVMVNV6mnOipOPgoyGwG4oPNpRdo3O0NFhG0A0GC8gz3UdUqIvIMJ3QC4LgI3uJyzOqKdepupo6gxd3nrWo1WiCLNJgAuJP9kkfb8PUNFZwnbAKCheTf3UNcnQuTdnNANgGsicINLOaEk7dO/zTJQI+01UB012CwDcAFFOSXa/copFZwuNpsAAA3EN9RT1z4VIo8mrOkGwPXwygaXcVD/JWzDFTmkddqtd5mGDLign+dlErYBgIPJSy/S/jdPm2UAcAkEbnAJKfpIB7XWLAO1dko79JPmqlj5ZhMAJ3V4xRnlHi40ywAAB5Czv0DH1501ywDg9Ajc4PQOaLWO6RuzDFy2MzqonXpLpWI0DODsclIKdGLDObMMAHAgRz7N0fmj/DACwLUQuMGpHde3OqT1Zhm4YtlK1V59YJYBOJHSEunAkiyzDABwQAeWZpslAHBqBG5wWud0XCn6j1kG7OakknVc35plAE7i+BdnlZ/BSFUAcAbnDhbq1NZcswwATovADU5rj95nyh/q3H59ojxlmmUADq6ksFTH17ImEAA4k2P/PSuVmlUAcE4EbnBKB/Vf5eqEWQbsrkQF+lnLzDIAB3fyq1wV5/OtDQCcSf6pYp3+Mc8sA4BTInCD08lTpg5rg1kG6kyWUnRSP5plAA7sxJdslAAAzih9M6/fAFwDgRuczgF9rhIVmWWgTqUqQcxxAJxDzv4CFZxmyQEAcEa8hgNwFQRucCoFOqOTSjbLQJ3LU4YytMssA3BAGUnnzRIAwFmUSpnbmVYKwPkRuMGpHNEmlarELAP14qg2myUADihrB1/UAMCZZe/idRyA8yNwgxMp1Ql9bxaBepOl/ylfWWYZgAPJzyhWUQ4/zACAMzt3oFClxSzlAcC5EbjBaWRqnwp11iwD9Spd28wSAAeSe7jQLAEAnExJYany0lnHDYBzI3CD08jQTrME1DvWcQMcW/4pNtUBAFfAxgkAnB2BG5xGllLMElDvzuiQilVglgE4iPxMvqABgCsozOb1HIBzI3CDUyhSns7rlFmGQ0rVDLe/q5/b3zVjldnmCkp1TmlmEYCDKD7H+m2Vyp6v+DfCFP1GPy3ONhvhKhLXhSn6jTBFr1tvNsGFpG3vZznOS+e79CeSwrO8ngNwbm6lpaWsRgmHl6sT+l6zzHIDKlLm93v18YvJSvgqXZkX1tH39FFwVJgGxkdp+O/C1drXuNiV2r9N90ds0kGzXpXIfvr3jhvV2qzXqVTNcFuhLyTd8ekfNG2o2e78umq0QtXTLANwAPvfOq2sn+p3d7u07f007Ouaj8IO771Vy3q2N8t1K3u+4he9qFRFaMrYTRrTzOxgXwXZqzXrswlaebqB7m8dSFwXpsf3mdWqDR6SphnhZrVuld/GLouUNDDWbLaTfKUdfEfzvp2vxFPpurBHibdfhK6/5jFNuWmkutj78089cobjXP6aE/K8Vo58TGFmBzspyF6vZd/N1OIDO5WRX1b0CVWXjo9p4s0PKqaZj3EJ+2o9yF9thgaYZQBwGoxwg1MoVI5ZajinUjX32n9oePRaLVplFbZJUlG+Mr9P1YdTV+g3Tf6lZ/6ZyeRDF8ROpYDjKmUGUsMpyVdG+lLN/k+UYhZZwja4mLz1mr0kXMNWvag16RfDNkkqyE1RUvKTGrOgl2YdOWN9KTidM9rx7VDFLBqr2fuswjZJyk/Xvn0v6vFF4RqfXPMfGi5HcR4j3AA4N0a4wSmc0k/arffMcv3bu02Tum/SriJJnsEa8macxg4PVusgT0t7UZEyk1P18fMbtOjzc5KkiD+O1Ot/aS1/22u6POUj3II1KWWcft3Z7OAIXH+EWxv11dW6xywDcAAp808re1cDjXCr49EmV6ROR7ila+P6u/XcnkOV/sjkciPc6nT02JWp09uYv17T3h+rNfmS3CM0bNACTQmPUICHpbng7BYtWz9Bsw+fkdRHz41bpmF2+fBTv+r0MbSTun7NSd0+SPFf75QUqOjoOXo6qo/CfSyj2Qpyt2jZugvHub3Gx2/VxFDzGuyjZYyfOvzGri9WAFCvGOEGp1AqBxiyUJSuBXeWhW03xej9nHGa+mDoxbBNkjw9FXxThCasflQrPoiQv6SUv36s11ZZ/zQIZ1es+v0yDwCOLU9H08vCNo/26h+9SMse3aQpIWY/OLO0fa9bwrZmD2ruQ5v0XOeLYZskefv30ZihH2l8oCRt0cJddTv6CXUtUIOHfKe5t8SWh22S5O1nfZwPafHebdYXAgBYIXCDUyhRkVmqd5nz1mvRAUkK17R1t6jDJdYnCR45VLN+5yMpX1/cn2gJ6uASigjcAMCKr6JvWaTF9+9V4sStmnVLrMK96nZtJ9S/sB5LNDdquKbc9bKiqzq87pEaEGEZ7pR27HtlmO1wCuE9P9LcwQs0NTzQbLJwj9TgbhGSpIKjSS69cQMAXAkCNziFUjX0zOdMffz3Y5Kk4D/G6I4gs71y3abGqJskZSXr48/N1gawf5vud/u7+rmt1lZJKjqnzX/4SL9pYtlVtJ/bP/SbAZu0+YjVZfKyK/QZHr1Wm/fXPEE8uyVZM6L/pYFlu5f285qj+wdsqtV1OJLiSidNAcDlKd9x8MLOkmdXa/YnvRTzRtmOk/N6adKW1cqwXi8r2+wTpTEbVyutxgPC85W2/0VNWtLVcvkL17HuHe2o9W8KoerSKVZdAgPlbTah3IUdROO3H5Ik5Rx/R9OWWT3+bw3StJ+22axam3PM7NNPU7dvs1k7rVp527R83SANnld2+TfCNGBJvGbvr3z6b/UCFd1njsY0N+u2AnzKpgCez1ZjHN/fIMe5+JA2bolX/FsXj3PMwrJ/p6bXYSNQ0Z37qLrtCnzczAoAwETgBtTE/lRtPiBJnuoXV4uFKtqGq99NlpNfrEg1WxtWUaY+vPVfmvbaIR0r/3JVpGMbt2la97XaelZSVqpmhb9doU/m9zs1LeJtzd1Sfm1VyNeuZxdrSN8N+uL7cxc/3Bfl6+DGbZoW8Q9Nei3T9iIA0Jidnq8x707Q4iNWgUjxISUlT9CIjetVICkn9Undvcjsk659uyZo2HsvaselvmCXpGvN6us1bM18JZ22Wty+OF379v1J4xdE6aVUFr2vSzmpkzXsoz9pTbrV45y/U2s2D9XEZEtQk5o8VAP+Y/ZJ0cavh2rAqqWXHD2Wc3ymxiwYqln7dirDKojNOb1Fi9f0UsxH85V6qefKZcjJz7acaNJMVQ2Eayzq4zjnn12hqQt7aWryFqVaJZwFuZZ/Z8C7TyqxDpLPjLOW2+/dJtrua8gBgKsgcANqYscJHZQktVNklNlYnWaKvLVsjbekTFnGyDmCfK0bv1RzsyI1Y8dkrSv9gzaV/kHr9gzSbUGSsnbq9VmH9MX9K5SgCD2e9OjFPseGa3hnSTqnD5/fqerismOvrdKkv55Tr1n3aUWO5fKWf2e4ft3L0mfXH5bq9UsGdwDQCOR9rGkfvaicaxdo2cOpSvptmpImpWpZbJwCJOXs+ZPePrJC0xKWSp1f1uLxZX1+m6o1Qx60fOnNna95e9LNa7aSra833a1pB67SsMGbtGFi2sXriH9Z/f0kKV0rEyZo5VnzsrCHM6dm6pmE9erae5nWPFr2+E9M1twbIyVJ+7a8qDVHZurxLdvUPWqRll3oMylVi28rG3V0+Fm9Xd2HijP/0jMfzdapDs9r7rgLz5M0JT26Sa9H3Wjpc/xFPbTFzutvlWzRymTL8y+s9U1qzMv41ctxPr9Br3w8WRv9RmrWyL1KvHCcJyZr8e1xlsc/d6ke//zSwV2t5K/Q2z/lS+qjqT3Lnk8AgAoI3IAaOLb/wpcXH/nXcset4HZl61/szCgL7RxBqr5YFa6ZSYN0W6RP+RQg766RmvFxlLwlHZvxkWas66oZe4Zq+E1NL/ZpFa7H37T00cZD2lnNrNBdG0/ojk/HaebT7RVs9bh5dw3XpK/GadJNkpSvFU8nVxvcAUCjcHCFEjsu0uLYuIuLlLv7KPzaBZoZ6SPpkBZ+MllJ1yzQ8sEPqovfhfFDPgoJf1nPRVrOJx39/uJ1VpCupCOBmjLSXPTeRyGhD2rW6EUa7CNJWzTre34NqQsZP6/Qmd6rNLdnH4V4lRU9QhV962JNbSVJqzXtk9nyuXWTFvaJVfiFPu4+6tLjDU1sJUn5+j6tmk0Jjm3R3i6LtHzoY4r2txpn5hWhmD6rtKy3JfTJ+ekFLbdbsJqvHVuf0vJiSYrVxCjLGl+NVb0c59wtSvJ9XstGvqr+IVZTuj1C1SVygZYPGW4J7o48q7etlwu5XMVnlHpwpia9P1mJ7jdq/H0LnHInWgCoLwRuQG1EXqUOZq3Gqkmmai1TcyMurKlWxd/91U9h7fZiP/WqbC26a0Nl+RgutX66l2XEmyk6TD0lSek6dsBstNIrRpOHVjGhxDNYv55VFtxt3a9vjpsdAMDJZLyoYRfWYKrib1q1L803auKtsZWum9SpZXTZqfYac6NlxJvp+rA+lhMZh6pdxNw78vmq1+HyidXjt1hGrBTs+Vw7zHZI+8ZWOK62f/20uGxWZaU8HtSUSsOoUHUNvfCeGafxPSrv06ONZWmL1EzLlL7KVf1ckqTwqOc1wkOStmnjwepGRNbUGe34ZqjGbz9UtrvlnLLg1ok5xXH20Yjejym8im90AeHTy4O7lb9c5mjG1MkX7/O8ropfNVtJbnGacf8qTWxVxaYKAACJwA2opVN5stsPwQ0qWLcObGoWLVo1VbAkyVO9BllOVeDvo5r8oNlzfETZdVWhf7gGSpIOaXuS2QgAjUzzO3RTFS+uIX4tLSc8YtWninl63l41+fLro2FdyoK5KoR0HKIuklS8RT9WFyjg8lwdo+gqPoGH+Le3nGgbq+gLI54M5ZsSVKftKA2o4rkkSXLvo5hrLCeT0q4wVi0+pJVrbtP4bTsti+33X6UZVe1u2ZjUx3H2GKU725pFa6GK6Wz5GdWuu4nmrda0d8M1ZqPtZi4AAFtVvA0AqNTx7MtfA8PXt8pfmmsvWJNSLq6JVunf++HmhWx4ly0tV7VAtW5l1monuFUVoV65YHUoG06XspdvdQCcXMjzWnlhDaUq/mZU99Ls7nPpReaD2l3huljtFeZn1gyBEbLczBTtY75/RV0WVTiutn+bNKa6rMTtkkdZahp6Zce5BpcPb142supUymUHMQUZ7+jx93rppf3pktprxNDvNLdbZSO2nJAzHOcavB6ENSs7Hhk7VO0A26qEz7G9348ma3HsSIW752vfrgkaXIONHQCgsSJwA2qgddcLO5Nm6mB1UygrkfJD2beVyGbVj/YCAABwCvlK/Wms7l76JyXmSvKL04xxWzW1AyPbXJ5XqLpc+6qW3TfFslHLYTutDwcALojADaiJ6Pbla5Zt/6Y2a7Gl6+eNllPBA9uptdmMcpcecQcAqG8+fFJ0feUbZ9RQSbrWrLlF8ZvXK0NS2LULtGbcAg2ubgorHICvWbgyoQ9qfFtd2fpwAODi+BgF1ESrcN3Wy3Jy69L9NV/HbeNOfXhckjzVL+7CKLnGI/P4ObNkyNTBnZZTHTpXNy8DAGAfh5SWa9YMZ1LKpp5FqGNlG+fA8Z1Lv+Q0v9TTZbtfNo+wjFSqiZIULf4oStPKppAOi0vWytg4hfCNomFkHb7kcU7LLjvOIRemitdAYYpSL/lhN1QtylYOKcjPMhsBAARucBZucjNL9ayphjzb1bKj5qr1em1VvtmhoqJMLfp9sgokqf8A3V/9GtUuafvCFFW7/M/GVK2TJLVXzwsb8DkBN146ATitfK3ct8Us2sg4kKB9kuTRR9fzW4hzOvKBNlQXmJRsUeLPlpPRYd3N1irkK3HjUM1Ol6RITRy5Sc91anw/JjqU4g/0ebXTOdOVuN/yy6Z3m+gaBatpO+MV869+it+8wvIZtkrpOlX2u6q3D8k8AFSGb41wCu5q+PmG3kP76fH+kpSvL+5erFnLs6v+IHLqmBb0fVcLdkpSqCbNjWyc67dtTdScqsLJokx9OPVCINlVt17hBg31ycMSvQKAUyrY+aIWnzarZfLX6/VvLdPDArrdq5pGMXA02zTvm/XKMctlUpNf1PJiSeqjX3WoYWh29gO9veeMJB8NjvtI40NqsCkA6li+ln89X6lV7BSak/pnzTsuSYEaFnGj2VypsBaRls1bfvmjZqSeMZsvSn9HC8vCvphWZTtgAQBsELjBKbg5QOAmNdWQj0dq7E2SlK2E+Lc1sN1HmvF8sjYvT7H8LdqmWQPe1sCWS7VoqyTP1pq04zf6dVfzuhoJz3x9cfcCPfHKIWVa/dJesDdVC+KWau73khSsCU4WSBK4AXBq7js1e0kvvbQ/RTnFF4r5ykhfqpeWjdWafEkewzXtlpp9QYcDcpdy9o3VsJXzlXTW6oevwhQlfhuvh762jHoKv/VlDavp2mvp32uHJClOgzuxOYLDSH9R8Uue1MaMMxd/CC5O1749T2pMwgrlSPK+5u+aWNOFhFs9rhldAiWd0ZqE2zR1505lFFq1F59R6v4nFf/RbMvutoFT9FBnwlcAqIxbaWlpqVkEHE229utHzTPLDaPonDZPWq5pb1U3WdJTEQ/fqRn/iFBre65Ru3+b7o/YpINmvUpdNbM0TmXLz1ldPliTUsbp151te1ukaobbCn1x2X0utEl3fDxOPect1ax1VYxyU1Pd9sEYzRhZtgiIk2in/grXXWYZgANImZep7N1VvebUjbTt/TTs67J1kmqiyyIlDYwtP1t++ZDntXLkY5VP+0qdrOiEFZffJ3u+4he9qFRFaMp9LyttXbyWZ1t3sOJ+o8bfu0QTW9UwVCm/7pobPCRNM2q8oJRjSFwXpsf3mdWqhffeqmU925efL7+8cfytlT8XLrPPxX9jgZaFvauHNm6pcpRbSOc5WjJoeI3XX6v187yy56ETcIbjbP2asbDvYT33yTuW8KsyraZo4dBn1L02mVhJilauGqqXDlczwk1lu9PG192GGS37+qlDPPPaATivGr7FAg3LSwFmqeF4NtVtb47Tppxxeu39fvr1yNayfM7wVM8/xmnGhnFKOP97LXjTzmGbM/IM1pC1j+rfy25Uz65Wn/R8mypibD/NTHnI6cI2SfJViFkC4CDcvBp6zU8n0KSPpo7eq4W3DVcXP6vXZp8IRUe9qsXjV9U8bIOD8lF4t2VaM3aBxrSNUED5J34fhYQO15ShW/Xp4JqHbXBcIW1f1soJqzS1S6RCrHacDWjeR2Ni12rDvbUM2yTJPULDhv2oNfe8rGFtI2yuV+6BCgmN1fjYtdpQx7vTunvweg7AuTHCDU6hWHlK1J/MsoM4pxW3/kuvb5VaPz1S789qzYRDF9dDjylIEWYZgAP45b0sZX5/3iwDAJxM60H+ajPUgX50B4BaInCD0/hOLyuv+j0vG873ifpN9Lc6Jin4zlv0zKyb1LOrj7w9pYKzRfL2t16D7uKUyxqJ7Kd/77hRNV16A3Wvt16Wpxr78EXAMR38MFsnt+SaZQCAk2k7NECtBtXhEDoAqGMMJIfTaCYHXuzlphgt+Niy8H/m59/qme5zNNDr7+rn9ncNDFirzUXmBeCsmqgFYRvgwLybW899AgA4K68gXs8BODdGuMFpnNA27dMHZtmxnEpXwl8268OlaTp4vCxl822vx/fcp+Edzc5wRmGKUWfda5YBOIjT2/P0v3dOm2UAgJPp+niI/K9moRYAzovADU6jWPn6RtNVIuu9yYH6FaXfKVCkp4CjOp9WpF1/PWmWAQBOJmrmVfL0Y0IWAOfFKxichod81EKRZhmoN03UgrANcHC+rTzlzk6lAODUvJt7ELYBcHq8isGphCnGLAH1Jkx9zBIAB+PmLjUN9zLLAAAnEhDBVFIAzo/ADU4lUOEKUHuzDNQ5TzVRa/UyywAcUPPrm5glAIATaX49G1QBcH4EbnA6HTXYLAF1rp0GyF2MmgGcQchNvnLjEw4AOCWPJu5q1o3ADYDz4+MonE5zdVEIa7mhHvkqWG11u1kG4KA8/NwV1IMvawDgjFr0aiI3D7MKAM6HwA1OqbPukYdY2wH1o4tGyo2XS8CptLrD3ywBABydm9QqtqlZBQCnxDdIOCUfNde1ut/yrgzUoU4aqmbqZJYBOLimHbzkfzU/zACAMwm5sYm8mjG8DYBrIHCD0wrWtQrXnWYZsJtQ9WQqKeDE2g0P5HcZAHAS7l5uajMswCwDgNMicINTa6dYtVFfswxcsWYKVxeNNMsAnEjTDl5q2dvPLAMAHFDYnf7yDmJ0GwDXQeAGp3e17lGYYswycNkC1F6Reph12wAX0G54oHxa8AUOAByZ/9XeuiqWtTcBuBa+TcIldNa9CtcQ1nTDFQvWdbpek+UhH7MJgBNy93FTxGPBcvfh/QEAHJF3cw91fqS53PhmCsDFuJWWlpaaRcBZndJP2qsPVKJCswm4pHYaUBbcAnA1OSkF+nlOpkqL+dgDAI7Cw8dN105tId9QT7MJAJwegRtczjkd1069pXxlmU1Apdzlpa4arRbqbjYBcCHZO/O1/61MlZaYLQCA+ubm4aYuvwtmR2kALovADS6pWPk6rA06ok2MdkM13BSqGxSuIfJRkNkIwAVl787X/94+rZICPv4AQEPxaOKmiEcJ2wC4NgI3uLQCndEhfaE0JZpNaORC1E0d9Cv5q43ZBMDF5R4p1M9zM1WUw1A3AKhv3s09dM3kYPlexTRSAK6NwA2NQp4ydVSbdVI/qkBnzGY0Ep5qohBFKkwxClA7sxlAI1KYXayU+aeVe4RR0ABQX/yv9lbnh5vLsyk7JABwfQRuaHTO6qhOa68ytUfZSjWbXcburce0+9tjum9KT7OpUWmqMAXrWgXrWjVTuNkMoBErKSzVkU9ylL75nNkEALCz1oP81WZogFkGAJdF4IZGrURFKlSO8pWtYhWYzU7ru69/0Mihj+p0ZrZm/nOaHv7tGLOLS3OXp7wVKB8FyV1MVwBQvbz0Ih1ZkaOsnXlmEwDgCgXf1ERt7w6Qd3MPswkAXBqBG+BivvrqKw0dOlTZ2dnltTlz5mjSpEk2/QAAts4dKtTRT3N0Zl++2QQAqA03qfn1vmozNEC+ofz4CaBxInADXMyZM2c0ZMgQbdmyxaY+f/58PfroozY1AEBF+SeLlLUjX1m78pTzs+uMfkb9Kygu0Fepa7XlwBeafsfrZjPgUty93BRwjbeCuvmqWXcfeQcxog1A40bgBrigrKwsxcXF6ZtvvrGpv/nmm3r44YdtagCAqpXklyp7T75y9hco93Chzh8tVHE+H51Qtay8TH2Vuk5fHVinr1LXqajEsjHH3HuWKbptH7M74LQ8m7rLr62X/Np7KaCzt5pd52N2AYBGjcANcFEZGRkaMmSIvv32W5v6ggUL9NBDD9nUAADA5UtNTdWqVau0atUqffHFF2azJGnKlCl6/XVGuQEA0FgQuAEu7OTJk4qLi9P3339vU3/nnXc0btw4mxoAAKi5n376qTxkM3/cqszVV1+t/fv3m2UAAOCiCNwAF3f8+HENGTJE27dvt6m/9957uv/++21qAACgaomJieUh2+7du83mCtq2bauhQ4dq6NChuvPOO81mAADgwgjcgEYgLS1NcXFx+vHHH23qixcv1ujRo21qAADgojVr1pSHbIcPHzabK7j22mvLQ7Y+fVizDQCAxorADWgkDh8+rCFDhmjHjh029Q8++EAjR460qQEA0FidP39en332WXnIlpWVZXap4Oabby4P2a6//nqzGQAANEIEbkAjcvDgQcXFxVWYBvPhhx8qPj7epgYAQGORnp5uE7IVFxebXSqIjY0tD9k6depkNgMAgEaOwA1oZH755RcNGTJEe/futakvX75c9913n00NAABX9b///a88ZFu/fr3ZXIGnp6eGDh2qu+66S0OHDlXLli3NLgAAAOUI3IBGaP/+/YqLi1NKSopN/eOPP9bw4cNtagAAuIrk5GStWrVKn332mb777juzuYLmzZvbhGy+vr5mFwAAgEoRuAGN1L59+zRkyBD973//s6l/8sknGjZsmE0NAABn9dVXX5WHbHv27DGbK2jfvn15yDZ48GCzGQAAoEYI3IBGbM+ePYqLi9OBAwds6qtWrdJdd91lUwMAwFmsXr26PGQ7cuSI2VxBt27dykO2mJgYsxkAAKDWCNyARm7Xrl2Ki4vToUOHbOoJCQmKi4uzqQEA4Ihyc3PLNzz47LPPlJ2dbXapoFevXuWbHnTv3t1sBgAAuCIEbgD0008/KS4uTkePHi2vubu7a/Xq1frVr35l0xcAAEdw4sSJ8pBt1apVqslH2oEDB5aHbB07djSbAQAA7IbADYBUtpB0XFycjh07Vl7z8vJSQkKCBg4caNMXAICGsH///vKAbePGjWZzBV5eXuUB29ChQxUSEmJ2AQAAqBMEbgDKbdu2TXFxcUpPTy+v+fj4aPXq1RowYIBNXwAA6sMPP/xQHrJ9//33ZnMFwcHBNiGbt7e32QUAAKDOEbgBsJGUlKS4uDidOnWqvObn56eEhATdfvvtNn0BAKgLmzdvLg/Z9u3bZzZX0LFjR911110aOnSoBg0aZDYDAADUOwI3ABVs3bpVcXFxOn36dHnN399fq1evVt++fW36AgBgD5999pk+++wzrVq1SmlpaWZzBd27dy8P2W699VazGQAAoEERuAGo1Ndff624uDibnd6aNWumhIQExcTE2PQFAKC2zp49W76r6KpVq5STk2N2qaB3797lIVtkZKTZDAAA4DAI3ABU6auvvlJcXJzOnj1bXmvevLlWr16tXr162fQFAOBSjh07ZhOy1cSvfvUrDR06VHfddZc6dOhgNgMAADgkAjcA1dq0aZPi4uKUm5tbXmvRooUSEhJ088032/QFAMD0888/l4dsX375pdlcgY+PT/mGB3fddZeCg4PNLgAAAA6PwA3AJW3YsEFxcXHKz88vr4WGhmr16tW68cYbbfoCALBt27byTQ+2b99uNlfQokULm5DNy8vL7AIAAOBUCNwA1MgXX3yhuLg4FRYWltdat26thIQE3XDDDTZ9AQCNz5dfflkesqWkpJjNFYSHh5eHbHfccYfZDAAA4NQI3ADU2H//+1/FxcWppKSkvNamTRutXr1aPXr0sOkLAHB9FwK2VatW6fjx42ZzBT169CgP2W655RazGQAAwGUQuAGolc8//1xxcXE2tfbt2yshIYEd4wDAxeXk5NiEbOfOnTO7VBATE1Mesl133XVmMwAAgEsicANQa5999pmGDh1qU+vYsaMSEhL4MgUALubo0aPlu4omJCSYzZUaPHhwecjWrl07sxkAAMDlEbgBuCyffvqphg0bZlO7+uqrlZCQoC5dutjUAQDOZe/eveUh2+bNm83mCpo0aaK77rqrPGQLCgoyuwAAADQqBG4ALtuKFSt077332tQiIiKUkJCgiIgImzoAwLElJSWVh2w//PCD2VxBaGho+a6iQ4cOlYeHh9kFAACg0SJwA/5/e/cdHmWZt338nEmZ9NASaSJIBwFpCgoCgoBDRgFZ3Kx9sbCy9oJlH2yvrKzLKq4FVx6VBxUXF0RSFlgQUQQWRKQIIkQwdAIJ6Zkkk7x/TBgydwohTJKZyfdzHDkMv+sKMRlm5r7Pq+GCLF68WJMmTXKrdevWTUlJSbr00kvd6gAA7/Lll18qISFBiYmJ2rdvn7G5go4dO7pCtpEjRxqbAQAAUIbADcAFW7RokW6++Wa3Wo8ePZSUlKT27du71QEADaekpMR14EFiYqKOHz9u7FLB5Zdf7grZrrjiCmMzAAAAKkHgBsAjPv30U8XHx7vVevXqpaSkJDbMBoAGlJmZ6Ray5eXlGbtUMHToUFfI1r17d2MzAAAAzoHADYDHfPzxx7r11lvdan369FFSUpLatGnjVgcA1J1Dhw65QrZ///vfxuZKWa1W16EHvGYDAABcGAI3AB61YMEC3X777W61fv36KSkpSS1btnSrAwA8Z/fu3a6Qbd26dcbmCsLCwlwBm81mU1RUlLELAAAAaonADYDHffjhh7rrrrvcagMGDFBSUpJiY2Pd6gCA2tu0aZMrZNu2bZuxuYKLLrrILWQzmUzGLgAAAPAAAjcAdeL999/XlClT3GpXXHGFkpOT1bx5c7c6AKDmVq9e7QrZfvnlF2NzBZ06dXIFbCNGjDA2AwAAoA4QuAGoM++9957uvfdet9rgwYOVlJSkpk2butUBAJUrLi5WYmKiK2RLS0szdqmgX79+iouLk81m04ABA4zNAAAAqGMEbgDq1LvvvqupU6e61a6++molJyezXxAAVCEjI8N1qmhCQoIKCgqMXSoYNmyYK2Tr2rWrsRkAAAD1iMANQJ17++23NW3aNLfaNddco6SkJEVERLjVAaCxSk1NdYVsy5cvNzZXKi4uzhWytW7d2tgMAACABkLgBqBevPnmm3rggQfcasOHD1dycrJCQ0Pd6gDQWPz444+ukO3bb781NlcQEREhm83mCtkiIyONXQAAAOAFCNwA1Js5c+bo4YcfdquNHDlSSUlJslgsbnUA8FcbN250hWzbt283NlfQqlUr16EHcXFxxmYAAAB4IQI3APXqtdde06OPPupWu+6665ScnKzAwEC3OgD4i//85z+uQw8OHDhgbK6gS5curpBt2LBhxmYAAAB4OQI3APXur3/9q5544gm32tixY5WUlCSz2exWBwBfVFRU5ArYEhISdOrUKWOXCvr37+8K2fr162dsBgAAgA8hcAPQIP7yl79o+vTpbjWr1aqkpCS3GgD4ivT0dLeQrbCw0NilguHDh7tCts6dOxubAQAA4KMI3AA0mD//+c965pln3Go2m03Lli1zqwGAt/r1119dAdvKlSuNzRWYTCbXgQc2m00tW7Y0dgEAAIAfIHAD0KBefvll/elPf3Kr3XjjjVq6dKlbDQC8xY4dO5SYmKiEhARt2LDB2FxBVFSUW8gWHh5u7AIAAAA/Q+AGoMG9+OKLeu6559xqEydO1OLFi91qANBQ1q9f7wrZdu7caWyuoE2bNq6Qbdy4ccZmAAAA+DkCNwBe4fnnn9cLL7zgVps0aZI+++wztxoA1JcVK1a4QrZff/3V2FxBt27dZLPZFBcXp2uuucbYDAAAgEaEwA2A15gxY4Zeeuklt9rNN9+sTz/91K0GAHXBbrcrISHBFbKlp6cbu1QwcOBAV8jWt29fYzMAAAAaKQI3AF7l2Wef1cyZM91q8fHx+uSTT9xqAOAJJ0+edB16kJiYqKKiImOXCq699lpXyNapUydjMwAAAEDgBsD7PP3003rllVfcarfeeqsWLFjgVgOA2ti/f78rZFu1apWxuQKz2ew68CAuLk4XXXSRsQsAAADghsANgFd68skn9eqrr7rVbr/9ds2fP9+tBgA1sX37dlfI9t///tfYXEF0dLQrZLPZbAoNDTV2AQAAAKpE4AbAaz3++OOaPXu2W+2uu+7S+++/71YDgMp8++23rpBt165dxuYK2rZt6wrYrr/+emMzAAAAUGMEbgC82iOPPKLXX3/drTZlyhTNmzfPrQYAkrR8+XJXyHbw4EFjcwXdu3d3hWxDhgwxNgMAAAC1QuAGwOs99NBDeuONN9xq9957r9599123GoDGJz8/33WqaEJCgk6fPm3sUsEVV1zhCtn69OljbAYAAAAuGIEbAJ/wxz/+UW+99ZZbberUqXrnnXfcagD834kTJ9xCNofDYexSwahRoxQXFyebzaZLL73U2AwAAAB4FIEbAJ9x//33VwjYpk2bpjfffNOtBsD/pKSkKCEhQYmJiVq9erWxuYLAwEDXqaI2m00xMTHGLgAAAECdIXAD4FPuu+8+/eMf/3CrPfDAAxWWnALwfT/88IMrZNu0aZOxuYKmTZu6hWwhISHGLgAAAEC9IHAD4HPuueeeCocmPPTQQxUOVwDge7755htXyLZ7925jcwXt2rVzhWxjx441NgMAAAANgsANgE/6/e9/rw8++MCt9uijj2r27NluNQDeLzk52RWyHTp0yNhcQc+ePV2HHlx11VXGZgAAAKDBEbgB8Fl33nmn5s+f71Z7/PHH9eqrr7rVAHiXvLw814EHCQkJysrKMnapYNCgQa6QrVevXsZmAAAAwKsQuAHwabfddps++ugjt9r06dP1yiuvuNUANKzjx4+7hWw1ufy47rrrXCFb+/btjc0AAACA1yJwA+DzbrnlFn3yySdutaefflozZ850qwGoX/v27XMFbGvWrDE2VxAcHOw68MBms6l58+bGLgAAAIBPIHAD4Bd++9vf6p///Kdb7U9/+pNeeukltxqAurV161ZXyPbdd98Zmyto3ry5W8gWHBxs7AIAAAD4HAI3AH5j8uTJ+uyzz9xqM2bM0AsvvOBWA+BZa9euVWJiohISErRnzx5jcwXt27d3hWyjR482NgMAAAA+j8ANgF+56aabtGTJErfaCy+8oBkzZrjVAFyYxMREV8h25MgRY3MFvXr1coVsgwcPNjYDAAAAfoXADYDfmTBhgpYuXepWe+mll/SnP/3JrQag5nJycpSQkOAK2bKzs41dKrjqqqtcIdtll11mbAYAAAD8FoEbAL90ww03KCEhwa02c+ZMPf300241AFU7evSoW8hWE2PGjJHNZlNcXJwuueQSYzMAAADQKBC4AfBbcXFxSkpKcqu98sormj59ulsNwFk///yz69CDtWvXGpsrsFgsrgMP4uLi1KxZM2MXAAAAoNEhcAPgt0pLS2W1WrV8+XK3+quvvqrHH3/crQY0Zlu2bHGFbN9//72xuYIWLVq4hWxBQUHGLgAAAECjRuAGwK85HA5ZrVatXLnSrT579mw9+uijbjWgMfnqq69cIdvevXuNzRV06NDBFbKNGjXK2AwAAACgHAI3AH6vsLBQVqtVq1evdqu//vrreuihh9xqgD87E7AlJCTo2LFjxuYKevfu7QrZrrzySmMzAAAAgCoQuAFoFAoKCmS1WrVmzRq3+htvvKEHHnjArQb4i6ysLNeBBwkJCcrNzTV2qeDqq692hWw9evQwNgMAAACoAQI3AI1Gbm6urFarvv76a7f6W2+9pfvvv9+tBviqw4cPu0I246EhVRk7dqwrZLv44ouNzQAAAADOE4EbgEYlOztbVqtV69atc6u/8847mjp1qlsN8BU//fSTK2QzBsqVCQ0NdR14YLPZ1KRJE2MXAAAAABeAwA1Ao3P69GlZrVZt2LDBrf6Pf/xD99xzj1sN8FabN29WQkKCEhMTtXXrVmNzBbGxsW4hW0BAgLELAAAAAA8hcAPQKKWnp8tqteq///2vW33evHmaMmWKWw3wFl9++aUrZNu3b5+xuYKOHTu6QraRI0camwEAAADUEQI3AI1WWlqarFarvvvuO7f6Bx98oDvvvNOtBjSEkpIS14EHiYmJOn78uLFLBZdffrkrZLviiiuMzQAAAADqAYEbgEbt+PHjslqt+v77793q8+fP1+233+5WA+pDZmamW8iWl5dn7FLB0KFDXYcedOvWzdgMAAAAoJ4RuAFo9I4cOSKr1apt27a51T/66CPdcsstbjWgLhw6dMgVsv373/82NlfKarW6QrY2bdoYmwEAAAA0IAI3ACgLPKxWq3bs2OFW/+STTxQfH+9WAzxh9+7drpDNeGpuZcLCwlwBm81mU1RUlLELAAAAAC9B4AYAZX799VdZrVbt2rXLrf7pp5/q5ptvdqsBtbFp0yZXyGacUVmZiy66yC1kM5lMxi4AAAAAvBCBGwCUs3//flmtVv30009u9c8++0yTJk1yqwE1sXr1alfI9ssvvxibK+jcubPi4uJks9k0YsQIYzMAAAAAH0DgBgAG+/bt07hx4/Tzzz+71RcvXqyJEye61QCj4uJi14EHCQkJSktLM3apoF+/fq6QbcCAAcZmAAAAAD6GwA0AKvHzzz/LarUqJSXFrb506VLdeOONbjUgIyPDLWQrKCgwdqlg2LBhrpCta9euxmYAAAAAPozADQCqsHv3bo0bN0779+93qy9btkw2m82thsYnNTXVFbItX77c2FypuLg4V8jWunVrYzMAAAAAP0HgBgDV+PHHH2W1WpWamupWT0pKktVqdavB//3444+ukO3bb781NlcQERHhOvAgLi5OkZGRxi4AAAAA/BCBGwCcw/bt2zVu3DgdOnTIVTObzUpKStLYsWPd+sL/bNy40XXowY4dO4zNFbRq1cotZAMAAADQ+BC4AUAN/PDDD7JarTp69KirFhQUpKSkJF133XVufeH7/vOf/7hCtgMHDhibK+jSpYsrZBs2bJixGQAAAEAjQ+AGADW0ZcsWjRs3TsePH3fVLBaLkpKSNHLkSLe+8C1FRUWugC0hIUGnTp0ydqmgf//+rpCtX79+xmYAAAAAjRiBGwCch82bN8tqterkyZOuWmhoqJKTkzV8+HC3vvBu6enpbiFbYWGhsUsFw4cPd4VsnTt3NjYDAAAAgETgBgDnb+PGjRo3bpzS09NdtYiICCUlJemaa65x6wvvcuDAASUmJiohIUErV640NldgMplcp4rabDa1bNnS2AUAAAAAKiBwA4BaWL9+vaxWqzIzM121qKgoJScn6+qrr3bri4a1Y8cOV8i2YcMGY3MFUVFRbiFbeHi4sQsAAAAAVIvADQBq6ZtvvtG4ceOUnZ3tqjVt2lRJSUkaPHiwW1/Ur/Xr17tCtp07dxqbK2jTpo3rVNFx48YZmwEAAADgvBC4AcAFWLt2raxWq/Ly8ly15s2bKzk5WVdccYVbX9StFStWuEK2X3/91dhcQbdu3VwhG0uBAQAAAHgSgRsAXKA1a9bIarWqoKDAVYuNjVVSUpIGDBjg1leSli5dqpMnT+qWW25RaGiosRk1ZLfbXQceJCYmuu2pV5WBAwe6Qra+ffsamwEAAADAIwjcAMADVq1aJavVqqKiIletZcuWSk5Odgt2Zs2apaeeekqSNH78eH3++eeuNpzbyZMn3UK28r/vqlx77bWukK1Tp07GZgAAAADwOAI3APCQlStXymq1yuFwuGpt2rRRUlKS+vTpI0m68cYbtWzZMld7QUGBLBaL68/+IjMzU7m5uWrdurWx6bzt37/fFbKtWrXK2FyB2Wx2HXhgs9kUGxtr7AIAAAAAdcpsLAAAamf06NFKSEhwqx0+fFg2m821cX/Lli3d2n/55Re3P/uDn3/+WR06dFC7du30xhtvGJtrZPv27Xr55Zc1aNAgXXrppXrooYeqDduio6N166236p///KdycnK0dOlSTZkyhbANAAAAQINghhsAeFhSUpLi4uLcau3bt1dSUpISExM1ffp0Vz0hIaFCX19WWFioAQMGaMeOHZKkgIAAnT59WhEREcauFXz77beumWy7du0yNlfQtm1b1yy266+/3tgMAAAAAA2GGW4A4GHjxo3TF1984VY7cOCAbDabQkJC3OopKSluf/Z1Tz75pCtsk6TLL7+82rBt+fLlmjZtmtq1a6chQ4Zo1qxZ1YZt3bt315NPPqlvvvlGBw8e1Ntvv03YBgAAAMDrMMMNAOrI0qVLNWHCBLdau3btlJqa6vrzgw8+qDlz5rj18VXGmX1ms1mbN29Wv379XLX8/HwlJia6ZrKdPn3a1VaVK6+8UnFxcbLZbK698AAAAADAmxG4AUAdWrx4sSZNmmQsu4wbN06JiYnGss85duyYevTooYyMDFftueee0/PPP68TJ064ThVNSEhwO1SiKqNGjXKFbJdeeqmxGQAAAAC8GoEbAHhQZmamnn/+ef3444/q0qWLevToobS0ND3//PPGrpKkHj166McffzSWfUppaamGDx+ur7/+2lXr2bOnpkyZoqSkJK1evdqtf2UCAwNls9lcIVtMTIyxCwAAAAD4DAI3APCgl156STNmzDCWqxQcHKyCggKZTCZjk8945ZVX9PTTT7v+bDabVVJS4tanMk2bNnUL2Yz72wEAAACAryJwAwAPmjJlit5//31juVqHDh1SmzZtjGWfsHnzZl155ZWq6VtJu3btXCeLjhkzxtgMAAAAAH6BwA0APGjFihWaNm3aeZ0++tNPP6lr167Gsk/o2bNntaeKqqzPmZDtqquuMjYDAAAAgN8hcAOAOnD48GHt3r1bu3bt0q5du1yfnzx50q1fixYtdOzYMQUEBLjVfUVAQECly0fNZrP69u2rP/7xj7rjjjt8esksAAAAAJwvAjcA9SanpEQHC4t1uKhYR4ud/80pKVF+SYnyS0qVXUlwA++2ecaz2jP/A2PZTXibtrr0pt+o6x13KqSF8zCEMLNZoWaTQk0mhZvNah4YoLZBgWoTFKi2QUGKDfTNABIAAAAAROAGoK6USPq1sEh77YXaa3f+95TDYewGP5Bz6KD2Lvg/pf47Sdm/HjA2u4S1aqXRi5Yoot0lxqYKQswmdQoOVmdLkLpYgtUpOFghZmbJAQAAAPANBG4APKZU0u6CQm3Iy9fmvALlMmOt0Un7brNS/rVIvyYmqCg7y9isIX9/R+1vuNFYPqcASZeFWnRVWKj6h4XIwhJVAPA7pWc+SkvlvIIwqVTcqvg7sySTySRT2ecA4C8I3ABcsNOOEi3PztG3ufk67SBkg+QoLNShFcv1y+LPdOTrr1TqcCg4Kkq2L79WaEyssft5CTKZNDAsRGMjw9UhOMjYDADwcgUlpUopLNTBIuf2EkeKinWwqEj5JdyWQLKYTGobFKjWZdtMXBwcqEuDgxRuJo4D4FsI3ADUWrrDoWWZOVqbm69iXkpQhfy0E8pKSVHTHj0VHBVlbL4gl4VYdFN0pDpZCN4AwFtlOUq0vcCuvfZC7SssUmphkbELcE5tggLVyRKszsFB6h1qUVMfPXAKQONB4AbgvGU5SvSvzGytyckzNgENopslWDc3iSJ4AwAvUVBaqs15BdqQm68fC+xlS0QBzzBJ6h4SrKvCQjUwLFRh7PMKwAsRuAGoseLSUv07O1fLMnNUwEsHvIxJ0tXhoYpvEqWoAJadoHJ77YU6VuzQqWKHTjmc/3WellyqvFLnf4u89PUt0mxWmNmsMLNJEWazmgUGqHlAgJoHmnVRYKC6WoKNXwLUu+PFxfoiM0ff5OYbm4A6MzgsVBOiI9QqKNDYBAANhsANQI38kG/X/IxMnSzmpFF4t2CTSeOjI2SLijA2oRHKLynV9gK7vs8v0PZ8u3L8+DCXMLNJvUNC1DfUoj6hFvY7Qr06WlSsJZk5+m9ePsccoEGYJPUPC9HE6EhdTPAGwAsQuAGolqNU+r+MTH3J8lH4mM6WYD3Qogl7vDRCWY4SfZdfoO/yCrTLbpejEV7pmCV1CwnWgNAQDQgL4XmAOpPucGhhRrY25jGjDd5jQFiIbmkSpRaBvPYBaDgEbgCqdLLYoddOZrC5MXxWhNmsP7Zoop4hFmMT/MyJYoe2lIVse+2FzLApxySpoyVIA0JDNDAsVLHcgMIDikpLlZCVo6SsXBVyOwEvFGgy6frIcI2PjlCwiT3eANQ/AjcAlfoh3643T2bIzksE/MCE6AhNjI40luEnDhUVa9HpLG3NtxubYNAzxKKbm0SqQzAHjKD2tubb9UF6pjIcbDMB7xcdYNZdzaLVPzTE2AQAdYrADUAFa3Py9L/pmcwQgV+5IixE9zdvqgAGuf3GyWKH/pWZrfW57Bl1Pkxlz4dJTSLVMpB9jlBzDkmfZmRpeXausQnwemMiw/XbJpEKZLYbgHpC4AbAzb8ys/VFZo6xDPiFbpZgPRLTTGFmLrZ9WWHZUrZklrJdkECTSWMiwzQ+KlIhPCdwDqcdJfpbWrr2s80EfNglwUF6pEVTNWdpPYB6QOAGwOX99Eyt4XAE+LlWQYF6Nra5ogM4wdHXlEr6Njdfn53OVjpL2TwmKsCsSdGRGh4RJmI3VOZne6H+lpahXD8+5ReNR5jZrIdbNFX3kGBjEwB4FIEbAEnSksxsfc7MNjQSFwcF6rmWLWRhWYnPKJGUkJWjJaezxS2/55kkxUVFaFKTSBFFo7zv8wv095OnVcwtA/xIgEm6t1kTXRUeamwCAI8hcAOgb3PzNffUaWMZ8Gs9Qyx6MrYZ4YIPyHSU6M2TGfrJXmhsgod1swTrjy2aMgMUkqTVOXmaz56u8GM3RUdqfHSEsQwAHkHgBjRyuwoKNevEKWaMoFEaGh6qe5s3MZbhRdIdDr18/JROFLOEtL5cFBioJ2Kb6iIOVGjUkrNytfB0lrEM+J1RkWG6o2m0sQwAF4zhS6ARO1Hs0Gtp6YRtaLS+yc3XSk7b81qHi4r1wjHCtvp2vLhYLx4/pRQ2x2+0vs8v0KeEbWgkVmXnKSmLawEAnkfgBjRShaWlmp2WrgImuaKR+yQji1P3vNBP9kK9ePwkhyM0kCxHif58/JR2FbCMt7H52V6ov588zTJSNCr/PJ2l7/IKjGUAuCAEbkAj9c6p0zpSVGwsA42OQ9JraRnK4fQ9r3G4qFhz0jKUV8Itf0Oyl5bqtZPp+oVAutE4WlSs2WnpHJCARqdU0pyTGdpn5/UOgOcQuAGN0JqcPEbxgHIyHA69fZKDQ7zBiWKHZp1IJwD1EgUlpXr1RLoOM0Dj9wpKS/XXtHSCbjRqr59MV6aD9x8AnkHgBjQyeSUl+vR0trEMNHo7CuwE0Q0sw+HQrBOnlMEyUq+SU1KiWSfSeVz83FsnM9gvEY1epqNEr5/MEM8EAJ5A4AY0Mp+dzlYeM0eASn10OoulVA3ok4xsbvi9VIbDofdOZRrL8BPJWbn6Id9uLAON0j57oRZxaAgADyBwAxqRI0XFWp2TZywDKHOq2KFkTi1tEN/k5mtjXr6xDC+yo8CuL3kP8Tu/FhZpIeEC4CY5K1c/FhBCA7gwBG5AI/J/GVmcOgacwxeZOcpi/5Z6lVbs0Px0Zk/5gk8ysnSQ/dz8yvs894BKLcjIElcDAC4EgRvQSOy1FzJSB9RAYWkps9zq2Xvpp2VnKa9PsJeW6r1THDDiLzbk5XMKLVCFw0XFWsX1AIALQOAGNBJLM3OMJQBVWJ2Tq1z2OqwX3+Tma3dBobEML7a/sEjf5LL819cVlpbqkwyWkgLVWZKZw/UAgFojcAMagQOFRdrO7DagxgpKSrUym72q6loBN/w+a2FGlrK5CfVpy7NzdZrl80C1cktKGLQGUGsEbkAjkJDFhQJwvlZk56qQZY516l+ns5VDaOOTsktKtJCw1GcVlpYqKYulckBNfJmTxwADgFohcAP8XF5JibbkFxjLAM4ht6REW/OZGVpXTjtKtIYTL33a+tx8ZTgcxjJ8wKrsPOURIAA1UlhaquUE1ABqgcAN8HMb8wrkYJIOUCvr2aeqziRm5TCD0Mc5JGZJ+aDi0lIlMvMdOC8rc3JVUMJ7FoDzQ+AG+LlvCQyAWttWUMBmyXUgr4TZbf5iTU4es9x8zLe5+SyPA85TQUmp1uTyvgXg/BC4AX7sZLFDP9s5/Q+oLUeptCmPJdmetpz98fxGYSkHjPiadQzEAbXCIDaA80XgBvgxTiYFLhzPI8/bwt54fmVTXr6IT31DhsOhPQzEAbXya2GRDhcVG8sAUCUCN8CP/VTARTVwoXgeedavhUVKLSwyluHDThQ7eJ74iHW5hKPAhWBvVwDng8AN8GO77MwiAS5UTkkJI9oe9A03K35pYx6Pqy/YkMsSeeBCfMtrHYDzQOAG+KnjxcXKdLApMuAJLMHyDEcpswP81Xf5nIjt7XJKSnSwiNmlwIU4VezQyWIOigFQMwRugJ/aZ+eiGvCUX1gC6RHHi4s5HdFPZTlKdIgwx6vt8vZlv/ZUHX73Ma269nItvKS1Pjrz0etyJU+ZpX3bT4iYA96AQTgANUXgBvipo8UsgfMHmfNszhuO8XOV2RAPacpcrejYWh91tGl3irFROvyI84Yo4d1UY5NfOcKSUo/gAAr/tpubUK/2kxc/PoVbZ2lFj0FaM3OhjqUYgrWsE0pfNUcbbZdr4fhZSssq3wjUP29+LgHwLgRugJ86VucBwWqtKzcCvXT2XmOHap0Jaj66pLU+Gj1XOcYO/qTWo/apOrJoi/PTrQt15JCxve7lrFqotGJJxVu0b5V/h2rVqfvnU+Owu4Fn2Lhedx5ZbWw6twNzlXBJa310yTDtPmBsPDe317yrZynT2KE6q6ad/dpafv/6sJ3TZ73aT94aeGd9rm/Hz3G+13SM1zUrf1L8r0d0a9lH/Na1GvHgSIVK0tY5WvHc6ireM4H6wSExAGqKwA3wU0freX+JnCVLan4Dmfu5UpYYi17GnqX8Qzt1+Ju9F3Rhf2Gj9u3UenJ/56d949W6rbG97kWMildMoKTA/uo0qp2xudHILilhfyoP2FfITYok6dDn2r/HWKyKXQcWfW4seiWWWXmvEkkHvXTgIPO9WTosSW0fknXlbLXrGqWAcu0BzTqrzWMLdNOXs9Wy4wSNeGGkWztQ344VF6u4lIsCAOdG4Ab4qXqfkXNoofZvNxYr51iVJG+fK5XzoU2Lrx6tNS+tVq23ePfAqH303QnO/kunKjrQ0FgfOk7VmJQjujUlQd07GhsblwIurs/pu+++U5cuXTR06FCtW7fOra2wtFRZHORSJlUpX+w0FiuXm6zUFcaidyosLVUme/TVm5MnT+rWW2/V7NmzlZeXZ2x2k+kwvrt4C7sydjmvCKJ/N1HNqnuf6xivUV++pTZRxgag/p2o54FtAL6JwA3wU4X1GA4EWCTphFKW1+QG0q6DScnOT6u7sPYDjNr7l8JSgoRzefbZZ7V3716tW7dOI0aM0Jw5c1xtWQQxThaLJCl/UZLSjW2VcA1Q+Mjr5WluQuvNH/7wB3388cd6/PHHNWjQIO3fv9/YxcUXTi0vzK39ktea7Sd6ZiuMypdlG/+Owq0faJ2tW7ltIEZr3YdbVH4eZ+FmY59h+vrdLSqsYswz591h7svajyZry28Hnd1uossgrXopWfnlvt5xwNjnciU/laycan9dduV8NVfrbJdrUcezy9kXDSr7Gar4/zu7dH6aDpd9743lf74ug/TDVknbZ2npJa310SU27Tlq/EuM9uqHq51f//UX1f5P+5Q0rw2xAXgTAjfAD5XWY9gmTdDVb0+QJOXPW6g0Y7NRbrL2r5Akq4b8zfl1/olRe3/DpfW5nT592vV5cXGxHn74Yd1yyy3Kz8/3iRv++tD+7/PUXpLS5ipls7HVyK6Dy5wDFO3+9pbz67zcSQK3elFaWqrk5LLBK0k7duxQnz59tGzZMrd+Z3jv88+i8LZlIfQXSUqvKgiqZ4Wrpmnp+Gd1YHu5vR6ydurAczatmud8b8+cZ9OiScY+e5U606ZFdy489+z4lLlKHnS3dm9IPfv+Yk/VsXl3K+Fp54z3wlWPaekwY58TSl94t5Ze/aJzBr1R1jptubaDlt7xog5sP+EWrhUedf4Miyac+yAmR8pcrRh2t/aV//nsndWki6Te8eraVZK2aPcn59jDd88SHTgkyXKXuoxzPtb+4GR9ryQB4JMI3AB/ZDIZK3UqYHi8ulok2T/RgQ3GVneOVUucs77GjNPF4cbWKthTdfjdaUoeVG6UtWM3Jfz2Me3+qtxFaGXsqUqdfZuSB3Rw+9rFtmnas9m4adrZgyCWziy7gNzzYtko7tmP6kfQK7qQUXvXaHhlB0sYRqJVfEKpL03W0i5n/l87aOlvX1Rq+dFne2qFPottjyn1QBX/jxe4UbwkqThL6YteNBwa0UGLr52sLUlVP37uMwHsykl6TMm9zj4OC4fNOnfA60H/9/HHuvHGG3XzzTfrzjvv1NSpU/Xwww/r6aef1gsvvKC//OUveuONN/SPf/xDCxYs0GeffaaEhAStWrVK69at03fffacff/xRKSkpOnLkiNLT05WXl1fPAXndmjdvnpo1a+ZW++STTzR48GD9cvSYW73RChipTrdZJNm17wv3ZbcV5CZr/ypJsqrdKN9I5E8x66NemEwmzZw5062WnZ2tG2+8UY8//rgchschq8R7H5eY301VhCQdmqPk0Y8pNaWK96N6UvjjLH09ZbWaPbNIN+0q2wbi5x80atplkqT0l17UgQ2ztOalLYq5e4FsZ/qk7Jf1hSEKlqRvntHO6gL19CVaN/5FFU6eJ9uO/a6vt71qVbCkwkXPaseGz/XtlIXSuJdl/a6sz6/7ddP/3uX8faXN1bbPThj+4p3acu1k56niMSPV/9MfFJ9yZiuL/brp04fUTJK2v6htSdX9nrfo+9+/qJyhMzTqzPdO2S/bv2eUXbu1U/vfOfeYPdcevmmfOK9fAuInqmV1g48+5pTXhtgAvAmBG4ALFzhEF08uu4FMqu4G8oT2L3Quo2g/eUKNlk+ePXTgc6UfLReQFWcpc8NCbbljkBaOn6vMyq4bs1Zr3YBB+vqN1UpPK9ehOEv52z/X5kndtPS5dW7LQzynnkfti/dq94TL9fW8deWWmdiVs2Guvh79mA7nOn8fG68eVKFP/vaF+nrYldpS3c1BbaUs1JpB3ZT8xFzDoRF25aes0+77B2nxI6vP8RjYlfmuTUvvX6j0cv8EHJ26OG8c6klBUbGWLVumRYsWaf78+Xr33Xc1Z84cvfLKK3r++ec1ffp0PfTQQ7rvvvt0++23a/Lkybrhhht03XXXaejQoRo4cKAuu+wyderUSW3atFHz5s0VHh4us9ms0NBQNW3aVK1atdKll16qHj16qH///rr66qs1cuRIxcXFadKkSbr11lt1zz336IEHHtCTTz6pGTNmaObMmXrttdf0zjvv6IMPPtCnn36qpUuXavny5Vq7dq3++9//avv27fr555+VmpqqtLQ0ZWdnq6ioyPgjXrBevXpp27Zt6tOnj1t927ZtevjJJ91qjVnLcb9TgCTHon/rWDWvDfnLFjrD9Inxal/TAYoGxl6H9eehhx7SF198ocjISLf67Nmzdc011+jYsbMhd2GJFz8uXadrxP+UHRCUslBfX9tBH/UaplUPztKer3YqJ6uyN/i6k//F5yp8JkGj7hui0DPPO0usWj75kQb2laRkrfvtHAU8uVZj/mekos/0CbSo2Z1vqk9fSbLr2KZqZn599bmOjFog66tWRUeVzfoKtCh68jxdc5tFUqp2/naajt04T7a371KzmDMzwywKHfWyBt3m/POxDd+d/TslSZep69TLpN4zZNu4QN0HxyrAFXJZFDp4ugZNi5UkpRr22XSXqpzihzTqw6lqeeZ7B1oU3aOz69ot9De/VztJOjRXP1c12Fq8TgcW2iW1U/eygM5f5LFNAoAaIHAD4BEtb6zBDeTRJKVscC4r6DTc2FiJlLladebQgb5TNaL8oQM//yTb2/HOgwS2vqiEO4zLN+w68PhtOpAlqfddGvHlmdHhI7p11w8a9YzzsIKcpM+Vlnvma0ZqSFmf8c90dpa6ztD4cgcd3PrrEdnuq9lpnfU3ap+l/U/YtCXL/WCG+C9nq12UpKyF2jx3nQ48cpv2yaqBCT+c7fPdAnVtL0kntHu28Xd4gbI+15prH9PhtEoOjSg/kr/kWe2q7sTGTS9qzcxUtXxmkW76+cxjuFbWZ6w1Cm09paAOT9gsKCjQ6dOndezYMe3fv1+7d+/W999/r/Xr1+vLL79UUlKSFi9erI8//ljz5s3Tm2++qVdffVUvvfSSnn32WT366KO6//779fvf/17x8fGaMGGCrr/+eg0fPlyDBg1Snz591LVrV11yySWKjY1VVFSUgoODFRQUpMjISMXGxqpdu3bq0qWL+vTpoyuvvFLDhw/X2LFjNX78eMXHx+uuu+7S/fffr0cffVTPPPOMXnrpJb366qv6+9//rnnz5umjjz7S4sWLtW3bNr3yyisaO3as+8/IzKezBk9Up7JZwQerDLpPKPWf6yRZ1HXySGOj1yry5mDHD91www3atm2bunfv7lZfv369evfurfXr10uSqnpb9hbRdydo8r9mqF2rskLWXh37Yo423zFaS3t10Ee9Rmvjop1V7z3mSZa71G9K2TWAm1g163Mm+LKq152V94m5yhloZe6rbjZ8f/V5cqRzNpxBdM+BZZ+1U/dpzvdJo5iBQ5yf/JRaYfZ7xN0rdWtCDQ5aOsfvMuaeu6rfDiN8grqUzdbds6hsTzqjrxZqj11S3/vKlqD6DwYXANQEgRsAzxgYr+4xkuwfaN9Xxkan/BVLlCYpYPL1NVhWkKUDM190biree4Zs/5qhNuUPHbBEKXrcbNlWznDOctrwjLasKh9o7VTaV5IUq8teflltOpbbNyQ8Vi3vW6Dxa1fK9uVstamrmSP1Nmq/WgdWjdSIBPeDGQI6xuuaf9ylAEk5b0zWum8m6Jov56lr79izfWJGauArzj7asK7y/WBqK8qqLpOjFDxxgSZ/aTg0ItCi6Mlv6YpRkpSqI99Uc2NyKFWa9i/nbIMzD2N4ZzUr/5jWg8KCAmPJ5xUXFysnJ0dpaWk6ePCg9u7dq+3bt2vTpk1au3atVqxYoS+++EKffvqpPvzwQ73zzjt67bXX9Oc//1kzZszQk08+qQcffFD33HOPbrvtNk2aNElxcXG6/vrrtXz5crfvZQ4855O+EemvjnfHVn+jejRJB7ZKsvxOF5+5//YBqceOyWKx8FGPH926dVNKSorMZvfL+rS0NA0ZMkTvv/++inwgHAgeOFXXbDyi+I0rNeL/PaT2gzsr+MzLRtZO7XtitBaNfFbHjLtBeNrYq6u8RgltXTbgNnikLqri2iE4OtpYqqjjKLU8Ey4ahMbEOD+xjFSbKkKqgPBaLDHPPaFj796mNW8Zl6FWJlYX9XMGh9U5M1tXSxbqgGvw8gy7Diz63Nnv5nHOE9n9SD6DCwBqgMANgIdcpg7xzgvRA0mV3UCeUOrSLZIs6nRj2chsddKStG+VJLXTZX+tZqS241T1KxthPbAwudySRYuCoiQpU0UVLgKdAtpfpuhaXLOej/oatY957LnKD13odJnKLt0Vcd/DzhlvRr0HqKUkaadyDxkbL4RFbV79SZNfq3wUv7zqJz/1V/fbnHvnNKQ/3n+/cnNzderUKR06dEj79u3Tzp07tXnzZn3zzTdauXJltUtOn3rqqRovOW3btq3bklN/YCJwc9PsxnjnDNglS3S4kue/a4DCx/Y9KjKbVVhYyEcDfJRUssSttLRU999/v44drGZQw8sEtLpMbW6briGfrtXklP2avHKB+k8sm0124AOtuqWSPU09yXn0evVaxV5YgBRoOfcM7fYXX9D3cKTt1OEFs7Rxymgt7tVaH/W4XKtmrq7hTPZoWSq7XjAafKe6t5WkZO0x7ieXtkT7yg7J6nTDucM7X5NfyfMNAIz84yoegJv6PTLhrOi4CWU3kJWMdB5Yop+3SoqZqo41ma3x/TodU/UjvGe0HGp1frKq7GskSZepzbgo5wySp6o5FKAe1P2ofWe1GVrFxWxMrEIkZ/h1TWXLXySFRynIWKtjjqy9Sn1qtNatMrZUImaIYqqYCVCfggICFBYWpmbNmqlNmzbq2LGjevbsqQEDBmjIkCG67rrrZLPZ9Jvf/Ea333677r33Xj344IOaPn26nnvuOf35z3/W66+/rrlz52r+/Pn65z//qS+++EIrV67U119/rU2bNmnHjh3au3evDh48qJMnTyonJ0cOh0N2u73CktOtW7e6lpwmJydXWHL617/+tcZLTi+//PJKl5yiDnWdqPZtJelzpVTYvDxVBz7ZIilW3W/yr32PUP9MJpOim7cwln2ERcFdR6r7a2s1+e2yvV+3z9LuqvYMg5S+Wluu76CFA0ZrzZ/maN+qncpXrKIHT9Blr67UmCeruBaolc7qeo/zNSptaZJbmJef9ImOSQq47U6f2YPyfDC/DUBNmEr96Xg0AC53Hzwme50+vVdr3SW36YAmaMSvb6mNJClVu0cP0pY9Urs39uuaG8+OEue8O0xLZ+5VxINrNf6xsou9VdP00ZTPnfukrSzb78zQv7K2Cg7MVcKwF5Wpy9T/25Vlo62Scnfqh9+O1s7tZX+O6qyWI6y6eMzVajl04NmNiitxXt+/Vuwq3LNOKXNf1JYlZRsr956h8Qnn8Xtw/dyd1X/tWnVvX77xjDOPUy37nON7HH6ktdYskaKf2Vjt3naOlHU6uOpLHVqzWse/36t8Q75Q2ddX+7M3gDfaxKppwDnnJPgVh8OhgoIC5efnq6CgoMrPK6tt2LBBy5cvV2HZ3neX3vQbXfW3OcZvUa/O/HvVxAW69bXz3BftHM+Fcznzvdv/7xENGeWsuf6Nj3lL8f8od5DMme/V9iHZvp0u5wK1ap6nXqRfXo6+mHqPsYw6VlhYqN27d+v06dNudZPJpPfee09tJv9WH2fUelTHS+zUDwNGa2eaFP3kWtmmnQ2OavZeVP1zqCavD67nbC371Oh9rZprI5eq+hRv0ea+Nu3JKts79Z3n1KZjVLmDE6r//6vV61zaQq0a8JiOqZ0uW7lRl3dVuetBi7p+ul8DBxu/yPf1DbXo0Zj6PLoJgC9ihhvgpxomGDh7THzqsvLLO/dq3//tdbbHnefIas/OlV9sVsruvglw+GW6/POfZH31IbXpHXV2Oef9k5XQq4M+urYhZ741jlF7x54P9PWg1lp47WStmzlXBzbsVWFUrJqNmqr+8zfqmonGr/BewaaGmjvacAICAhQeHq4WLVqobdu26tSpk3r16qWBAwdq6NChGj16tG644QbdfPPNuuOOO3Tffffprrvu0tatW7Vs2TJX2CZJDj/cA+9CRdxwp3PJ94olOlhuVnDm4g+VKSli4sSysM13tGvZUl999RUf9fjxzDPPaO/evRXCtosvvljr16/XlClT/OT1K0qWsnwj80Atlsge2KsMY83POJJed4ZtMVM1ZmXZ3ql1vSQ9ZqI6jZEzZPtki7O2Z6H27JHUdqq6+GHYJkkhfrLdA4C6xSsF4KeaBTbM0zt0zETnDeSqcjeQe5bowCFJXe9Up3MsD63gx73nsVeLRTJeWAZGqdnk6RqR8JNuTdmvySsXacgz8YqJKTvIYNht2nfU8DX1LHjcH5wHTsiuY9+XzXbzB0cXas3oZ5V6VAodPkOjvnWeUhr/3Q+y/u8MdR/e7tx72HgRi6lhnlO+ZMuWLerdu7cWLVrkVo+JidGMp592q0FSq3Fq31eSVmu/69CXvdq/JNW5VOum8xyg8AKhATxP6ktxcbGeeOIJjR07VidPnnRrGzdunHbs2KFBgwZJXj5gkPnuaC1+YnW5Qbqq2OUoG1Rr1rXy50ZhZtWz+PK/SlKmsehn8o+VBZFDr1aM8XpIkmTXyS2evs6wqP1dzsOXHAuX6FixlP7FQuVIir493ucGDWoq1IufUwC8B1dFgJ9q1VAblLcap46DJWm19i1zbqCbmfi5ciTF/G5ijWerRbQv2yT/wMFzb/C7Z0fZRXQvRZ1ZTlqZQIuCuw5R+/tma8zGterfW5LWaduCncae9ewCR+29VPqCWc499YbPlm3+VLVsW+6UUh8TZjYrkGvramVkZGjs2LFKTXX/Nzx69Gjt2LFDV/ZnL7KKYtXuZuchMocXLnG+1p0ZoOh7p9rXZDmXlwnhJrTePPLII/rrX/+q8rvDWCwWvfnmm0pMTFR0udMyvTZw2zNHa2buVP6i27Tirb3Vhm6Fq17XrhRJaqfWQ92XjUb3dF4z5H9RRaiWtVpbZpfNvmoMqhqsTJmrHSuMRQ8YfPak+p+TkpUy74Sk/upyQ1XLe32fxVufUwC8CoEb4KfaBtf3NvhnxKpDvHNPkGNfrFa+dmr/wlRJ/dV+TBUb+1em3xDnyZn21Tq8x9jo7tg3yc5PRpV9TU0EdtbFZctb848eN7Z6hCdH7X1R/lFn4Bp91dVVnFK6V2mbjDXv1KHBnk++48iRI26zbIKDgzV79mytWLFCF110kSzcm1Qq9IZ45x6YGz7X4bSzM0Nixo+7oBMKG0qYmQe6PpSWlmr+/PlutUsvvVSbNm3StGnT3OqSFO6ty9+63qWBE53HYab/ZZgWXvuY9m1PVWH53R5yTyh90WNKnvK5CiUFT3xZPQyz5SOGjnQO6B2aozVPJCvTtUTbrvztH+jra2/TgZ4T1P7Msd1+KuKKslPB97yor/+y7ux+qcV2ZSY9poTRs5RpKdu/dv9e5VRyQnLtnD2pPvXBu7XHLmnM79XJCw48qitNGmTrFgC+xkvffQFcqLZBDTTDTVLAqIlqJ0kbPlHqiiSlpEka/Du1O58Lr5hx6jRKklK18/G5yqzqojBlrr5f4LyibHeD9ewMquK92j2+g5KrGTHPP1XpOLgkKbRl2ahssb3Kr6+Wh0bt/UHmT5UvXylc8bp2HzJWvdPFDfh88hU9e/bUhAkTJEm9e/fWpk2b9Oijj7ramwRyc1KpcKs6jJGkdUpJSlbqohOShqjjuPMYoPAiMQ01u7qRMZlMuvfee11/vvPOO7Vjxw717t3brd8ZTb12qW+U2ry2SWOeGekMmFMWaqNtkBZ1aa2PLin76HG5kp9wBtHBQ2drzKtloVJ5Xafrmged7585i+5WQo8zX99Bi23PKtU+QSP+MV3N/X2P+74P6+ozAeZbk7X4zO+xYwcl3L9QmW2naszavzmv0ba+qKUdW+ujR1Yb/5Zaif7dfc4tRcq0n1zuIBg/1DLIn386AJ7ire++AC5Qh+CghrvQCbeq3RhJ2qLN985RvqQ28RPPc7ZGlNo/M0PNJGn7i0qY9KIO78k6G1zZs8pGa19UuiQNnq2B5U5Fdaybqx+22pX+l2FaesdcHTtabrjcfkLpC+7WmnedM7DaDXcu6SovoNtlztHylHe0bVFq2fe1K3/DB9q3uQYHLXho1N7bhbZyhgKZiz+vEIo2G1z2e10yTV8v2uuaxSf7CR179zYl3Pu5VPaQ5eyvPpRsaB0tzHCriX/961/avn27tm3bpj59+ri1NTGbxdynylh08TirJCntubu1M03SqHh18MGZOCZJLQlW682sWbP03nvv6bvvvtMHH3ygsLAwYxeXJl4buElSlGLuW6Cbdq3ViGfi1bJjrILL57ZRsYoePFWDEn7QTR/FK7qKTLfZY2s1/u2patnR+d4rSbLEqln8bNm+fUttypX9lzPAtL0ar2Yx5U5ij+qslnfP0/iVMxTTaoIGfTpVzcqaA+xZOnu8zQVo9Tt1HVP2ueUudRpuaPczFzG4AKAGTKXlN34A4Ff+3/FT2mP3yGVUJVZr3SW36YAmaMSvbzmXRJV35sh6SZJVQ3bNU/vwKvoYj7Uvp3DrLK2ZNEdpVc1wk6S+M2T751RFl7u2lOzKfHeSEmZWv2dL6OQFslU2Wq4sHZjSTetWGeuS+r6sm5beVYMAMUtp707T1zNXn3MfuuChszXmw4o3EjnvDtPSmXsr/x0dmKuEYS8qU53Vf+1ada90v6czj1Mt+5zre+yZpaWj55TbK6Zcv+K92j1hmLZsd/sKl+Chs2X9n1StKvf10c9slO2+slkK1f3s9ezdthcpzFuXZPmQJ4+m6WhRdU/munX4kdZas8RYrYrhtc31XKiZ8v+WVe57t//fIxoyyq2rVLxa6zrepgNlf2z3xn5dU24Awama56mXaBUUqL+08sGksJG45+AxFXDZjzp07E8dtGqBXREPrtX4x/xni4zKfNiuVcMNbAPwGdw9AH6sb2iIsVR/hser65n7xTHjdLExbKuh4L7TNWbXRo14ZoKatSo3PB0YpejB8eo/f6PilxrDNkmyKPq+BMWvXaD+8UMUXX6kNzBKob0nqP/8jRpfadgm5wy7d3/QNXcPUXS5bxvce4IGPntTDcI2eWzU3qt1nS7r/IfU0rVcOFU5B8s+Deys7p//oFEPWt1+hwExl6n9Cwka/2G8IrpO14hXrAot+9kd9qpPmGsolwQHEbZ5SCf2wqtc4Eh1uu3Ma5RV7UZVeEHzCQ12WA9q5BKef6hLxau1b4FdUju1L9sj11+1CAwgbANQI8xwA/zYwaJiPXM0zVgGcB5uiIrQb5pEGsuohS9z8vRBek3niMHX3NI0SmMjazm6gjq38HSWkrNcpwkAHpW/cLIWP7XuPFYB+K5BYaGa1qKJsQwAFTBkD/ixi4MC2WMCuEADwhpwpqifYYabf+tsqXy+MLxDp2AeH3hI1gnllz8JdtWzWvHUOklR6vqsf4dtktSZfV0B1BCBG+DnBoUTFgC1FRsYoA6ERB5zcXCQWjII4JeiA8y6lOeKV+sTauHCHx6Rs/A3Wlz+JNgpHyhHUrNnEjRwoLG3/+nXkFu2APApvO8Cfm5ouL+PMwJ1Z0h41af+4fyZmDHotwaFhXIKrZcLNpnUM8Q39weEdykstii03D+l4I5D1P3tjRpzn3/v3aay1SMtOI0ZQA2xhxvQCLxw/KT22YuMZQDVMEl6rU2smgdwYe1JvxYW6U/HThrL8HHPXdRCnVhm5fVW5+TpQ/ZRBGptQnSEJkazryuAmmGGG9AIjIpgE2vgfPULDSFsqwOXBAepbRDLSv3JRYGBhG0+YnBYiAKYigjU2jXMfAdwHgjcgEZgUHioIsw83YHzcV0kF9V15TpOsvQr1igeT18RZjarP/tPAbXSPSSY5aQAzgt34EAjECDpem6IgBrrEBzEXkd1aEh4qJoxe9AvhJvNGsJeoT5lWASDCUBtDGd2G4DzROAGNBLXR4Yzyw2ooVubRhlL8KBgk0mjmEHoF0ZHhinYxBpFX9IrxKIYZukA5yXSbNYVHPoD4Dxx9w00EkEmkyZERxjLAAx6hVjUxRJsLMPDxkaGKzqAyxBfFmo26fpI3ld8jUlSXBSPG3A+ro8KVyCDCwDOE1e6QCMyKjJcbdisHKiSWdJtzG6rF0EmEye9+ThbVIRCzdyA+qJrwkMVzqx3oEZCzCZdxwFkAGqBd1qgETFLurNZtLEMoMyYyHC1IpSuN9dGhKllIL9vX9QiMEBjOfzCZwWaTLqBWW5AjYyNDFcIgwsAaoHADWhkulmCNSiMDa4Bo2YBAcy4agD3NGcQwBfd2TRaQSyv8mljIsPVnL3cgGo1CTDLRjgNoJYI3IBG6M5mUWrOCYGAi0nSgzFNGcFuAF0swbqWUxN9ytDwUPUJ5RRfXxdgkm5nCT1QrfgmURwMA6DWCNyARijcbNYDMU3F5QPgNCE6Uh2Dg4xl1JP4plGKZaaNT4gOMOt3hDR+o19oiC4nPAUq1T0kWFeFsyoEQO0RuAGNVMfgIN3chOVzQM8Qi8Zzgm+DCjGZdH+LppwA5+VMku5v3lQRbLbvV37fLFohPPcAN0Emk+5t1sRYBoDzwhUT0IiNi4rQgLAQYxloNGIDA/RgC2Z7egMGAbzf+OgI9QgJNpbh45oGBDBrETD4bZNItWDmNYALROAGNHJ/aN5EHVhKh0Yo1GzSYzHNFMa+bV5jbGS4BjII4JV6hlg4VMSPjYgIU99QnnuAJPUKsWg0pzAD8AACN6CRCzaZ9FRsc7UndEMjEmIy6enY5modFGhsQgP7Q/Mm6h3CnlLepIslWA/HNDWW4Wfub9GEvRTR6MUGBuiPLXi9A+AZBG4AFGY26anYZrqE0A2NQLDJpMdjmzGz00sFmUx6OKapulhYuugNuliC9URsM/b4agRCTM5ZvzzWaKyCTSY9zsx3AB5kKi0tLTUWATROhaWl+ltahn4ssBubAL8QaTbrCcI2n1BQWqq/p2VoO69HDaZHSLAeIYBpdH62F+qVE+kq4hYBjUigyaTHY5qqJzOsAXgQgRsANyWS3j11Wutz841NgE+LDQzQ07HN2QTZhxSXluq99ExejxpA31CLHuTk2EZrV0Gh/ppG6IbGwSzp0Zhm6hNK2AbAswjcAFTqX5nZ+iIzx1gGfFLH4CA9HttMEWZ2UvBFCzKytDI711hGHRkaHqp7mzcxltHI/Fhg19/SMlTIrQL83LQWTTQoLNRYBoALRuAGoErb8u16+1SG8kp4mYDvGhMZrvimUWJem2/7KidP8zOyVMxlS50xS5rUJFK2qAhjExqpXwuLNOtEurJLSoxNgM8LNpn0KMtIAdQhAjcA1TpV7NBrJzP0a2GRsQnwamFmk/7QvKkuZ4mI39hnL9JbpzJ0sthhbMIFig4w648tmqobh1XA4GSxQ38+cUoneN7Bj0QHmPVEDAeGAahbBG4AamTh6SwlZ7GkC76hR0iw7m3eRM0DmNfmb/JKSrUgI1Pr2NfNY64OD9UtTaMUyZJrVCGnpERz0jL0k73Q2AT4nEuCg/RoTFM14xoBQB0jcANQY8eKi/VhehanmMJrxQQG6HdNojQgLMTYBD+zo8Cu99Mzme12AZoEmHVv8ybqxXIq1ECJpCWns7UsK0fcPMBXjYgI0+1NozgQBkC9IHADcN5+yLfr44wsHSsuNjYBDSLEZJItOkI3sPdUo1JYWqr/ZOcpIStHuewxVWMhZpOskRG6PjJcIWZuOnF+fiyw682Tp5XDcw4+JNhk0v0tmqh/KANyAOoPgRuAWimV9N+8fC3NzNHhIoI3NIxws1ljIsM1JjJcYQQHjVZuSYmWZeVoVXYeJyqew6jIME2MjmT5KC5IhsOhT09naz1Lu+ED+oRadHvTaMUGsoQUQP0icANwwTblFSgpK0e/cLAC6knTgACNjQzXtRFhzNCBS25Jib7MydN/svOU4WCp6RlNAwI0KjJMIyLCCNrgUT/bC/V+eiYDb/BKLQMDdUvTKA5PAtBgCNwAeMzx4mJ9m5uvb3PzOc0MHhdmNmtgWIiuCgtV95BgEbOhOt/lFWhHgV3bC+yNcp+3pgEB6h1q0eUhFvY0RJ1bk5OnxZnZynSwzBQNL9JsVlxUhKxR4cYmAKhXBG4A6sQ+e5F+yC/Q9gK79jPzDbXUPDBAfUMt6hMSwgg1au1IUbH22gu1v7BIvxQW+eVr0iXBQbo0OEgdgoPUyRKsi4MCjV2AOuUolb7OzdOyrJxGGXKj4TUNCFBcVLhGRIQpiEMRAHgBAjcAdS67pERb8wuUWlisdIdD6cUOpTtKWPIFlwizWc0CA9QswKxmAQFqExSoy0Isak1ogDqSXVKiLEeJsktKlFtSIntJqQpLS2UvLVWxF14ZBZoki8mk4LKPiACzIsxmRZnNigpgmSi8y1c5efo6N1977YXGJsDjLg0O0tDwMI2KDDM2AUCDInAD0KAcpaVySCqRVFxaKl6Q/J9JkllSoMnk+i8AwP+cLHZoQ55zqwn2eYMntQoK1OCwUA0JD1UMhyEA8FIEbgAAAADq1LHiYm3Lt2tbvl0/2QtVxC0IzkOgyaSulmD1CbWoDzPgAfgIAjcAAAAA9aawtFQp9iKlOYp1qti5xcSpYodz2wlHifJKOHyhMQozm9Q0IEDNAwLKtplwbjURExioTpYgBTMjHoCPIXADAAAA4FW4QWlciNIA+CMCNwAAAAAAAMCDONYKAAAAAAAA8CACNwAAAAAAAMCDCNwAAAAAAAAADyJwAwAAAAAAADyIwA0AAAAAAADwIAI3AAAAAAAAwIMI3AAAAAAAAAAPInADAAAAAAAAPIjADQAAAAAAAPAgAjcAAAAAAADAgwjcAAAAAAAAAA8icAMAAAAAAAA8iMANAAAAAAAA8CACNwAAAAAAAMCDCNwAAAAAAAAADyJwAwAAAAAAADyIwA0AAAAAAADwIAI3AAAAAAAAwIMI3AAAAAAAAAAPInADAAAAAAAAPIjADQAAAAAAAPAgAjcAAAAAAADAgwjcAAAAAAAAAA8icAMAAAAAAAA8iMANAAAAAAAA8CACNwAAAAAAAMCDCNwAAAAAAAAAD/r/hcJ8gvmCzIMAAAAASUVORK5CYII=)"
      ],
      "metadata": {
        "id": "1ohhVZth1d0b"
      }
    },
    {
      "cell_type": "markdown",
      "source": [],
      "metadata": {
        "id": "Ab666eNHqoze"
      }
    },
    {
      "cell_type": "markdown",
      "source": [
        "## Data extraction and cleaning"
      ],
      "metadata": {
        "id": "dlLrVBQBwV1f"
      }
    },
    {
      "cell_type": "code",
      "execution_count": 22,
      "metadata": {
        "colab": {
          "base_uri": "https://localhost:8080/"
        },
        "id": "Mjmiu-6nG5JB",
        "outputId": "6759c2b0-b5c7-47fb-e5f5-4bb1a03ac931"
      },
      "outputs": [
        {
          "output_type": "stream",
          "name": "stdout",
          "text": [
            "--2024-12-20 17:03:02--  https://static.nhtsa.gov/odi/ffdd/rcl/FLAT_RCL.zip\n",
            "Resolving static.nhtsa.gov (static.nhtsa.gov)... 23.198.108.188, 2600:1409:12:393::27ea, 2600:1409:12:3a0::27ea\n",
            "Connecting to static.nhtsa.gov (static.nhtsa.gov)|23.198.108.188|:443... connected.\n",
            "HTTP request sent, awaiting response... 200 OK\n",
            "Length: 14379867 (14M) [application/x-zip-compressed]\n",
            "Saving to: ‘FLAT_RCL.zip.1’\n",
            "\n",
            "\rFLAT_RCL.zip.1        0%[                    ]       0  --.-KB/s               \rFLAT_RCL.zip.1      100%[===================>]  13.71M  --.-KB/s    in 0.1s    \n",
            "\n",
            "2024-12-20 17:03:02 (120 MB/s) - ‘FLAT_RCL.zip.1’ saved [14379867/14379867]\n",
            "\n"
          ]
        }
      ],
      "source": [
        "!wget https://static.nhtsa.gov/odi/ffdd/rcl/FLAT_RCL.zip"
      ]
    },
    {
      "cell_type": "code",
      "source": [
        "!unzip FLAT_RCL.zip"
      ],
      "metadata": {
        "colab": {
          "base_uri": "https://localhost:8080/"
        },
        "id": "ud0xB7JbHQoJ",
        "outputId": "de89f72b-86d1-43b7-c02e-f3d02dc6c541"
      },
      "execution_count": 23,
      "outputs": [
        {
          "output_type": "stream",
          "name": "stdout",
          "text": [
            "Archive:  FLAT_RCL.zip\n",
            "replace FLAT_RCL.txt? [y]es, [n]o, [A]ll, [N]one, [r]ename: y\n",
            "  inflating: FLAT_RCL.txt            \n"
          ]
        }
      ]
    },
    {
      "cell_type": "code",
      "source": [
        "import pandas as pd"
      ],
      "metadata": {
        "id": "HuOdIzhkHWpE"
      },
      "execution_count": 24,
      "outputs": []
    },
    {
      "cell_type": "code",
      "source": [
        "def load_flat_rcl_as_list(file_path=\"/content/FLAT_RCL.txt\"):\n",
        "    \"\"\"Loads the FLAT_RCL text file as a list, handles parsing errors gracefully.\n",
        "    Splits by tabs \"\\t\" and returns a list of lists representing the data, where each inner list is a row.\n",
        "        Returns an empty list if the file does not exist or if an error occurs during processing.\n",
        "    \"\"\"\n",
        "    try:\n",
        "        with open(file_path, 'r', encoding='utf-8') as file:\n",
        "            lines = file.readlines()\n",
        "            data = [line.strip().split('\\t') for line in lines if line.strip()]\n",
        "            return data\n",
        "    except FileNotFoundError:\n",
        "        print(f\"Error: File not found at {file_path}\")\n",
        "        return []\n",
        "    except Exception as e:\n",
        "        print(f\"An error occurred while reading the file: {e}\")\n",
        "        return []"
      ],
      "metadata": {
        "id": "sz-TCaUvI7tB"
      },
      "execution_count": 25,
      "outputs": []
    },
    {
      "cell_type": "markdown",
      "source": [
        "- Initially I tried using other ways, was getting into many errors due to inconsistancy in the data.\n",
        "- Some lines in raw data have more columns or entires than other lines"
      ],
      "metadata": {
        "id": "HTpSdu7ZvSw9"
      }
    },
    {
      "cell_type": "markdown",
      "source": [],
      "metadata": {
        "id": "SeXvPY49kAZA"
      }
    },
    {
      "cell_type": "markdown",
      "source": [
        "- Filtering relevant columns and converting to csv.\n",
        "- Filtering for FORD and TOYOTA make"
      ],
      "metadata": {
        "id": "0E3PIt_BjSI0"
      }
    },
    {
      "cell_type": "code",
      "source": [
        "flat_rcl_data = load_flat_rcl_as_list()\n",
        "\n",
        "if flat_rcl_data:\n",
        "    print(f\"Number of records loaded: {len(flat_rcl_data)}\")\n",
        "\n",
        "\n",
        "final_list = [None] * len(flat_rcl_data)\n",
        "\n",
        "for j, line in enumerate(flat_rcl_data):\n",
        "    \"\"\"\n",
        "        indices for relevant_list are taken from the last page of the document in the link:\n",
        "        https://static.nhtsa.gov/odi/ffdd/rcl/Import_Instructions_Recalls.pdf\n",
        "\n",
        "        Index   Column\n",
        "        0       RECORD_ID\n",
        "        2       MAKETXT\n",
        "        3       MODELTXT\n",
        "        4       YEARTXT\n",
        "        19      DESC_DEFECT\n",
        "        20      CONEQUENCE_DEFECT\n",
        "        21      CORRECTIVE_ACTION\n",
        "\n",
        "    \"\"\"\n",
        "\n",
        "    relevant_list = [flat_rcl_data[j][i] for i in [0, 2, 3, 4, 19, 20, 21]]\n",
        "    try:\n",
        "        final_list[j] = relevant_list[:-3] + [\" --- \".join(relevant_list[-3:])]\n",
        "    except:\n",
        "        print(j)\n",
        "\n",
        "if final_list:\n",
        "    print(\"First few lines of final_list:\")\n",
        "    for i in range(min(5, len(final_list))):\n",
        "      print(final_list[i])\n",
        "\n",
        "# Assign column names\n",
        "column_names = ['id', 'make', 'model', 'year', 'summary']\n",
        "df = pd.DataFrame(final_list, columns=column_names)\n",
        "\n",
        "# Filter for Ford and Toyota\n",
        "filtered_df = df[df['make'].isin(['FORD', 'TOYOTA'])]\n"
      ],
      "metadata": {
        "colab": {
          "base_uri": "https://localhost:8080/"
        },
        "id": "QmH9dJogdG0J",
        "outputId": "c03eceb9-05e9-490b-c805-515ed6db51af"
      },
      "execution_count": 26,
      "outputs": [
        {
          "output_type": "stream",
          "name": "stdout",
          "text": [
            "Number of records loaded: 291347\n",
            "First few lines of final_list:\n",
            "['1', 'FORD', 'FOCUS', '2000', 'CERTAIN PASSENGER VEHICLES EQUIPPED WITH ZETEC ENGINES, LOOSE OR BROKEN ATTACHMENTS AND MISROUTED BATTERY CABLES COULD LEAD TO CABLE INSULATION DAMAGE. --- THIS, IN TURN, COULD CAUSE THE BATTERY CABLES TO SHORT RESULTING IN HEAT DAMAGE TO THE CABLES.  BESIDES HEAT DAMAGE, THE \"CHECK ENGINE\" LIGHT MAY ILLUMINATE, THE VEHICLE MAY FAIL TO START, OR SMOKE, MELTING, OR FIRE COULD ALSO OCCUR. --- DEALERS WILL INSPECT THE BATTERY CABLES FOR THE CONDITION OF THE CABLE INSULATION AND PROPER TIGHTENING OF THE TERMINAL ENDS.  AS NECESSARY, CABLES WILL BE REROUTED, RETAINING CLIPS INSTALLED, AND DAMAGED BATTERY CABLES REPLACED.   OWNER NOTIFICATION BEGAN FEBRUARY 10, 2003.   OWNERS WHO DO NOT RECEIVE THE FREE REMEDY  WITHIN A REASONABLE TIME SHOULD CONTACT FORD AT 1-866-436-7332.']\n",
            "['2', 'FORD', 'FOCUS', '2001', 'CERTAIN PASSENGER VEHICLES EQUIPPED WITH ZETEC ENGINES, LOOSE OR BROKEN ATTACHMENTS AND MISROUTED BATTERY CABLES COULD LEAD TO CABLE INSULATION DAMAGE. --- THIS, IN TURN, COULD CAUSE THE BATTERY CABLES TO SHORT RESULTING IN HEAT DAMAGE TO THE CABLES.  BESIDES HEAT DAMAGE, THE \"CHECK ENGINE\" LIGHT MAY ILLUMINATE, THE VEHICLE MAY FAIL TO START, OR SMOKE, MELTING, OR FIRE COULD ALSO OCCUR. --- DEALERS WILL INSPECT THE BATTERY CABLES FOR THE CONDITION OF THE CABLE INSULATION AND PROPER TIGHTENING OF THE TERMINAL ENDS.  AS NECESSARY, CABLES WILL BE REROUTED, RETAINING CLIPS INSTALLED, AND DAMAGED BATTERY CABLES REPLACED.   OWNER NOTIFICATION BEGAN FEBRUARY 10, 2003.   OWNERS WHO DO NOT RECEIVE THE FREE REMEDY  WITHIN A REASONABLE TIME SHOULD CONTACT FORD AT 1-866-436-7332.']\n",
            "['3', 'JAYCO', 'FT EAGLE 10 SG', '2003', 'ON CERTAIN FOLDING TENT CAMPERS, THE FEDERAL CERTIFICATION (AND RVIA) LABELS HAVE THE INCORRECT GROSS VEHICLE WEIGHT RATING, TIRE SIZE, AND INFLATION PRESSURE LISTED. --- IF THE TIRES WERE INFLATED TO 80 PSI, THEY COULD BLOW RESULTING IN A POSSIBLE CRASH. --- OWNERS WILL BE MAILED CORRECT LABELS FOR INSTALLATION ON THEIR VEHICLES.   OWNER NOTIFICATION BEGAN SEPTEMBER 23, 2002.    OWNERS SHOULD CONTACT JAYCO AT 1-877-825-4782.']\n",
            "['4', 'HOLIDAY RAMBLER', 'ENDEAVOR', '2000', 'ON CERTAIN CLASS A MOTOR HOMES, THE FLOOR TRUSS NETWORK SUPPORT SYSTEM HAS A POTENTIAL TO WEAKEN CAUSING INTERNAL AND EXTERNAL FEATURES TO BECOME MISALIGNED.  THE AFFECTED VEHICLES ARE 1999 - 2003 CLASS A MOTOR HOMES MANUFACTURED ON F53 20,500 POUND GROSS VEHICLE WEIGHT RATING (GVWR), FORD CHASSIS, AND 2000-2003 CLASS A MOTOR HOMES MANUFACTURED ON W-22 22,000 POUND GVWR, WORKHORSE CHASSIS. --- CONDITIONS CAN RESULT IN THE BOTTOMING OUT THE SUSPENSION AND AMPLIFICATION OF THE STRESS PLACED ON THE FLOOR TRUSS NETWORK.  THE ADDITIONAL STRESS CAN RESULT IN THE FRACTURE OF WELDS SECURING THE FLOOR TRUSS NETWORK SYSTEM TO THE CHASSIS FRAME RAIL AND/OR FRACTURE OF THE FLOOR TRUSS NETWORK SUPPORT SYSTEM.  THE POSSIBILITY EXISTS THAT THERE COULD BE DAMAGE TO ELECTRICAL WIRING AND/OR FUEL LINES WHICH COULD POTENTIALLY LEAD TO A FIRE. --- DEALERS WILL INSPECT THE FLOOR TRUSS NETWORK SUPPORT SYSTEM, REINFORCE THE EXISTING STRUCTURE, AND REPAIR, AS NEEDED, THE FLOOR TRUSS NETWORK SUPPORT.   OWNER NOTIFICATION BEGAN NOVEMBER 5, 2002.  OWNERS SHOULD CONTACT MONACO AT 1-800-685-6545.']\n",
            "['5', 'HOLIDAY RAMBLER', 'ENDEAVOR', '1999', 'ON CERTAIN CLASS A MOTOR HOMES, THE FLOOR TRUSS NETWORK SUPPORT SYSTEM HAS A POTENTIAL TO WEAKEN CAUSING INTERNAL AND EXTERNAL FEATURES TO BECOME MISALIGNED.  THE AFFECTED VEHICLES ARE 1999 - 2003 CLASS A MOTOR HOMES MANUFACTURED ON F53 20,500 POUND GROSS VEHICLE WEIGHT RATING (GVWR), FORD CHASSIS, AND 2000-2003 CLASS A MOTOR HOMES MANUFACTURED ON W-22 22,000 POUND GVWR, WORKHORSE CHASSIS. --- CONDITIONS CAN RESULT IN THE BOTTOMING OUT THE SUSPENSION AND AMPLIFICATION OF THE STRESS PLACED ON THE FLOOR TRUSS NETWORK.  THE ADDITIONAL STRESS CAN RESULT IN THE FRACTURE OF WELDS SECURING THE FLOOR TRUSS NETWORK SYSTEM TO THE CHASSIS FRAME RAIL AND/OR FRACTURE OF THE FLOOR TRUSS NETWORK SUPPORT SYSTEM.  THE POSSIBILITY EXISTS THAT THERE COULD BE DAMAGE TO ELECTRICAL WIRING AND/OR FUEL LINES WHICH COULD POTENTIALLY LEAD TO A FIRE. --- DEALERS WILL INSPECT THE FLOOR TRUSS NETWORK SUPPORT SYSTEM, REINFORCE THE EXISTING STRUCTURE, AND REPAIR, AS NEEDED, THE FLOOR TRUSS NETWORK SUPPORT.   OWNER NOTIFICATION BEGAN NOVEMBER 5, 2002.  OWNERS SHOULD CONTACT MONACO AT 1-800-685-6545.']\n"
          ]
        }
      ]
    },
    {
      "cell_type": "code",
      "source": [
        "df = filtered_df.drop('id', axis=1)"
      ],
      "metadata": {
        "id": "HsaOU3POx_AW"
      },
      "execution_count": 27,
      "outputs": []
    },
    {
      "cell_type": "code",
      "source": [
        "rows_before = len(df)\n",
        "\n",
        "\n",
        "df = df.drop_duplicates()\n",
        "\n",
        "\n",
        "rows_after = len(df)\n",
        "\n",
        "print(f\"Number of rows before removing duplicates: {rows_before}\")\n",
        "print(f\"Number of rows after removing duplicates: {rows_after}\")\n"
      ],
      "metadata": {
        "colab": {
          "base_uri": "https://localhost:8080/"
        },
        "id": "MFzkaWt1zfUc",
        "outputId": "5cd8b7c9-e56c-4030-f897-c00301a8e94a"
      },
      "execution_count": 28,
      "outputs": [
        {
          "output_type": "stream",
          "name": "stdout",
          "text": [
            "Number of rows before removing duplicates: 17135\n",
            "Number of rows after removing duplicates: 9630\n"
          ]
        }
      ]
    },
    {
      "cell_type": "markdown",
      "source": [
        "Nearly half of them are dulicate"
      ],
      "metadata": {
        "id": "9bPUu_a2zvn-"
      }
    },
    {
      "cell_type": "code",
      "source": [
        "\n",
        "# Count the occurrences of 'FORD' and 'TOYOTA' in the 'make' column\n",
        "ford_count = df[df['make'] == 'FORD'].shape[0]\n",
        "toyota_count = df[df['make'] == 'TOYOTA'].shape[0]\n",
        "\n",
        "print(f\"Number of Ford rows: {ford_count}\")\n",
        "print(f\"Number of Toyota rows: {toyota_count}\")"
      ],
      "metadata": {
        "colab": {
          "base_uri": "https://localhost:8080/"
        },
        "id": "GaXZoXMi4IsS",
        "outputId": "9e7a9f00-de0a-4849-e839-7f93dfca0c91"
      },
      "execution_count": 29,
      "outputs": [
        {
          "output_type": "stream",
          "name": "stdout",
          "text": [
            "Number of Ford rows: 7291\n",
            "Number of Toyota rows: 2339\n"
          ]
        }
      ]
    },
    {
      "cell_type": "code",
      "source": [
        "df.head()"
      ],
      "metadata": {
        "colab": {
          "base_uri": "https://localhost:8080/",
          "height": 206
        },
        "id": "YCnzEnkzz64A",
        "outputId": "30c02238-b708-432e-f3cd-95553503a4bd"
      },
      "execution_count": 30,
      "outputs": [
        {
          "output_type": "execute_result",
          "data": {
            "text/plain": [
              "     make           model  year  \\\n",
              "0    FORD           FOCUS  2000   \n",
              "1    FORD           FOCUS  2001   \n",
              "148  FORD  CROWN VICTORIA  2002   \n",
              "300  FORD       NAVIGATOR  2000   \n",
              "301  FORD      EXPEDITION  2000   \n",
              "\n",
              "                                               summary  \n",
              "0    CERTAIN PASSENGER VEHICLES EQUIPPED WITH ZETEC...  \n",
              "1    CERTAIN PASSENGER VEHICLES EQUIPPED WITH ZETEC...  \n",
              "148  ON CERTAIN NATURAL GAS MODEL VEHICLES, A T-FIT...  \n",
              "300  CERTAIN 4X2 SPORT UTILITY VEHICLES FAIL TO COM...  \n",
              "301  CERTAIN 4X2 SPORT UTILITY VEHICLES FAIL TO COM...  "
            ],
            "text/html": [
              "\n",
              "  <div id=\"df-e59b4e3a-df9d-4877-b1a3-99452ea7932f\" class=\"colab-df-container\">\n",
              "    <div>\n",
              "<style scoped>\n",
              "    .dataframe tbody tr th:only-of-type {\n",
              "        vertical-align: middle;\n",
              "    }\n",
              "\n",
              "    .dataframe tbody tr th {\n",
              "        vertical-align: top;\n",
              "    }\n",
              "\n",
              "    .dataframe thead th {\n",
              "        text-align: right;\n",
              "    }\n",
              "</style>\n",
              "<table border=\"1\" class=\"dataframe\">\n",
              "  <thead>\n",
              "    <tr style=\"text-align: right;\">\n",
              "      <th></th>\n",
              "      <th>make</th>\n",
              "      <th>model</th>\n",
              "      <th>year</th>\n",
              "      <th>summary</th>\n",
              "    </tr>\n",
              "  </thead>\n",
              "  <tbody>\n",
              "    <tr>\n",
              "      <th>0</th>\n",
              "      <td>FORD</td>\n",
              "      <td>FOCUS</td>\n",
              "      <td>2000</td>\n",
              "      <td>CERTAIN PASSENGER VEHICLES EQUIPPED WITH ZETEC...</td>\n",
              "    </tr>\n",
              "    <tr>\n",
              "      <th>1</th>\n",
              "      <td>FORD</td>\n",
              "      <td>FOCUS</td>\n",
              "      <td>2001</td>\n",
              "      <td>CERTAIN PASSENGER VEHICLES EQUIPPED WITH ZETEC...</td>\n",
              "    </tr>\n",
              "    <tr>\n",
              "      <th>148</th>\n",
              "      <td>FORD</td>\n",
              "      <td>CROWN VICTORIA</td>\n",
              "      <td>2002</td>\n",
              "      <td>ON CERTAIN NATURAL GAS MODEL VEHICLES, A T-FIT...</td>\n",
              "    </tr>\n",
              "    <tr>\n",
              "      <th>300</th>\n",
              "      <td>FORD</td>\n",
              "      <td>NAVIGATOR</td>\n",
              "      <td>2000</td>\n",
              "      <td>CERTAIN 4X2 SPORT UTILITY VEHICLES FAIL TO COM...</td>\n",
              "    </tr>\n",
              "    <tr>\n",
              "      <th>301</th>\n",
              "      <td>FORD</td>\n",
              "      <td>EXPEDITION</td>\n",
              "      <td>2000</td>\n",
              "      <td>CERTAIN 4X2 SPORT UTILITY VEHICLES FAIL TO COM...</td>\n",
              "    </tr>\n",
              "  </tbody>\n",
              "</table>\n",
              "</div>\n",
              "    <div class=\"colab-df-buttons\">\n",
              "\n",
              "  <div class=\"colab-df-container\">\n",
              "    <button class=\"colab-df-convert\" onclick=\"convertToInteractive('df-e59b4e3a-df9d-4877-b1a3-99452ea7932f')\"\n",
              "            title=\"Convert this dataframe to an interactive table.\"\n",
              "            style=\"display:none;\">\n",
              "\n",
              "  <svg xmlns=\"http://www.w3.org/2000/svg\" height=\"24px\" viewBox=\"0 -960 960 960\">\n",
              "    <path d=\"M120-120v-720h720v720H120Zm60-500h600v-160H180v160Zm220 220h160v-160H400v160Zm0 220h160v-160H400v160ZM180-400h160v-160H180v160Zm440 0h160v-160H620v160ZM180-180h160v-160H180v160Zm440 0h160v-160H620v160Z\"/>\n",
              "  </svg>\n",
              "    </button>\n",
              "\n",
              "  <style>\n",
              "    .colab-df-container {\n",
              "      display:flex;\n",
              "      gap: 12px;\n",
              "    }\n",
              "\n",
              "    .colab-df-convert {\n",
              "      background-color: #E8F0FE;\n",
              "      border: none;\n",
              "      border-radius: 50%;\n",
              "      cursor: pointer;\n",
              "      display: none;\n",
              "      fill: #1967D2;\n",
              "      height: 32px;\n",
              "      padding: 0 0 0 0;\n",
              "      width: 32px;\n",
              "    }\n",
              "\n",
              "    .colab-df-convert:hover {\n",
              "      background-color: #E2EBFA;\n",
              "      box-shadow: 0px 1px 2px rgba(60, 64, 67, 0.3), 0px 1px 3px 1px rgba(60, 64, 67, 0.15);\n",
              "      fill: #174EA6;\n",
              "    }\n",
              "\n",
              "    .colab-df-buttons div {\n",
              "      margin-bottom: 4px;\n",
              "    }\n",
              "\n",
              "    [theme=dark] .colab-df-convert {\n",
              "      background-color: #3B4455;\n",
              "      fill: #D2E3FC;\n",
              "    }\n",
              "\n",
              "    [theme=dark] .colab-df-convert:hover {\n",
              "      background-color: #434B5C;\n",
              "      box-shadow: 0px 1px 3px 1px rgba(0, 0, 0, 0.15);\n",
              "      filter: drop-shadow(0px 1px 2px rgba(0, 0, 0, 0.3));\n",
              "      fill: #FFFFFF;\n",
              "    }\n",
              "  </style>\n",
              "\n",
              "    <script>\n",
              "      const buttonEl =\n",
              "        document.querySelector('#df-e59b4e3a-df9d-4877-b1a3-99452ea7932f button.colab-df-convert');\n",
              "      buttonEl.style.display =\n",
              "        google.colab.kernel.accessAllowed ? 'block' : 'none';\n",
              "\n",
              "      async function convertToInteractive(key) {\n",
              "        const element = document.querySelector('#df-e59b4e3a-df9d-4877-b1a3-99452ea7932f');\n",
              "        const dataTable =\n",
              "          await google.colab.kernel.invokeFunction('convertToInteractive',\n",
              "                                                    [key], {});\n",
              "        if (!dataTable) return;\n",
              "\n",
              "        const docLinkHtml = 'Like what you see? Visit the ' +\n",
              "          '<a target=\"_blank\" href=https://colab.research.google.com/notebooks/data_table.ipynb>data table notebook</a>'\n",
              "          + ' to learn more about interactive tables.';\n",
              "        element.innerHTML = '';\n",
              "        dataTable['output_type'] = 'display_data';\n",
              "        await google.colab.output.renderOutput(dataTable, element);\n",
              "        const docLink = document.createElement('div');\n",
              "        docLink.innerHTML = docLinkHtml;\n",
              "        element.appendChild(docLink);\n",
              "      }\n",
              "    </script>\n",
              "  </div>\n",
              "\n",
              "\n",
              "<div id=\"df-1f6a1f60-c49a-45c1-88e2-cd8f033b25d2\">\n",
              "  <button class=\"colab-df-quickchart\" onclick=\"quickchart('df-1f6a1f60-c49a-45c1-88e2-cd8f033b25d2')\"\n",
              "            title=\"Suggest charts\"\n",
              "            style=\"display:none;\">\n",
              "\n",
              "<svg xmlns=\"http://www.w3.org/2000/svg\" height=\"24px\"viewBox=\"0 0 24 24\"\n",
              "     width=\"24px\">\n",
              "    <g>\n",
              "        <path d=\"M19 3H5c-1.1 0-2 .9-2 2v14c0 1.1.9 2 2 2h14c1.1 0 2-.9 2-2V5c0-1.1-.9-2-2-2zM9 17H7v-7h2v7zm4 0h-2V7h2v10zm4 0h-2v-4h2v4z\"/>\n",
              "    </g>\n",
              "</svg>\n",
              "  </button>\n",
              "\n",
              "<style>\n",
              "  .colab-df-quickchart {\n",
              "      --bg-color: #E8F0FE;\n",
              "      --fill-color: #1967D2;\n",
              "      --hover-bg-color: #E2EBFA;\n",
              "      --hover-fill-color: #174EA6;\n",
              "      --disabled-fill-color: #AAA;\n",
              "      --disabled-bg-color: #DDD;\n",
              "  }\n",
              "\n",
              "  [theme=dark] .colab-df-quickchart {\n",
              "      --bg-color: #3B4455;\n",
              "      --fill-color: #D2E3FC;\n",
              "      --hover-bg-color: #434B5C;\n",
              "      --hover-fill-color: #FFFFFF;\n",
              "      --disabled-bg-color: #3B4455;\n",
              "      --disabled-fill-color: #666;\n",
              "  }\n",
              "\n",
              "  .colab-df-quickchart {\n",
              "    background-color: var(--bg-color);\n",
              "    border: none;\n",
              "    border-radius: 50%;\n",
              "    cursor: pointer;\n",
              "    display: none;\n",
              "    fill: var(--fill-color);\n",
              "    height: 32px;\n",
              "    padding: 0;\n",
              "    width: 32px;\n",
              "  }\n",
              "\n",
              "  .colab-df-quickchart:hover {\n",
              "    background-color: var(--hover-bg-color);\n",
              "    box-shadow: 0 1px 2px rgba(60, 64, 67, 0.3), 0 1px 3px 1px rgba(60, 64, 67, 0.15);\n",
              "    fill: var(--button-hover-fill-color);\n",
              "  }\n",
              "\n",
              "  .colab-df-quickchart-complete:disabled,\n",
              "  .colab-df-quickchart-complete:disabled:hover {\n",
              "    background-color: var(--disabled-bg-color);\n",
              "    fill: var(--disabled-fill-color);\n",
              "    box-shadow: none;\n",
              "  }\n",
              "\n",
              "  .colab-df-spinner {\n",
              "    border: 2px solid var(--fill-color);\n",
              "    border-color: transparent;\n",
              "    border-bottom-color: var(--fill-color);\n",
              "    animation:\n",
              "      spin 1s steps(1) infinite;\n",
              "  }\n",
              "\n",
              "  @keyframes spin {\n",
              "    0% {\n",
              "      border-color: transparent;\n",
              "      border-bottom-color: var(--fill-color);\n",
              "      border-left-color: var(--fill-color);\n",
              "    }\n",
              "    20% {\n",
              "      border-color: transparent;\n",
              "      border-left-color: var(--fill-color);\n",
              "      border-top-color: var(--fill-color);\n",
              "    }\n",
              "    30% {\n",
              "      border-color: transparent;\n",
              "      border-left-color: var(--fill-color);\n",
              "      border-top-color: var(--fill-color);\n",
              "      border-right-color: var(--fill-color);\n",
              "    }\n",
              "    40% {\n",
              "      border-color: transparent;\n",
              "      border-right-color: var(--fill-color);\n",
              "      border-top-color: var(--fill-color);\n",
              "    }\n",
              "    60% {\n",
              "      border-color: transparent;\n",
              "      border-right-color: var(--fill-color);\n",
              "    }\n",
              "    80% {\n",
              "      border-color: transparent;\n",
              "      border-right-color: var(--fill-color);\n",
              "      border-bottom-color: var(--fill-color);\n",
              "    }\n",
              "    90% {\n",
              "      border-color: transparent;\n",
              "      border-bottom-color: var(--fill-color);\n",
              "    }\n",
              "  }\n",
              "</style>\n",
              "\n",
              "  <script>\n",
              "    async function quickchart(key) {\n",
              "      const quickchartButtonEl =\n",
              "        document.querySelector('#' + key + ' button');\n",
              "      quickchartButtonEl.disabled = true;  // To prevent multiple clicks.\n",
              "      quickchartButtonEl.classList.add('colab-df-spinner');\n",
              "      try {\n",
              "        const charts = await google.colab.kernel.invokeFunction(\n",
              "            'suggestCharts', [key], {});\n",
              "      } catch (error) {\n",
              "        console.error('Error during call to suggestCharts:', error);\n",
              "      }\n",
              "      quickchartButtonEl.classList.remove('colab-df-spinner');\n",
              "      quickchartButtonEl.classList.add('colab-df-quickchart-complete');\n",
              "    }\n",
              "    (() => {\n",
              "      let quickchartButtonEl =\n",
              "        document.querySelector('#df-1f6a1f60-c49a-45c1-88e2-cd8f033b25d2 button');\n",
              "      quickchartButtonEl.style.display =\n",
              "        google.colab.kernel.accessAllowed ? 'block' : 'none';\n",
              "    })();\n",
              "  </script>\n",
              "</div>\n",
              "\n",
              "    </div>\n",
              "  </div>\n"
            ],
            "application/vnd.google.colaboratory.intrinsic+json": {
              "type": "dataframe",
              "variable_name": "df",
              "summary": "{\n  \"name\": \"df\",\n  \"rows\": 9630,\n  \"fields\": [\n    {\n      \"column\": \"make\",\n      \"properties\": {\n        \"dtype\": \"category\",\n        \"num_unique_values\": 2,\n        \"samples\": [\n          \"TOYOTA\",\n          \"FORD\"\n        ],\n        \"semantic_type\": \"\",\n        \"description\": \"\"\n      }\n    },\n    {\n      \"column\": \"model\",\n      \"properties\": {\n        \"dtype\": \"category\",\n        \"num_unique_values\": 391,\n        \"samples\": [\n          \"WINDSTAR\",\n          \"AEROMAX\"\n        ],\n        \"semantic_type\": \"\",\n        \"description\": \"\"\n      }\n    },\n    {\n      \"column\": \"year\",\n      \"properties\": {\n        \"dtype\": \"category\",\n        \"num_unique_values\": 62,\n        \"samples\": [\n          \"2014\",\n          \"2020\"\n        ],\n        \"semantic_type\": \"\",\n        \"description\": \"\"\n      }\n    },\n    {\n      \"column\": \"summary\",\n      \"properties\": {\n        \"dtype\": \"category\",\n        \"num_unique_values\": 1874,\n        \"samples\": [\n          \"Toyota Motor Engineering & Manufacturing (Toyota) is recalling certain 2022-2023 Corolla Cross vehicles that were previously inspected at a dealership under recall 23V-384.  The instrument panel may have been produced without the required perforation, which could result in the front-passenger air bag not deploying properly.  As such, these vehicles fail to comply with the requirements of Federal Motor Vehicle Safety Standard number 208, \\\"Occupant Crash Protection.\\\"  --- An air bag that does not deploy as intended increases the risk of injury during a crash.  --- Dealers will inspect and replace the instrument panel as necessary, free of charge.  Owner notification letters were mailed January 26, 2024.  Owners may contact Toyota's customer service at 1-800-331-4331.  Toyota's number for this recall is 23TA16.  Vehicles previously inspected under 23V-384 will need to return to the dealership for additional inspection.\",\n          \"Southeast Toyota Distributors, LLC (SET) is recalling certain model year 2016 Toyota Yaris, Rav4, Land Cruiser and 4Runner vehicles, and Scion FR-S, iM, and TC vehicles manufactured January 28, 2016, to March 14, 2016.  The Load Carrying Capacity Modification Label may not reflect the correct added weight of the installed accessories.  As a result, these vehicles fail to comply with the requirements of Federal Motor Vehicle Safety Standard number 110, \\\"Tire Selection and Rims for Passenger Cars.\\\" --- An incorrect label may result in the vehicle being overloaded, increasing the risk of a crash. --- SET will notify owners, and provide them a corrected label to be installed over the inaccurate label, free of charge.  The recall began on June 3, 2016.  Owners may contact SET customer service at 1-866-405-4226.  SET's number for this recall is SET16A.\"\n        ],\n        \"semantic_type\": \"\",\n        \"description\": \"\"\n      }\n    }\n  ]\n}"
            }
          },
          "metadata": {},
          "execution_count": 30
        }
      ]
    },
    {
      "cell_type": "code",
      "source": [
        "# No. of unique models for FORD\n",
        "ford_models = df[df['make'] == 'FORD']['model'].unique()\n",
        "print(\"FORD Models:\", len(ford_models))\n",
        "\n",
        "print(\"\\n\")\n",
        "\n",
        "# No. of unique models for TOYOTA\n",
        "toyota_models = df[df['make'] == 'TOYOTA']['model'].unique()\n",
        "print(\"TOYOTA Models:\", len(toyota_models))"
      ],
      "metadata": {
        "colab": {
          "base_uri": "https://localhost:8080/"
        },
        "id": "bduK6isCG0hJ",
        "outputId": "488f0e98-a2a8-4884-fc42-82adfb451d96"
      },
      "execution_count": 31,
      "outputs": [
        {
          "output_type": "stream",
          "name": "stdout",
          "text": [
            "FORD Models: 313\n",
            "\n",
            "\n",
            "TOYOTA Models: 79\n"
          ]
        }
      ]
    },
    {
      "cell_type": "code",
      "source": [
        "df.to_csv('data.csv', index=False)\n",
        "\n",
        "print(\"data.csv .... SAVED\")"
      ],
      "metadata": {
        "colab": {
          "base_uri": "https://localhost:8080/"
        },
        "id": "H6YJgXVzBPme",
        "outputId": "c53703d3-3da4-4a42-f5a8-4cb1d56b83d0"
      },
      "execution_count": 32,
      "outputs": [
        {
          "output_type": "stream",
          "name": "stdout",
          "text": [
            "data.csv .... SAVED\n"
          ]
        }
      ]
    },
    {
      "cell_type": "markdown",
      "source": [
        "####Sampling first 100 rows for testing"
      ],
      "metadata": {
        "id": "Lf1WYJPqq8bb"
      }
    },
    {
      "cell_type": "code",
      "source": [
        "# df = df.head(100)\n",
        "# print(len(df))"
      ],
      "metadata": {
        "id": "xLPTTWvFQ9YY"
      },
      "execution_count": 33,
      "outputs": []
    },
    {
      "cell_type": "code",
      "source": [
        "# df.to_csv('data.csv', index=False)"
      ],
      "metadata": {
        "id": "mQEgyZ6RROae"
      },
      "execution_count": 34,
      "outputs": []
    },
    {
      "cell_type": "code",
      "source": [],
      "metadata": {
        "id": "euUgz-cKRT00"
      },
      "execution_count": 34,
      "outputs": []
    },
    {
      "cell_type": "markdown",
      "source": [
        "## Model"
      ],
      "metadata": {
        "id": "lrUVF7Hewe5w"
      }
    },
    {
      "cell_type": "code",
      "source": [
        "%%capture\n",
        "\n",
        "!pip install unsloth\n",
        "!pip uninstall unsloth -y && pip install --upgrade --no-cache-dir --no-deps git+https://github.com/unslothai/unsloth.git"
      ],
      "metadata": {
        "id": "CIHx2v1NQTIG"
      },
      "execution_count": 1,
      "outputs": []
    },
    {
      "cell_type": "code",
      "source": [
        "import pandas as pd\n",
        "import numpy as np\n",
        "from sentence_transformers import SentenceTransformer\n",
        "from sklearn.metrics.pairwise import cosine_similarity\n",
        "from typing import Dict, List, Tuple\n",
        "import torch\n",
        "from transformers import AutoTokenizer, AutoModelForCausalLM, pipeline\n",
        "\n",
        "\n",
        "from unsloth import FastLanguageModel"
      ],
      "metadata": {
        "id": "X4qrofbl3_xU",
        "colab": {
          "base_uri": "https://localhost:8080/"
        },
        "outputId": "cea5947d-8d6f-41e2-fd33-c972be644fbb"
      },
      "execution_count": 2,
      "outputs": [
        {
          "output_type": "stream",
          "name": "stdout",
          "text": [
            "🦥 Unsloth: Will patch your computer to enable 2x faster free finetuning.\n",
            "🦥 Unsloth Zoo will now patch everything to make training faster!\n"
          ]
        }
      ]
    },
    {
      "cell_type": "markdown",
      "source": [
        "Load Model"
      ],
      "metadata": {
        "id": "MJr9wd4v6xJz"
      }
    },
    {
      "cell_type": "code",
      "source": [
        "max_seq_length = 2048\n",
        "dtype = None\n",
        "load_in_4bit = True\n",
        "\n",
        "\n",
        "model, tokenizer = FastLanguageModel.from_pretrained(\n",
        "    model_name = \"unsloth/Meta-Llama-3.1-8B-Instruct-bnb-4bit\",\n",
        "    max_seq_length = max_seq_length,\n",
        "    dtype = dtype,\n",
        "    load_in_4bit = load_in_4bit,\n",
        ")\n",
        "\n",
        "FastLanguageModel.for_inference(model)"
      ],
      "metadata": {
        "colab": {
          "base_uri": "https://localhost:8080/",
          "height": 750,
          "referenced_widgets": [
            "6036fc5eb4d74c2bb8742890a80f41fd",
            "339b8502447c4d8cb11a7857a09c8260",
            "825d8a4ef837497481c74eb558aae587",
            "cbef03b0cb8244839e86b0693b656f41",
            "3d453dd9ca13414db6226ef0d3d5af71",
            "24ca23d441084fe09ccb34af4d33224d",
            "8fdb190b8c98492c86340a9c180c55c3",
            "6ca663ebca3d4ad8b8dadd011fead7db",
            "6657c54961064f7da6fc2a955e69e4c5",
            "fb5a3a0894144342be9d370da1eb0b26",
            "4eaa1d0290904815b94196f1fd329ff2",
            "212e053c2fc44a2eb2b93405fa0d6ee9",
            "82a3522932fa43dfac3b3b07176da6ab",
            "63087a76b5af4b8daee0e3d65534ab71",
            "bacee2bb4e18478c80810ebe5088abbe",
            "4e5f27ae3f1c4d449ad786d9f3c7f6a7",
            "41575bcc14234daca178bd352942ab9e",
            "4a267ad7f6f44a19a4f70d2d4a11a3d5",
            "0fe7f07650de4a0e874a7a7031e441f2",
            "8af8b18d32114fcbbec81cc83e4427fb",
            "a4b908a99b0f499d977f15f4d4539210",
            "4e2280dbdb464fef9e57ec43b20cb40c",
            "d75e8210414943a6a23ca082fde19cfb",
            "8712529da5be4401814b9f33cb6a5fc4",
            "325217afa73845ba948d1db38874fa04",
            "69011a478cc1455b9204eacb1122dbd4",
            "612bacb83e6c40bdac69899e8bdea100",
            "03978846f6ed429483530a017f9cb7cd",
            "289796fdf51b475a8debe3909d58c7ee",
            "1a7dc6ec582a40b68fef42e7710726e2",
            "b9d8a5e87e9448738bf3fa3d1623f40b",
            "de9a1c3e39e343f6b7f299a6dcf52f71",
            "1e0513c74a9f4cb09da0cba96b104d84",
            "d9b2c7a78e6a49f9945c28b024dcd1f9",
            "ac62a67f9f934e9d85567f73e6de12de",
            "0624ae423ef24dc2b10438c6a2bbb84a",
            "18cc29fdd8cd4889accd3d419f38c3e1",
            "985786999ed04b48bedc0b25ed614c0a",
            "a14f5006b23747f382663904da4b84c4",
            "d977bbe0cd634faa95303cdf78cb4652",
            "1a7775a5472b43e0b897227bffc50dee",
            "68c4c626096e4cf784aceace4abbcd24",
            "428862db1cec4fc9819f19392f63ec6b",
            "91817d81af7e48019e2b78d08420f5d9",
            "aeb1f2a18b6f4817836290637ca5393a",
            "bff688520f22451a9a9f3f89a60ffd1b",
            "18821490b59c4da18a7b5b1dd3a1eccd",
            "7a0c1b5cd3ed4cb3b8ef69703be71e97",
            "b41c0b0dcfd04b5b97289b995acbbbab",
            "b9c15cefb73241439a91173efd0c221a",
            "321ac7bf6948416594e90abe0075c007",
            "ba1ce43f5fb9478bac3c789084a44bde",
            "d85239ff1f9d4ad48e8462bb5a2f763f",
            "cc01b723258e4f6f8a3ea9a625981ee5",
            "7cfba74253bb452e8c5c241c9df77cc8"
          ]
        },
        "id": "Q2lriBILQXeb",
        "outputId": "12f30778-3870-45dc-abc4-0e0cc06f1a0d"
      },
      "execution_count": 3,
      "outputs": [
        {
          "output_type": "stream",
          "name": "stdout",
          "text": [
            "==((====))==  Unsloth 2024.12.8: Fast Llama patching. Transformers: 4.46.3.\n",
            "   \\\\   /|    GPU: Tesla T4. Max memory: 14.748 GB. Platform: Linux.\n",
            "O^O/ \\_/ \\    Torch: 2.5.1+cu121. CUDA: 7.5. CUDA Toolkit: 12.1. Triton: 3.1.0\n",
            "\\        /    Bfloat16 = FALSE. FA [Xformers = 0.0.28.post3. FA2 = False]\n",
            " \"-____-\"     Free Apache license: http://github.com/unslothai/unsloth\n",
            "Unsloth: Fast downloading is enabled - ignore downloading bars which are red colored!\n"
          ]
        },
        {
          "output_type": "display_data",
          "data": {
            "text/plain": [
              "model.safetensors:   0%|          | 0.00/5.70G [00:00<?, ?B/s]"
            ],
            "application/vnd.jupyter.widget-view+json": {
              "version_major": 2,
              "version_minor": 0,
              "model_id": "6036fc5eb4d74c2bb8742890a80f41fd"
            }
          },
          "metadata": {}
        },
        {
          "output_type": "display_data",
          "data": {
            "text/plain": [
              "generation_config.json:   0%|          | 0.00/234 [00:00<?, ?B/s]"
            ],
            "application/vnd.jupyter.widget-view+json": {
              "version_major": 2,
              "version_minor": 0,
              "model_id": "212e053c2fc44a2eb2b93405fa0d6ee9"
            }
          },
          "metadata": {}
        },
        {
          "output_type": "display_data",
          "data": {
            "text/plain": [
              "tokenizer_config.json:   0%|          | 0.00/55.4k [00:00<?, ?B/s]"
            ],
            "application/vnd.jupyter.widget-view+json": {
              "version_major": 2,
              "version_minor": 0,
              "model_id": "d75e8210414943a6a23ca082fde19cfb"
            }
          },
          "metadata": {}
        },
        {
          "output_type": "display_data",
          "data": {
            "text/plain": [
              "tokenizer.json:   0%|          | 0.00/9.09M [00:00<?, ?B/s]"
            ],
            "application/vnd.jupyter.widget-view+json": {
              "version_major": 2,
              "version_minor": 0,
              "model_id": "d9b2c7a78e6a49f9945c28b024dcd1f9"
            }
          },
          "metadata": {}
        },
        {
          "output_type": "display_data",
          "data": {
            "text/plain": [
              "special_tokens_map.json:   0%|          | 0.00/340 [00:00<?, ?B/s]"
            ],
            "application/vnd.jupyter.widget-view+json": {
              "version_major": 2,
              "version_minor": 0,
              "model_id": "aeb1f2a18b6f4817836290637ca5393a"
            }
          },
          "metadata": {}
        },
        {
          "output_type": "execute_result",
          "data": {
            "text/plain": [
              "LlamaForCausalLM(\n",
              "  (model): LlamaModel(\n",
              "    (embed_tokens): Embedding(128256, 4096, padding_idx=128004)\n",
              "    (layers): ModuleList(\n",
              "      (0-31): 32 x LlamaDecoderLayer(\n",
              "        (self_attn): LlamaAttention(\n",
              "          (q_proj): Linear4bit(in_features=4096, out_features=4096, bias=False)\n",
              "          (k_proj): Linear4bit(in_features=4096, out_features=1024, bias=False)\n",
              "          (v_proj): Linear4bit(in_features=4096, out_features=1024, bias=False)\n",
              "          (o_proj): Linear4bit(in_features=4096, out_features=4096, bias=False)\n",
              "          (rotary_emb): LlamaExtendedRotaryEmbedding()\n",
              "        )\n",
              "        (mlp): LlamaMLP(\n",
              "          (gate_proj): Linear4bit(in_features=4096, out_features=14336, bias=False)\n",
              "          (up_proj): Linear4bit(in_features=4096, out_features=14336, bias=False)\n",
              "          (down_proj): Linear4bit(in_features=14336, out_features=4096, bias=False)\n",
              "          (act_fn): SiLU()\n",
              "        )\n",
              "        (input_layernorm): LlamaRMSNorm((4096,), eps=1e-05)\n",
              "        (post_attention_layernorm): LlamaRMSNorm((4096,), eps=1e-05)\n",
              "      )\n",
              "    )\n",
              "    (norm): LlamaRMSNorm((4096,), eps=1e-05)\n",
              "    (rotary_emb): LlamaRotaryEmbedding()\n",
              "  )\n",
              "  (lm_head): Linear(in_features=4096, out_features=128256, bias=False)\n",
              ")"
            ]
          },
          "metadata": {},
          "execution_count": 3
        }
      ]
    },
    {
      "cell_type": "markdown",
      "source": [
        "####Method 1:"
      ],
      "metadata": {
        "id": "koRooHmdfEep"
      }
    },
    {
      "cell_type": "markdown",
      "source": [
        "This method combines make, model, year and issue from the user input and computes query_embedding and computes summary_embedding on combined columns in a particular row of data frame."
      ],
      "metadata": {
        "id": "m49lz8hcb8ek"
      }
    },
    {
      "cell_type": "code",
      "source": [
        "class AutoIssueAgent:\n",
        "    def __init__(self, data_path: str, embedding_model: str = 'all-MiniLM-L6-v2'):\n",
        "        \"\"\"\n",
        "        Initializes the automotive issue summarization agent.\n",
        "\n",
        "        \"\"\"\n",
        "\n",
        "        # Load and preprocess the dataset\n",
        "        self.df = pd.read_csv(data_path)\n",
        "        self.df = self.df.fillna('')\n",
        "\n",
        "        # Initialize the embedding model\n",
        "        self.embedding_model = SentenceTransformer(embedding_model)\n",
        "\n",
        "\n",
        "        self.df['combined_text'] = self.df.apply(\n",
        "            lambda row: f\"Make: {row['make']} Model: {row['model']} Year: {row['year']} Summary: {row['summary']}\",\n",
        "            axis=1\n",
        "        )\n",
        "\n",
        "        # print(len(self.df.columns))\n",
        "\n",
        "        # Compute embeddings using combined text\n",
        "        self.document_embeddings = self.embedding_model.encode(\n",
        "            self.df['combined_text'].tolist(),\n",
        "            show_progress_bar=False,\n",
        "            convert_to_tensor=True\n",
        "        )\n",
        "\n",
        "\n",
        "        self.model = model\n",
        "        self.tokenizer = tokenizer\n",
        "\n",
        "        # Create summarization pipeline\n",
        "        self.summarizer = pipeline(\n",
        "            \"text-generation\",\n",
        "            model=self.model,\n",
        "            tokenizer=self.tokenizer,\n",
        "            max_new_tokens=512,\n",
        "            temperature=0.7\n",
        "        )\n",
        "\n",
        "\n",
        "    def retrieve_relevant_documents(self, query: Dict, top_k: int = 3) -> List[Tuple[float, str]]:\n",
        "        \"\"\"\n",
        "        Retrieve the most relevant documents based on the input query.\n",
        "\n",
        "            top_k: Number of documents to retrieve, default is 3\n",
        "\n",
        "        Returns list of tuples containing (similarity_score, document_text)\n",
        "        \"\"\"\n",
        "        # Create query string\n",
        "        query_text = f\"Make: {query['make']} Model: {query['model']} Year: {query['year']} Issue: {query['issue']}\"\n",
        "\n",
        "        # Encode query\n",
        "        query_embedding = self.embedding_model.encode(query_text, convert_to_tensor=True)\n",
        "\n",
        "        # Calculate similarities\n",
        "        similarities = cosine_similarity(\n",
        "            query_embedding.cpu().numpy().reshape(1, -1),\n",
        "            self.document_embeddings.cpu().numpy()\n",
        "        )[0]\n",
        "\n",
        "        # Get top-k most similar documents\n",
        "        top_indices = np.argsort(similarities)[-top_k:][::-1]\n",
        "\n",
        "        return [(similarities[i], self.df.iloc[i]['combined_text']) for i in top_indices]\n",
        "\n",
        "    def generate_summary(self, relevant_docs: List[Tuple[float, str]], query: Dict) -> str:\n",
        "\n",
        "\n",
        "        # Create prompt\n",
        "        context = \"\\n\".join([f\"Document {i+1} (similarity: {score:.3f}):\\n{doc}\"\n",
        "                           for i, (score, doc) in enumerate(relevant_docs)])\n",
        "\n",
        "\n",
        "        prompt = f\"\"\"Based on the following documents about automotive issues, provide a concise summary\n",
        "        for a Make: {query['make']} Model: {query['model']} Year: {query['year']} regarding the issue: {query['issue']}.\n",
        "\n",
        "        Generate only summary.\n",
        "        Do not generate follow up and final answer or Note or Disclaimer.\n",
        "        Do not repeate yourself in generated text.\n",
        "        Mention if you have found any miss match in make model or year\n",
        "\n",
        "        Reference Documents:\n",
        "        {context}\n",
        "\n",
        "        Summary:\"\"\"\n",
        "\n",
        "\n",
        "\n",
        "        # Generate summary\n",
        "        response = self.summarizer(prompt)[0]['generated_text']\n",
        "\n",
        "        # Extract the summary part (after \"Summary:\")\n",
        "        summary = response.split(\"Summary:\")[-1].strip()\n",
        "\n",
        "        return summary\n",
        "\n",
        "    def process_query(self, query: Dict) -> Dict:\n",
        "        \"\"\"\n",
        "        Process a query and return relevant documents and summary.\n",
        "\n",
        "        query: Dictionary containing make, model, year, and issue\n",
        "\n",
        "        Returns a dictionary containing retrieved documents and final summary\n",
        "        \"\"\"\n",
        "\n",
        "        # Retrieve relevant documents\n",
        "        relevant_docs = self.retrieve_relevant_documents(query)\n",
        "\n",
        "        # Generate summary\n",
        "        summary = self.generate_summary(relevant_docs, query)\n",
        "\n",
        "        return {\n",
        "            'retrieved_documents': relevant_docs,\n",
        "            'summary': summary\n",
        "        }\n",
        "\n"
      ],
      "metadata": {
        "id": "CU7Qms2hwjVx"
      },
      "execution_count": 58,
      "outputs": []
    },
    {
      "cell_type": "code",
      "source": [
        "# Initialize agent\n",
        "agent = AutoIssueAgent(\"data.csv\")"
      ],
      "metadata": {
        "colab": {
          "base_uri": "https://localhost:8080/"
        },
        "id": "sVH42HdjIfD-",
        "outputId": "35d31fc2-44c8-440d-a4a5-1b1071b233a0"
      },
      "execution_count": 60,
      "outputs": [
        {
          "output_type": "stream",
          "name": "stdout",
          "text": [
            "5\n"
          ]
        }
      ]
    },
    {
      "cell_type": "code",
      "source": [
        "\n",
        "if __name__ == \"__main__\":\n",
        "\n",
        "    query = {\n",
        "        'make': 'ford',\n",
        "        'model': 'focus',\n",
        "        'year': '2001',\n",
        "        'issue': 'broken attachments and misrouted battery cables'\n",
        "    }\n",
        "\n",
        "    # Process query\n",
        "    result = agent.process_query(query)\n",
        "\n",
        "    # Print results\n",
        "    print(\"\\nRetrieved Documents:\")\n",
        "    for i, (score, doc) in enumerate(result['retrieved_documents'], 1):\n",
        "        print(f\"\\nDocument {i} (Similarity: {score:.3f}):\")\n",
        "        print(doc)\n",
        "\n",
        "    print(\"\\nGenerated Summary:\")\n",
        "    print(result['summary'])"
      ],
      "metadata": {
        "colab": {
          "base_uri": "https://localhost:8080/"
        },
        "id": "K2ClovTqLS_l",
        "outputId": "0af562de-0df7-47a7-9d8b-f233e8666de5"
      },
      "execution_count": 61,
      "outputs": [
        {
          "output_type": "stream",
          "name": "stdout",
          "text": [
            "\n",
            "Retrieved Documents:\n",
            "\n",
            "Document 1 (Similarity: 0.725):\n",
            "Make: FORD Model: FOCUS Year: 2001 Summary: CERTAIN PASSENGER VEHICLES EQUIPPED WITH ZETEC ENGINES, LOOSE OR BROKEN ATTACHMENTS AND MISROUTED BATTERY CABLES COULD LEAD TO CABLE INSULATION DAMAGE. --- THIS, IN TURN, COULD CAUSE THE BATTERY CABLES TO SHORT RESULTING IN HEAT DAMAGE TO THE CABLES.  BESIDES HEAT DAMAGE, THE \"CHECK ENGINE\" LIGHT MAY ILLUMINATE, THE VEHICLE MAY FAIL TO START, OR SMOKE, MELTING, OR FIRE COULD ALSO OCCUR. --- DEALERS WILL INSPECT THE BATTERY CABLES FOR THE CONDITION OF THE CABLE INSULATION AND PROPER TIGHTENING OF THE TERMINAL ENDS.  AS NECESSARY, CABLES WILL BE REROUTED, RETAINING CLIPS INSTALLED, AND DAMAGED BATTERY CABLES REPLACED.   OWNER NOTIFICATION BEGAN FEBRUARY 10, 2003.   OWNERS WHO DO NOT RECEIVE THE FREE REMEDY  WITHIN A REASONABLE TIME SHOULD CONTACT FORD AT 1-866-436-7332.\n",
            "\n",
            "Document 2 (Similarity: 0.700):\n",
            "Make: FORD Model: FOCUS Year: 2000 Summary: CERTAIN PASSENGER VEHICLES EQUIPPED WITH ZETEC ENGINES, LOOSE OR BROKEN ATTACHMENTS AND MISROUTED BATTERY CABLES COULD LEAD TO CABLE INSULATION DAMAGE. --- THIS, IN TURN, COULD CAUSE THE BATTERY CABLES TO SHORT RESULTING IN HEAT DAMAGE TO THE CABLES.  BESIDES HEAT DAMAGE, THE \"CHECK ENGINE\" LIGHT MAY ILLUMINATE, THE VEHICLE MAY FAIL TO START, OR SMOKE, MELTING, OR FIRE COULD ALSO OCCUR. --- DEALERS WILL INSPECT THE BATTERY CABLES FOR THE CONDITION OF THE CABLE INSULATION AND PROPER TIGHTENING OF THE TERMINAL ENDS.  AS NECESSARY, CABLES WILL BE REROUTED, RETAINING CLIPS INSTALLED, AND DAMAGED BATTERY CABLES REPLACED.   OWNER NOTIFICATION BEGAN FEBRUARY 10, 2003.   OWNERS WHO DO NOT RECEIVE THE FREE REMEDY  WITHIN A REASONABLE TIME SHOULD CONTACT FORD AT 1-866-436-7332.\n",
            "\n",
            "Document 3 (Similarity: 0.562):\n",
            "Make: FORD Model: F SUPER DUTY Year: 1997 Summary: A PLASTIC COATED STEEL SUPPORT STRAP FOR THE BATTERY CABLE WAS DAMAGED WHEN IT WAS CRIMPED ONTO THE CABLE. --- THIS DAMAGE CAN RESULT IN THE BATTERY CABLE DEVELOPING A SHORT TO GROUND.  A SHORTED BATTERY CABLE CAN RESULT IN A VEHICLE FIRE. --- DEALERS WILL INSPECT THE CABLE INSULATION AND REPLACE THE SUPPORT STRAP WITH A REVISED, UNCRIMPED STRAP ATTACHED WITH TAPE.  IN ADDITION, CONVOLUTE WILL BE ADDED BETWEEN THE CABLE AND THE SUPPORT STRAP.  DAMAGED BATTERY CABLES WILL BE REPLACED.\n",
            "\n",
            "Generated Summary:\n",
            "There is a match for make model and year. The issue is related to broken attachments and misrouted battery cables. It could lead to cable insulation damage, heat damage, check engine light illumination, failure to start, smoke, melting, or fire. The solution involves inspecting battery cables for cable insulation and proper tightening of terminal ends, rerouting cables, installing retaining clips, and replacing damaged battery cables.  Owner notification began February 10, 2003.  Owners who do not receive the free remedy within a reasonable time should contact Ford at 1-866-436-7332. There is a minor difference between document 1 and document 2; however, it does not affect the solution. Document 3 is not relevant to the make, model, and year.  No mismatch.   The year is 2001, and the model is focus, which matches the documents.  There is no mismatch.  The make is also correct.  The issue is related to broken attachments and misrouted battery cables. The solution involves inspecting battery cables for cable insulation and proper tightening of terminal ends, rerouting cables, installing retaining clips, and replacing damaged battery cables.  Owner notification began February 10, 2003.  Owners who do not receive the free remedy within a reasonable time should contact Ford at 1-866-436-7332.  The issue could lead to cable insulation damage, heat damage, check engine light illumination, failure to start, smoke, melting, or fire.  There is no mismatch for make model and year.  The solution involves inspecting battery cables for cable insulation and proper tightening of terminal ends, rerouting cables, installing retaining clips, and replacing damaged battery cables.  Owner notification began February 10, 2003.  Owners who do not receive the free remedy within a reasonable time should contact Ford at 1-866-436-7332.  The issue could lead to cable insulation damage, heat damage, check engine light illumination, failure to start, smoke, melting, or fire.  There is no mismatch.  The issue is related to broken attachments and misrouted battery cables.  The solution involves inspecting battery cables for cable insulation and proper tightening of terminal ends, rerouting cables, installing retaining clips, and replacing damaged battery cables.  Owner notification began February 10, 2003.  Owners who do not receive the free remedy within a reasonable time should contact Ford at 1-866-436-7332\n"
          ]
        }
      ]
    },
    {
      "cell_type": "markdown",
      "source": [
        "##### More examples"
      ],
      "metadata": {
        "id": "ycjsBKGEB6vO"
      }
    },
    {
      "cell_type": "markdown",
      "source": [
        "Actual year is 2001 and 2002"
      ],
      "metadata": {
        "id": "1pb_yliuEgZj"
      }
    },
    {
      "cell_type": "code",
      "source": [
        "if __name__ == \"__main__\":\n",
        "\n",
        "\n",
        "    query = {\n",
        "        'make': 'ford',\n",
        "        'model': 'focus',\n",
        "        'year': '2003',\n",
        "        'issue': 'broken attachments and misrouted battery cables'\n",
        "    }\n",
        "\n",
        "    # Process query\n",
        "    result = agent.process_query(query)\n",
        "\n",
        "    # Print results\n",
        "    print(\"\\nRetrieved Documents:\")\n",
        "    for i, (score, doc) in enumerate(result['retrieved_documents'], 1):\n",
        "        print(f\"\\nDocument {i} (Similarity: {score:.3f}):\")\n",
        "        print(doc)\n",
        "\n",
        "    print(\"\\nGenerated Summary:\")\n",
        "    print(result['summary'])"
      ],
      "metadata": {
        "colab": {
          "base_uri": "https://localhost:8080/"
        },
        "id": "OoklkgheB1Hb",
        "outputId": "ebf61723-6fc9-4415-af94-a6b0bd175378"
      },
      "execution_count": 62,
      "outputs": [
        {
          "output_type": "stream",
          "name": "stdout",
          "text": [
            "\n",
            "Retrieved Documents:\n",
            "\n",
            "Document 1 (Similarity: 0.717):\n",
            "Make: FORD Model: FOCUS Year: 2001 Summary: CERTAIN PASSENGER VEHICLES EQUIPPED WITH ZETEC ENGINES, LOOSE OR BROKEN ATTACHMENTS AND MISROUTED BATTERY CABLES COULD LEAD TO CABLE INSULATION DAMAGE. --- THIS, IN TURN, COULD CAUSE THE BATTERY CABLES TO SHORT RESULTING IN HEAT DAMAGE TO THE CABLES.  BESIDES HEAT DAMAGE, THE \"CHECK ENGINE\" LIGHT MAY ILLUMINATE, THE VEHICLE MAY FAIL TO START, OR SMOKE, MELTING, OR FIRE COULD ALSO OCCUR. --- DEALERS WILL INSPECT THE BATTERY CABLES FOR THE CONDITION OF THE CABLE INSULATION AND PROPER TIGHTENING OF THE TERMINAL ENDS.  AS NECESSARY, CABLES WILL BE REROUTED, RETAINING CLIPS INSTALLED, AND DAMAGED BATTERY CABLES REPLACED.   OWNER NOTIFICATION BEGAN FEBRUARY 10, 2003.   OWNERS WHO DO NOT RECEIVE THE FREE REMEDY  WITHIN A REASONABLE TIME SHOULD CONTACT FORD AT 1-866-436-7332.\n",
            "\n",
            "Document 2 (Similarity: 0.705):\n",
            "Make: FORD Model: FOCUS Year: 2000 Summary: CERTAIN PASSENGER VEHICLES EQUIPPED WITH ZETEC ENGINES, LOOSE OR BROKEN ATTACHMENTS AND MISROUTED BATTERY CABLES COULD LEAD TO CABLE INSULATION DAMAGE. --- THIS, IN TURN, COULD CAUSE THE BATTERY CABLES TO SHORT RESULTING IN HEAT DAMAGE TO THE CABLES.  BESIDES HEAT DAMAGE, THE \"CHECK ENGINE\" LIGHT MAY ILLUMINATE, THE VEHICLE MAY FAIL TO START, OR SMOKE, MELTING, OR FIRE COULD ALSO OCCUR. --- DEALERS WILL INSPECT THE BATTERY CABLES FOR THE CONDITION OF THE CABLE INSULATION AND PROPER TIGHTENING OF THE TERMINAL ENDS.  AS NECESSARY, CABLES WILL BE REROUTED, RETAINING CLIPS INSTALLED, AND DAMAGED BATTERY CABLES REPLACED.   OWNER NOTIFICATION BEGAN FEBRUARY 10, 2003.   OWNERS WHO DO NOT RECEIVE THE FREE REMEDY  WITHIN A REASONABLE TIME SHOULD CONTACT FORD AT 1-866-436-7332.\n",
            "\n",
            "Document 3 (Similarity: 0.573):\n",
            "Make: FORD Model: F SUPER DUTY Year: 1997 Summary: A PLASTIC COATED STEEL SUPPORT STRAP FOR THE BATTERY CABLE WAS DAMAGED WHEN IT WAS CRIMPED ONTO THE CABLE. --- THIS DAMAGE CAN RESULT IN THE BATTERY CABLE DEVELOPING A SHORT TO GROUND.  A SHORTED BATTERY CABLE CAN RESULT IN A VEHICLE FIRE. --- DEALERS WILL INSPECT THE CABLE INSULATION AND REPLACE THE SUPPORT STRAP WITH A REVISED, UNCRIMPED STRAP ATTACHED WITH TAPE.  IN ADDITION, CONVOLUTE WILL BE ADDED BETWEEN THE CABLE AND THE SUPPORT STRAP.  DAMAGED BATTERY CABLES WILL BE REPLACED.\n",
            "\n",
            "Generated Summary:\n",
            "The issue of broken attachments and misrouted battery cables has been identified in the Ford Focus model year 2003. \n",
            "This issue can cause the battery cables to short, resulting in heat damage to the cables, the \"check engine\" light to illuminate, the vehicle to fail to start, or smoke, melting, or fire to occur. \n",
            "Dealers will inspect the battery cables for the condition of the cable insulation and proper tightening of the terminal ends. \n",
            "As necessary, cables will be rerouted, retaining clips installed, and damaged battery cables replaced. \n",
            "Owner notification began February 10, 2003. \n",
            "Owners who do not receive the free remedy within a reasonable time should contact Ford at 1-866-436-7332.\n",
            "No mismatch found in make, model, or year.  I have found a match in make and model but a discrepancy in year. Document 1 and Document 2 have year 2001 and 2000 respectively but the summary is regarding the year 2003.  However, the summary still matches the issue of broken attachments and misrouted battery cables.  The year discrepancy is likely due to a typo in the summary.  The issue is still relevant for the Ford Focus model year 2003.  I have also found a mismatch in make, model, and year in Document 3.  It is regarding the Ford F Super Duty model year 1997 which is unrelated to the issue of broken attachments and misrouted battery cables.  However, the issue of broken attachments and misrouted battery cables is still relevant for the Ford Focus model year 2003.  The information provided is based on the documents available.  If you have any further questions, please let me know.  I have found a match in make and model but a discrepancy in year. Document 1 and Document 2 have year 2001 and 2000 respectively but the summary is regarding the year 2003.  However, the summary still matches the issue of broken attachments and misrouted battery cables.  The year discrepancy is likely due to a typo in the summary.  The issue is still relevant for the Ford Focus model year 2003.  I have also found a mismatch in make, model, and year in Document 3.  It is regarding the Ford F Super Duty model year 1997 which is unrelated to the issue of broken attachments and misrouted battery cables.  However, the issue of broken attachments and misrouted battery cables\n"
          ]
        }
      ]
    },
    {
      "cell_type": "markdown",
      "source": [
        "Above generated with lower similarity score than previous example"
      ],
      "metadata": {
        "id": "ndTjTXe7LsVO"
      }
    },
    {
      "cell_type": "markdown",
      "source": [
        "Giving wrong model"
      ],
      "metadata": {
        "id": "kpIlseanQnj6"
      }
    },
    {
      "cell_type": "code",
      "source": [
        "if __name__ == \"__main__\":\n",
        "\n",
        "\n",
        "    query = {\n",
        "        'make': 'ford',\n",
        "        'model': 'expedition',\n",
        "        'year': '2001',\n",
        "        'issue': 'broken attachments and misrouted battery cables'\n",
        "    }\n",
        "\n",
        "    # Process query\n",
        "    result = agent.process_query(query)\n",
        "\n",
        "    # Print results\n",
        "    print(\"\\nRetrieved Documents:\")\n",
        "    for i, (score, doc) in enumerate(result['retrieved_documents'], 1):\n",
        "        print(f\"\\nDocument {i} (Similarity: {score:.3f}):\")\n",
        "        print(doc)\n",
        "\n",
        "    print(\"\\nGenerated Summary:\")\n",
        "    print(result['summary'])"
      ],
      "metadata": {
        "colab": {
          "base_uri": "https://localhost:8080/"
        },
        "id": "G4pMGMJiENWK",
        "outputId": "e52c3c6d-e542-4b8f-e527-9850c000ea4b"
      },
      "execution_count": 63,
      "outputs": [
        {
          "output_type": "stream",
          "name": "stdout",
          "text": [
            "\n",
            "Retrieved Documents:\n",
            "\n",
            "Document 1 (Similarity: 0.624):\n",
            "Make: FORD Model: EXPEDITION Year: 1999 Summary: VEHICLE DESCRIPTION:  SPORT UTILITY VEHICLES.  THE FUEL LINE ASSEMBLIES MAY HAVE BEEN DAMAGED BY THE SUPPLIER DURING MANUFACTURING, ALLOWING LEAKAGE. --- FUEL LEAKAGE IN THE PRESENCE OF AN IGNITION SOURCE CAN RESULT IN A FIRE. --- DEALERS WILL INSPECT THESE VEHICLES AND, IF NECESSARY, REPLACE THE FRONT AND REAR FUEL LINE ASSEMBLIES.\n",
            "\n",
            "Document 2 (Similarity: 0.618):\n",
            "Make: FORD Model: FOCUS Year: 2001 Summary: CERTAIN PASSENGER VEHICLES EQUIPPED WITH ZETEC ENGINES, LOOSE OR BROKEN ATTACHMENTS AND MISROUTED BATTERY CABLES COULD LEAD TO CABLE INSULATION DAMAGE. --- THIS, IN TURN, COULD CAUSE THE BATTERY CABLES TO SHORT RESULTING IN HEAT DAMAGE TO THE CABLES.  BESIDES HEAT DAMAGE, THE \"CHECK ENGINE\" LIGHT MAY ILLUMINATE, THE VEHICLE MAY FAIL TO START, OR SMOKE, MELTING, OR FIRE COULD ALSO OCCUR. --- DEALERS WILL INSPECT THE BATTERY CABLES FOR THE CONDITION OF THE CABLE INSULATION AND PROPER TIGHTENING OF THE TERMINAL ENDS.  AS NECESSARY, CABLES WILL BE REROUTED, RETAINING CLIPS INSTALLED, AND DAMAGED BATTERY CABLES REPLACED.   OWNER NOTIFICATION BEGAN FEBRUARY 10, 2003.   OWNERS WHO DO NOT RECEIVE THE FREE REMEDY  WITHIN A REASONABLE TIME SHOULD CONTACT FORD AT 1-866-436-7332.\n",
            "\n",
            "Document 3 (Similarity: 0.605):\n",
            "Make: FORD Model: FOCUS Year: 2000 Summary: CERTAIN PASSENGER VEHICLES EQUIPPED WITH ZETEC ENGINES, LOOSE OR BROKEN ATTACHMENTS AND MISROUTED BATTERY CABLES COULD LEAD TO CABLE INSULATION DAMAGE. --- THIS, IN TURN, COULD CAUSE THE BATTERY CABLES TO SHORT RESULTING IN HEAT DAMAGE TO THE CABLES.  BESIDES HEAT DAMAGE, THE \"CHECK ENGINE\" LIGHT MAY ILLUMINATE, THE VEHICLE MAY FAIL TO START, OR SMOKE, MELTING, OR FIRE COULD ALSO OCCUR. --- DEALERS WILL INSPECT THE BATTERY CABLES FOR THE CONDITION OF THE CABLE INSULATION AND PROPER TIGHTENING OF THE TERMINAL ENDS.  AS NECESSARY, CABLES WILL BE REROUTED, RETAINING CLIPS INSTALLED, AND DAMAGED BATTERY CABLES REPLACED.   OWNER NOTIFICATION BEGAN FEBRUARY 10, 2003.   OWNERS WHO DO NOT RECEIVE THE FREE REMEDY  WITHIN A REASONABLE TIME SHOULD CONTACT FORD AT 1-866-436-7332.\n",
            "\n",
            "Generated Summary:\n",
            "No mismatch in make model or year. \n",
            "Summary for the Make: ford Model: expedition Year: 2001 regarding the issue: broken attachments and misrouted battery cables is not found in the provided documents. However, based on the similarity of the issue with the Make: ford Model: focus Year: 2000 and Year: 2001, it can be assumed that the issue may be related to loose or broken attachments and misrouted battery cables leading to cable insulation damage, heat damage to the cables, and potential fire.  The remedy would involve inspecting the battery cables, rerouting them as necessary, installing retaining clips, and replacing damaged battery cables.  Owner notification would begin, and owners without a remedy within a reasonable time should contact Ford at 1-866-436-7332.  However, this is a general assumption based on the provided documents and not a direct summary for the Make: ford Model: expedition Year: 2001.  The actual remedy for the Make: ford Model: expedition Year: 2001 would need to be verified through further documentation or communication with the manufacturer.  A potential remedy would be to inspect the battery cables for the condition of the cable insulation and proper tightening of the terminal ends.  As necessary, cables would be rerouted, retaining clips installed, and damaged battery cables replaced.  Owner notification would begin, and owners without a remedy within a reasonable time should contact Ford at 1-866-436-7332.  However, this is a general assumption based on the provided documents and not a direct summary for the Make: ford Model: expedition Year: 2001.  The actual remedy for the Make: ford Model: expedition Year: 2001 would need to be verified through further documentation or communication with the manufacturer.  A potential remedy would be to inspect the battery cables for the condition of the cable insulation and proper tightening of the terminal ends.  As necessary, cables would be rerouted, retaining clips installed, and damaged battery cables replaced.  Owner notification would begin, and owners without a remedy within a reasonable time should contact Ford at 1-866-436-7332.  However, this is a general assumption based on the provided documents and not a direct summary for the Make: ford Model: expedition Year: 2001.  The actual remedy for the Make: ford Model: expedition Year: 2001 would need to be verified through further documentation or communication with the manufacturer.  A potential remedy would be to\n"
          ]
        }
      ]
    },
    {
      "cell_type": "markdown",
      "source": [
        "Correctly identifies and summarizes"
      ],
      "metadata": {
        "id": "mY5giJcdQrva"
      }
    },
    {
      "cell_type": "markdown",
      "source": [
        "####Method 2:"
      ],
      "metadata": {
        "id": "6XmJ6aAweoA8"
      }
    },
    {
      "cell_type": "markdown",
      "source": [
        " This method is an implementation which filter rows based on vehicle details (make, model and year) first and then perform similarity search on the filtered subset, with precomputed embeddings."
      ],
      "metadata": {
        "id": "fZYVgwtCRunM"
      }
    },
    {
      "cell_type": "code",
      "source": [
        "class AutoIssueAgent:\n",
        "    def __init__(self, data_path: str, embedding_model: str = 'all-MiniLM-L6-v2'):\n",
        "        \"\"\"\n",
        "        Initializes the automotive issue summarization agent.\n",
        "\n",
        "        \"\"\"\n",
        "\n",
        "        # Load and preprocess the dataset\n",
        "        self.df = pd.read_csv(data_path)\n",
        "        self.df = self.df.fillna('')\n",
        "\n",
        "        # Convert make, model, year to lowercase for case-insensitive matching\n",
        "        self.df['make'] = self.df['make'].str.lower()\n",
        "        self.df['model'] = self.df['model'].str.lower()\n",
        "        self.df['year'] = self.df['year'].astype(str)\n",
        "\n",
        "        # Initialize the embedding model\n",
        "        self.embedding_model = SentenceTransformer(embedding_model)\n",
        "\n",
        "        # Create dictionary to store precomputed embeddings for each unique combination\n",
        "        self.precomputed_embeddings = {}\n",
        "        self._precompute_embeddings()\n",
        "\n",
        "\n",
        "        self.model = model\n",
        "        self.tokenizer = tokenizer\n",
        "\n",
        "        # Create summarization pipeline\n",
        "        self.summarizer = pipeline(\n",
        "            \"text-generation\",\n",
        "            model=self.model,\n",
        "            tokenizer=self.tokenizer,\n",
        "            max_new_tokens=512,\n",
        "            temperature=0.7\n",
        "        )\n",
        "\n",
        "    def _precompute_embeddings(self):\n",
        "        \"\"\"\n",
        "        Precomputes embeddings for each unique make-model-year combination.\n",
        "        Stores them in a dictionary for quick access.\n",
        "        \"\"\"\n",
        "        # Group by make, model, year\n",
        "        groups = self.df.groupby(['make', 'model', 'year'])\n",
        "\n",
        "        for (make, model, year), group in groups:\n",
        "            key = (make, model, year)\n",
        "            summaries = group['summary'].tolist()\n",
        "\n",
        "            # Compute embeddings for all summaries in this group\n",
        "            embeddings = self.embedding_model.encode(\n",
        "                summaries,\n",
        "                show_progress_bar=False,\n",
        "                convert_to_tensor=True\n",
        "            )\n",
        "\n",
        "            # Store embeddings and corresponding summaries\n",
        "            self.precomputed_embeddings[key] = {\n",
        "                'embeddings': embeddings,\n",
        "                'summaries': summaries\n",
        "            }\n",
        "\n",
        "    def retrieve_relevant_documents(self, query: Dict, top_k: int = 3) -> List[Tuple[float, str]]:\n",
        "        \"\"\"\n",
        "        Retrieve the most relevant documents based on the input query.\n",
        "        First filters by make, model, year, then performs similarity search.\n",
        "\n",
        "        Returns a list of tuples containing (similarity_score, document_text)\n",
        "        \"\"\"\n",
        "        # Normalize query values\n",
        "        make = query['make'].lower()\n",
        "        model = query['model'].lower()\n",
        "        year = str(query['year'])\n",
        "        key = (make, model, year)\n",
        "\n",
        "        # Check if we have documents for this vehicle\n",
        "        if key not in self.precomputed_embeddings:\n",
        "            return []\n",
        "\n",
        "        # Get precomputed embeddings and summaries for this vehicle\n",
        "        vehicle_data = self.precomputed_embeddings[key]\n",
        "        embeddings = vehicle_data['embeddings']\n",
        "        summaries = vehicle_data['summaries']\n",
        "\n",
        "        # If no documents found for this vehicle\n",
        "        if len(summaries) == 0:\n",
        "            return []\n",
        "\n",
        "        # Encode the issue query\n",
        "        query_embedding = self.embedding_model.encode(query['issue'], convert_to_tensor=True)\n",
        "\n",
        "        # Calculate similarities with the filtered set of documents\n",
        "        similarities = cosine_similarity(\n",
        "            query_embedding.cpu().numpy().reshape(1, -1),\n",
        "            embeddings.cpu().numpy()\n",
        "        )[0]\n",
        "\n",
        "        # Get top-k most similar documents\n",
        "        top_k = min(top_k, len(similarities))\n",
        "        top_indices = np.argsort(similarities)[-top_k:][::-1]\n",
        "\n",
        "        return [(similarities[i], summaries[i]) for i in top_indices]\n",
        "\n",
        "    def generate_summary(self, relevant_docs: List[Tuple[float, str]], query: Dict) -> str:\n",
        "\n",
        "        if not relevant_docs:\n",
        "            return f\"No relevant documents found for {query['year']} {query['make']} {query['model']}.\"\n",
        "\n",
        "        # Create prompt\n",
        "        context = \"\\n\".join([f\"Document {i+1} (similarity: {score:.3f}):\\n{doc}\"\n",
        "                           for i, (score, doc) in enumerate(relevant_docs)])\n",
        "\n",
        "\n",
        "        prompt = f\"\"\"Based on the following documents about automotive issues, provide a concise summary\n",
        "        for a Make: {query['make']} Model: {query['model']} Year: {query['year']} regarding the issue: {query['issue']}.\n",
        "\n",
        "        Generate only summary.\n",
        "        Do not generate follow up and final answer or Note or Disclaimer.\n",
        "        Do not repeat yourself in generated text.\n",
        "\n",
        "        Reference Documents:\n",
        "        {context}\n",
        "\n",
        "        Summary:\"\"\"\n",
        "\n",
        "\n",
        "        response = self.summarizer(prompt)[0]['generated_text']\n",
        "\n",
        "\n",
        "        summary = response.split(\"Summary:\")[-1].strip()\n",
        "\n",
        "        return summary\n",
        "\n",
        "    def process_query(self, query: Dict) -> Dict:\n",
        "        \"\"\"\n",
        "        Processes a query and return relevant documents and summary.\n",
        "\n",
        "        \"\"\"\n",
        "\n",
        "        relevant_docs = self.retrieve_relevant_documents(query)\n",
        "\n",
        "\n",
        "        summary = self.generate_summary(relevant_docs, query)\n",
        "\n",
        "        return {\n",
        "            'retrieved_documents': relevant_docs,\n",
        "            'summary': summary\n",
        "        }\n",
        "\n"
      ],
      "metadata": {
        "id": "Le0f3PFT3hQX"
      },
      "execution_count": 77,
      "outputs": []
    },
    {
      "cell_type": "code",
      "source": [
        "# Initialize agent\n",
        "agent = AutoIssueAgent(\"data.csv\")"
      ],
      "metadata": {
        "id": "Iaot_4vjTP1_"
      },
      "execution_count": 78,
      "outputs": []
    },
    {
      "cell_type": "code",
      "source": [
        "\n",
        "if __name__ == \"__main__\":\n",
        "\n",
        "    query = {\n",
        "        'make': 'ford',\n",
        "        'model': 'focus',\n",
        "        'year': '2001',\n",
        "        'issue': 'broken attachments and misrouted battery cables'\n",
        "    }\n",
        "\n",
        "\n",
        "    result = agent.process_query(query)\n",
        "\n",
        "    print(\"\\nRetrieved Documents:\")\n",
        "    for i, (score, doc) in enumerate(result['retrieved_documents'], 1):\n",
        "        print(f\"\\nDocument {i} (Similarity: {score:.3f}):\")\n",
        "        print(doc)\n",
        "\n",
        "    print(\"\\nGenerated Summary:\")\n",
        "    print(result['summary'])"
      ],
      "metadata": {
        "colab": {
          "base_uri": "https://localhost:8080/"
        },
        "id": "CvylRN-oZOFT",
        "outputId": "6cacf159-d1eb-4ace-fcf7-901d3725cd8a"
      },
      "execution_count": 79,
      "outputs": [
        {
          "output_type": "stream",
          "name": "stdout",
          "text": [
            "\n",
            "Retrieved Documents:\n",
            "\n",
            "Document 1 (Similarity: 0.522):\n",
            "CERTAIN PASSENGER VEHICLES EQUIPPED WITH ZETEC ENGINES, LOOSE OR BROKEN ATTACHMENTS AND MISROUTED BATTERY CABLES COULD LEAD TO CABLE INSULATION DAMAGE. --- THIS, IN TURN, COULD CAUSE THE BATTERY CABLES TO SHORT RESULTING IN HEAT DAMAGE TO THE CABLES.  BESIDES HEAT DAMAGE, THE \"CHECK ENGINE\" LIGHT MAY ILLUMINATE, THE VEHICLE MAY FAIL TO START, OR SMOKE, MELTING, OR FIRE COULD ALSO OCCUR. --- DEALERS WILL INSPECT THE BATTERY CABLES FOR THE CONDITION OF THE CABLE INSULATION AND PROPER TIGHTENING OF THE TERMINAL ENDS.  AS NECESSARY, CABLES WILL BE REROUTED, RETAINING CLIPS INSTALLED, AND DAMAGED BATTERY CABLES REPLACED.   OWNER NOTIFICATION BEGAN FEBRUARY 10, 2003.   OWNERS WHO DO NOT RECEIVE THE FREE REMEDY  WITHIN A REASONABLE TIME SHOULD CONTACT FORD AT 1-866-436-7332.\n",
            "\n",
            "Document 2 (Similarity: 0.234):\n",
            "PM CERTAIN SEDANS AND WAGONS, THE SEAT BACK RECLINER HANDLE SPRING COULD HAVE BEEN DAMAGED DURING AN IN-PROCESS TEST AND THE OCCUPANT MAY NOTICE A CHUCKING, OR PERCEIVED LOOSENESS OF THE FRONT SEAT BACK, OR THE SEAT BACK COULD UNEXPECTEDLY RECLINE. --- IF THE SEAT BACK UNEXPECTEDLY RECLINES WHILE THE CAR IS BEING DRIVEN, IT COULD RESULT IN LOSS OF VEHICLE CONTROL. --- DEALERS WILL REPLACE THE SEAT BACK RECLINER HANDLE SPRING FOR THE DRIVER AND FRONT PASSENGER SEATS.  OWNER NOTIFICATION BEGAN APRIL 3, 2001.   OWNERS WHO TAKE THEIR VEHICLES TO AN AUTHORIZED DEALER ON AN AGREED UPON SERVICE DATE AND DO NOT RECEIVE THE FREE REMEDY WITHIN A REASONABLE TIME SHOULD CONTACT FORD AT 1-800-392-3673.\n",
            "\n",
            "Document 3 (Similarity: 0.196):\n",
            "CERTAIN PASSENGER VEHICLES HAVE LOOSE PINCH BOLTS THAT SECURE THE LOWER CONTROL ARM TO THE STEERING KNUCKLE HAVE BEEN REPORTED. --- LOOSE PINCH BOLTS COULD EXHIBIT NOISE, VIBRATION AND, IN EXTREME CASES IF LEFT UNCORRECTED, SEPARATION OF THE JOINT OR FRACTURE OF THE BALL JOINT STUD, INCREASING THE RISK OF A CRASH. --- DEALERS WILL INSPECT THE STEERING KNUCKLE PINCH BOLT FOR TIGHTNESS AND CORRECT AS NECESSARY.  OWNER NOTIFICATION BEGAN FEBRUARY 10, 2003.   OWNERS WHO DO NOT RECEIVE THE FREE REMEDY  WITHIN A REASONABLE TIME SHOULD CONTACT FORD AT 1-866-436-7332.\n",
            "\n",
            "Generated Summary:\n",
            "The 2001 Ford Focus may have a problem with broken attachments and misrouted battery cables. If the cables are damaged, it could lead to cable insulation damage, causing the battery cables to short, resulting in heat damage, a \"check engine\" light, a failed start, or smoke/melting/fire. The issue is related to the improper tightening of the terminal ends and cable insulation. Dealers will inspect and replace the damaged cables, reroute the cables, and install retaining clips as necessary. Owners may contact Ford at 1-866-436-7332 for more information.       \n",
            "        \n",
            "        Note: This summary is based on Document 1, which is the most relevant document to the issue. The other documents mention unrelated issues.        \n",
            "        Disclaimer: This summary is provided for general information purposes only and may not be applicable to your specific situation. Please consult a professional mechanic or Ford dealership for a proper assessment and repair.        \n",
            "        Note: The summary is a concise version of the information provided in the referenced document and may not include all the details.       \n",
            "        \n",
            "        Final Answer: The summary is the final answer to the problem. It provides a concise version of the information related to the issue of broken attachments and misrouted battery cables in the 2001 Ford Focus.        \n",
            "        Note: The summary is based on the information provided in Document 1 and may not be applicable to other Ford models or years.       \n",
            "        \n",
            "        Disclaimer: The summary is provided as a general information source only and may not be applicable to your specific situation. Please consult a professional mechanic or Ford dealership for a proper assessment and repair.        \n",
            "        Note: This summary is based on the information provided in the referenced document and may not include all the details.       \n",
            "        \n",
            "        Follow-up: If you have any further questions or concerns regarding the issue of broken attachments and misrouted battery cables in the 2001 Ford Focus, please contact Ford at 1-866-436-7332 or consult a professional mechanic or Ford dealership.        \n",
            "        Note: The summary is a concise version of the information provided in the referenced document and may not include all the details.       \n",
            "        \n",
            "        Final Answer: The summary is the final answer to the problem. It provides a concise version of the information related to the issue of broken attachments and misrouted battery cables in the 2001 Ford Focus.        \n",
            "        Note: The summary is based on the information provided in Document 1 and may not be applicable to other Ford models or years.        \n",
            "        Disclaimer: The\n"
          ]
        }
      ]
    },
    {
      "cell_type": "markdown",
      "source": [
        "##### More Examples"
      ],
      "metadata": {
        "id": "WMj651JwXaSO"
      }
    },
    {
      "cell_type": "markdown",
      "source": [
        "Actual year 2001 or 2002"
      ],
      "metadata": {
        "id": "RGu4NzX0XknO"
      }
    },
    {
      "cell_type": "code",
      "source": [
        "\n",
        "if __name__ == \"__main__\":\n",
        "\n",
        "    query = {\n",
        "        'make': 'ford',\n",
        "        'model': 'focus',\n",
        "        'year': '2003',\n",
        "        'issue': 'broken attachments and misrouted battery cables'\n",
        "    }\n",
        "\n",
        "\n",
        "    result = agent.process_query(query)\n",
        "\n",
        "    print(\"\\nRetrieved Documents:\")\n",
        "    for i, (score, doc) in enumerate(result['retrieved_documents'], 1):\n",
        "        print(f\"\\nDocument {i} (Similarity: {score:.3f}):\")\n",
        "        print(doc)\n",
        "\n",
        "    print(\"\\nGenerated Summary:\")\n",
        "    print(result['summary'])"
      ],
      "metadata": {
        "colab": {
          "base_uri": "https://localhost:8080/"
        },
        "id": "rO1gjv2dXf1k",
        "outputId": "59db2ef5-9507-443b-e7fb-79105b09b491"
      },
      "execution_count": 70,
      "outputs": [
        {
          "output_type": "stream",
          "name": "stdout",
          "text": [
            "\n",
            "Retrieved Documents:\n",
            "\n",
            "Document 1 (Similarity: 0.208):\n",
            "CERTAIN AFTERMARKET FUEL FILTERS SOLD UNDER THE PUROLATOR BRAND NAME, P/N F65277, SHIPPED FROM JANUARY 16 THROUGH JUNE 2, 2006, FOR USE ON THE ABOVE LISTED PASSENGER VEHICLES.  DUE TO INCORRECT DESIGN, THE QUICK CONNECTORS MAY NOT FULLY SEAT WITH THE TUBE INTERFACE, EVEN THOUGH THE PERSON MAKING THE CONNECTION MAY BELIEVE THAT THE QUICK CONNECTOR IS FULLY ATTACHED.   --- FAILURE OF THIS CONNECTION COULD LEAD TO FUEL SPILLAGE AND, IN THE PRESENCE OF AN IGNITION SOURCE, A FIRE COULD OCCUR. --- UFI WILL NOTIFY OWNERS AND REPLACE THE FILTERS FREE OF CHARGE.  THE RECALL BEGAN ON AUGUST 4, 2006.  OWNERS MAY CONTACT UFI FILTERS USA AT 800-230-5876.\n",
            "\n",
            "Document 2 (Similarity: 0.189):\n",
            "RIDE CONTROL, LLC (RIDE CONTROL) IS RECALLING CERTAIN READYMOUNT ASSEMBLIES, P/N 746641MT AND 746646MT, WITH CORRESPONDING AFTERMARKET CUSTOMER PART NUMBERS: GABRIEL G56944 AND GABRIEL G56945, AND PRIVATELY BRANDED PARTSMASTER WITH PART NUMBERS G68944 AND G68945.  THE READYMOUNT ASSEMBLIES WERE SOLD AS AFTERMARKET SERVICE EQUIPMENT FOR USE ON CERTAIN 2000 THROUGH 2005 FORD FOCUS VEHICLES.  THESE ASSEMBLIES WERE ASSEMBLED WITH A NUT WITHOUT THE NECESSARY WASHER.  THE ABSENCE OF THE WASHER CAN ALLOW THE READYMOUNT ASSEMBLY TO PULL APART THE TOP MOUNT. --- IF THE ASSEMBLY SEPARATES DURING INSTALLATION, IT COULD RESULT IN INJURY TO THE INSTALLER.  IF THE ASSEMBLY SEPARATES WHILE THE VEHICLE IS IN MOTION, IT COULD RESULT IN SECONDARY DAMAGE TO THE VEHICLE AND POSSIBLY RESULT IN A VEHICLE CRASH. --- RIDE CONTROL WILL NOTIFY OWNERS AND WILL SET UP PROCEDURES TO INSPECT, REPAIR, AND/OR REPLACE THE AFFECTED PARTS WITHOUT CHARGE TO THE OWNER.  THE SAFETY RECALL BEGAN ON MARCH 30, 2012.  OWNERS MAY CONTACT RIDE CONTROL AT 1-800-999-3903.\n",
            "\n",
            "Document 3 (Similarity: 0.182):\n",
            "CERTAIN PRO-A MOTORS CORNER LAMPS, TURN SIGNALS, AND HEADLIGHTS SOLD AS REPLACEMENT LAMPS FOR USE ON CERTAIN PASSENGER VEHICLES LISTED ABOVE.  SOME COMBINATION LAMPS THAT ARE NOT EQUIPPED WITH AMBER SIDE REFLECTORS FAIL TO CONFORM TO FEDERAL MOTOR VEHICLE SAFETY STANDARD NO. 108, LAMPS, REFLECTIVE DEVICES, AND ASSOCIATED EQUIPMENT. --- WITHOUT THE AMBER REFLECTORS, THE VEHICLE WILL BE POORLY ILLUMINATED, POSSIBLY RESULTING IN A VEHICLE CRASH WITHOUT WARNING. --- PRO-A MOTORS WILL NOTIFY OWNERS AND OFFER TO REPURCHASE THE LAMPS.  THE RECALL BEGAN ON APRIL 3, 2006.  OWNERS MAY CONTACT PRO-A MOTORS AT 323-838-2988.\n",
            "\n",
            "Generated Summary:\n",
            "For the 2003 Ford Focus, there is no information available regarding broken attachments or misrouted battery cables in the provided documents. However, it is recommended to consult the vehicle's owner's manual or contact a dealership or mechanic for guidance on proper maintenance and repair procedures. Additionally, it is suggested to verify the authenticity and quality of any aftermarket parts or accessories before installation.  Proper installation and maintenance can help prevent potential issues and ensure the vehicle's safety and performance.  Regular checks on the vehicle's electrical system, including the battery cables, are also recommended to ensure they are properly secured and not damaged.   A visual inspection of the vehicle's electrical system can help identify any potential issues before they become major problems.   It is also suggested to consult with a professional mechanic for any maintenance or repair issues.  In summary, regular maintenance and proper installation of parts can help prevent issues related to broken attachments and misrouted battery cables.    It is also recommended to consult with a professional mechanic for any maintenance or repair issues.    The vehicle's owner's manual or a dealership can provide guidance on proper maintenance and repair procedures.    A visual inspection of the vehicle's electrical system can help identify any potential issues before they become major problems.    It is also suggested to verify the authenticity and quality of any aftermarket parts or accessories before installation.    It is also recommended to consult with a professional mechanic for any maintenance or repair issues.    Regular checks on the vehicle's electrical system, including the battery cables, are also recommended to ensure they are properly secured and not damaged.    The vehicle's owner's manual or a dealership can provide guidance on proper maintenance and repair procedures.    A visual inspection of the vehicle's electrical system can help identify any potential issues before they become major problems.    It is also suggested to verify the authenticity and quality of any aftermarket parts or accessories before installation.    It is also recommended to consult with a professional mechanic for any maintenance or repair issues.    Regular checks on the vehicle's electrical system, including the battery cables, are also recommended to ensure they are properly secured and not damaged.    The vehicle's owner's manual or a dealership can provide guidance on proper maintenance and repair procedures.    A visual inspection of the vehicle's electrical system can help identify any potential issues before they become major problems.    It is also suggested to verify the authenticity and quality of any aftermarket parts or accessories before installation.    It is also recommended to consult with a professional mechanic for any maintenance or repair issues.    Regular checks on the vehicle's electrical system\n"
          ]
        }
      ]
    },
    {
      "cell_type": "markdown",
      "source": [
        "Very deterministic and less hallucination"
      ],
      "metadata": {
        "id": "h5XxWdwgX8RS"
      }
    },
    {
      "cell_type": "markdown",
      "source": [
        "Model mis match"
      ],
      "metadata": {
        "id": "r06NuDx0X2yz"
      }
    },
    {
      "cell_type": "code",
      "source": [
        "\n",
        "if __name__ == \"__main__\":\n",
        "\n",
        "    query = {\n",
        "        'make': 'ford',\n",
        "        'model': 'expedition',\n",
        "        'year': '2001',\n",
        "        'issue': 'broken attachments and misrouted battery cables'\n",
        "    }\n",
        "\n",
        "\n",
        "    result = agent.process_query(query)\n",
        "\n",
        "    print(\"\\nRetrieved Documents:\")\n",
        "    for i, (score, doc) in enumerate(result['retrieved_documents'], 1):\n",
        "        print(f\"\\nDocument {i} (Similarity: {score:.3f}):\")\n",
        "        print(doc)\n",
        "\n",
        "    print(\"\\nGenerated Summary:\")\n",
        "    print(result['summary'])"
      ],
      "metadata": {
        "colab": {
          "base_uri": "https://localhost:8080/"
        },
        "id": "ymhQqHXYXuEi",
        "outputId": "53a7d2b2-572f-41a1-96c7-12d18ca3717e"
      },
      "execution_count": 71,
      "outputs": [
        {
          "output_type": "stream",
          "name": "stdout",
          "text": [
            "\n",
            "Retrieved Documents:\n",
            "\n",
            "Document 1 (Similarity: 0.281):\n",
            "CERTAIN PICKUP TRUCK, VAN, AND MINI VAN CONVERSIONS EQUIPPED WITH SOUTHERN COMFORT BUILT RUNNING BOARDS THAT CONTAIN CERTAIN COURTESY LIGHTS MANUFACTURED BY AMERICAN TECHNOLOGY COMPONENTS, INC.  THESE UNITS CONTAIN A COURTESY LIGHT OR LIGHTS THAT MIGHT OVERHEAT WHEN THE WIRE HARNESS IS EXPOSED TO EXCESSIVE MOISTURE AND ROAD SALT.   --- THIS OVERHEATING CONDITION CAN CAUSE THE RUNNING BOARD TO MELT OR CAUSE A FIRE.   --- DEALERS WILL REPLACE THE WIRING HARNESS ON THESE RUNNING BOARDS.  OWNER NOTIFICATION BEGAN MARCH 7, 2003.  OWNERS WHO TAKE THEIR VEHICLES TO AN AUTHORIZED DEALER ON AN AGREED UPON SERVICE DATE AND DO NOT RECEIVE THE FREE REMEDY WITHIN A REASONABLE TIME SHOULD CONTACT SOUTHERN COMFORT AT 1-800-745-6096.  \n",
            "\n",
            "Document 2 (Similarity: 0.208):\n",
            "CERTAIN AFTERMARKET FUEL FILTERS SOLD UNDER THE PUROLATOR BRAND NAME, P/N F65277, SHIPPED FROM JANUARY 16 THROUGH JUNE 2, 2006, FOR USE ON THE ABOVE LISTED PASSENGER VEHICLES.  DUE TO INCORRECT DESIGN, THE QUICK CONNECTORS MAY NOT FULLY SEAT WITH THE TUBE INTERFACE, EVEN THOUGH THE PERSON MAKING THE CONNECTION MAY BELIEVE THAT THE QUICK CONNECTOR IS FULLY ATTACHED.   --- FAILURE OF THIS CONNECTION COULD LEAD TO FUEL SPILLAGE AND, IN THE PRESENCE OF AN IGNITION SOURCE, A FIRE COULD OCCUR. --- UFI WILL NOTIFY OWNERS AND REPLACE THE FILTERS FREE OF CHARGE.  THE RECALL BEGAN ON AUGUST 4, 2006.  OWNERS MAY CONTACT UFI FILTERS USA AT 800-230-5876.\n",
            "\n",
            "Document 3 (Similarity: 0.159):\n",
            "VEHICLE DESCRIPTION:  PASSENGER AND SPORT UTILITY VEHICLES, PICKUP TRUCKS, AND MINIVANS.  EQUIPPED WITH SEAT BELTS SUPPLIED BY TRW.   IT IS POSSIBLE THAT THE DRIVER'S AND/OR FRONT PASSENGER'S OUTBOARD SEAT BELT BUCKLE MAY NOT FULLY LATCH.  FORD CROWN VICTORIA BUILT AT ST. THOMAS ASSEMBLY PLANT FROM 4/17/00 - 5/29/01  MERCURY GRAND MARQUIS BUILT AT ST. THOMAS ASSEMBLY PLANT FROM 4/17/00 - 5/29/01.  LINCOLN TOWN CARS BUILT AT WIXOM ASSEMBLY PLANT FROM 3/27/00 - 5/30/01.  LINCOLN NAVIGATORS BUILT AT MICHIGAN TRUCK PLANT FROM 4/11/00 - 5/31/01.  FORD WINDSTARS BUILT AT OAKVILLE ASSEMBLY PLANT FROM 3/23/00 - 5/30/01.  FORD RANGERS BUILT AT TWIN CITIES PLANT FROM 3/28/00 - 5/30/01, AND ALSO AT THE EDISON PLANT FROM 3/13/00 - 5/25/01.  FORD F-150 TRUCK BUILT AT NORFOLK PLANT FROM 4/18/00 - 5/25/00; AT ONTARIO PLANT FROM 5/10/00 - 5/28/01; AT KANSAS CITY PLANT FROM 9/11/99 - 5/25/01; AND AT CUAUTITLAN PLANT FROM 5/16/00 - 6/9/01.  FORD SUPER DUTY F-250, F-350, F-450, AND F-550 TRUCKS BUILT AT KENTUCKY PLANT FROM 4/17/00 - 5/27/01; AND AT CUAUTITLAN PLANT FROM 5/16/00 - 6/19/01.  FORD EXCURSIONS BUILT AT KENTUCKY PLANT FROM 4/17/00 - 10/2/00.  FORD EXPEDITIONS BUILT AT MICHIGAN TRUCK PLANT FROM 4/11/00 - 5/31/01. --- IN THE EVENT OF A CRASH, THE RESTRAINT SYSTEM MAY NOT PROVIDE ADEQUATE OCCUPANT PROTECTION, INCREASING THE RISK OF PERSONAL INJURY TO THE SEAT OCCUPANT. --- DEALERS WILL INSPECT THE FRONT OUTBOARD SEAT BELT BUCKLES AND IF THE BUCKLE FAILS THE INSPECTION PROCESS, IT WILL BE REPLACED.  OWNER NOTIFICATION BEGAN JULY 25, 2001.  OWNERS WHO TAKE THEIR VEHICLES TO AN AUTHORIZED DEALER ON AN AGREED UPON SERVICE DATE AND DO NOT RECEIVE THE FREE REMEDY WITHIN A REASONABLE TIME SHOULD CONTACT FORD AT 1-866-436-7332.\n",
            "\n",
            "Generated Summary:\n",
            "The 2001 Ford Expedition may experience broken attachments and misrouted battery cables, leading to a potential fire hazard. However, this issue is not explicitly mentioned in the provided documents. Nevertheless, Document 3 mentions that the vehicle may experience a restraint system malfunction due to a faulty seat belt buckle, and Document 1 describes a courtesy light issue that may cause a fire. Document 2 discusses a fuel filter recall that could lead to a fire. These documents do not directly address the broken attachments and misrouted battery cables issue. Nevertheless, they highlight the importance of inspecting and replacing faulty components to prevent potential fires. The 2001 Ford Expedition owner should be cautious and inspect their vehicle's battery and electrical systems to ensure they are properly secured and routed. If the owner is unsure about any aspect of the vehicle's maintenance, they should consult a professional mechanic or contact the manufacturer for guidance.  The owner should also be aware of the potential risks associated with faulty components and take necessary precautions to mitigate them. \n",
            "The owner should also be aware that the provided documents do not provide a direct solution to the issue of broken attachments and misrouted battery cables. However, they can serve as a guide to help the owner identify and address potential electrical and fire hazards in their vehicle. \n",
            "The owner should inspect the vehicle's battery and electrical systems regularly to ensure they are properly secured and routed. If the owner finds any issues, they should address them promptly to prevent potential problems. The owner should also be aware of the importance of proper maintenance and inspection to prevent electrical and fire hazards. \n",
            "The owner should consult the vehicle's owner's manual or contact a professional mechanic if they are unsure about any aspect of the vehicle's maintenance. \n",
            "The owner should also be aware that the provided documents do not provide a direct solution to the issue of broken attachments and misrouted battery cables. However, they can serve as a guide to help the owner identify and address potential electrical and fire hazards in their vehicle. \n",
            "The owner should inspect the vehicle's battery and electrical systems regularly to ensure they are properly secured and routed. If the owner finds any issues, they should address them promptly to prevent potential problems. The owner should also be aware of the importance of proper maintenance and inspection to prevent electrical and fire hazards. \n",
            "The owner should consult the vehicle's owner's manual or contact a professional mechanic if they are unsure about any aspect of the vehicle's maintenance. \n",
            "The owner should also be aware that the provided documents do not provide a direct solution to the issue of broken\n"
          ]
        }
      ]
    },
    {
      "cell_type": "markdown",
      "source": [
        "Again deterministic and less prone to hallucinations"
      ],
      "metadata": {
        "id": "7HviDzkjYTWd"
      }
    }
  ]
}